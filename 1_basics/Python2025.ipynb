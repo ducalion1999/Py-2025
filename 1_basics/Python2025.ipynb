{
  "nbformat": 4,
  "nbformat_minor": 0,
  "metadata": {
    "colab": {
      "provenance": []
    },
    "kernelspec": {
      "name": "python3",
      "display_name": "Python 3"
    },
    "language_info": {
      "name": "python"
    }
  },
  "cells": [
    {
      "cell_type": "code",
      "execution_count": null,
      "metadata": {
        "id": "0zIVRbSp3ElF",
        "colab": {
          "base_uri": "https://localhost:8080/"
        },
        "outputId": "f9d28ca7-3829-48ab-a548-f68d1dc19918"
      },
      "outputs": [
        {
          "output_type": "stream",
          "name": "stdout",
          "text": [
            "9\n"
          ]
        }
      ],
      "source": [
        "# basic start\n",
        "print(3*3)"
      ]
    },
    {
      "cell_type": "code",
      "source": [
        "# Basics variables\n",
        "# Variable_name = value\n",
        "salary = 10000\n",
        "\"string\"\n",
        "bonus_rate = 0.1\n",
        "total_salary = salary + salary * bonus_rate\n",
        "print(total_salary)"
      ],
      "metadata": {
        "colab": {
          "base_uri": "https://localhost:8080/"
        },
        "id": "Fz5ZS-tVtaTb",
        "outputId": "b58caf07-c4b4-4dd4-8769-c2a8f4b74868"
      },
      "execution_count": null,
      "outputs": [
        {
          "output_type": "stream",
          "name": "stdout",
          "text": [
            "11000.0\n"
          ]
        }
      ]
    },
    {
      "cell_type": "code",
      "source": [
        "Company_name = \"Manan_Patel\"\n",
        "# type() - to check obj type\n",
        "type(Company_name)"
      ],
      "metadata": {
        "colab": {
          "base_uri": "https://localhost:8080/"
        },
        "id": "r7rNJJTTw5Dd",
        "outputId": "ff5b16e8-2cd3-4bf0-b5af-047a5919a00b"
      },
      "execution_count": null,
      "outputs": [
        {
          "output_type": "execute_result",
          "data": {
            "text/plain": [
              "str"
            ]
          },
          "metadata": {},
          "execution_count": 3
        }
      ]
    },
    {
      "cell_type": "code",
      "source": [
        "# Functions\n",
        "# resuable peice of code\n",
        "def greet():\n",
        "  return(\"Hello\")\n",
        "title =\"Analyst\"\n",
        "salary = 100000\n",
        "\n",
        "def display_info(title, salary):\n",
        "  return print(f\"JOB: {title}\\nsalary: {salary}\")"
      ],
      "metadata": {
        "id": "NHaeMyqmynwY"
      },
      "execution_count": null,
      "outputs": []
    },
    {
      "cell_type": "code",
      "source": [
        "display_info(title, salary)\n",
        "type(salary)"
      ],
      "metadata": {
        "colab": {
          "base_uri": "https://localhost:8080/"
        },
        "id": "nmp1COgrzSFn",
        "outputId": "ab662d11-7ee4-4097-e33a-e7b1b571bf75"
      },
      "execution_count": null,
      "outputs": [
        {
          "output_type": "stream",
          "name": "stdout",
          "text": [
            "JOB: Analyst\n",
            "salary: 100000\n"
          ]
        },
        {
          "output_type": "execute_result",
          "data": {
            "text/plain": [
              "int"
            ]
          },
          "metadata": {},
          "execution_count": 5
        }
      ]
    },
    {
      "cell_type": "code",
      "source": [
        "# classes - template for obj\n",
        "# attribute - is variable of an obj.      eg - job.title\n",
        "# method - function of an obj(function defined inside a class). eg --------- job_1.display_info()"
      ],
      "metadata": {
        "id": "JDHfDQ8U0kOj"
      },
      "execution_count": null,
      "outputs": []
    },
    {
      "cell_type": "code",
      "source": [
        "# DATA TYPES --\n",
        "# INT , STring, float, boolean\n",
        "# list, tuple, range - sequence , dict - mapping , set, frozenset - set,  boolean ,\n",
        "#help()\n",
        "# variable.method()\n"
      ],
      "metadata": {
        "id": "ypZ9alYX5WTu"
      },
      "execution_count": null,
      "outputs": []
    },
    {
      "cell_type": "code",
      "source": [
        "# you can convert data types from 1 to another type\n",
        "job_id = 11022\n",
        "type(job_id)\n",
        "job_id = float(job_id)\n",
        "type(job_id)\n"
      ],
      "metadata": {
        "colab": {
          "base_uri": "https://localhost:8080/"
        },
        "id": "EM6-n4v9OsQX",
        "outputId": "0e1a8690-065b-434c-c7cf-d5cf910219df"
      },
      "execution_count": null,
      "outputs": [
        {
          "output_type": "execute_result",
          "data": {
            "text/plain": [
              "float"
            ]
          },
          "metadata": {},
          "execution_count": 8
        }
      ]
    },
    {
      "cell_type": "code",
      "source": [
        "# STRINGGGGGGG -- -- -- -- --\n",
        "\n",
        "# STRING  -- defined in ''\n",
        "# method in strings\n",
        "skill = 'Python'\n",
        "#. help(str) - learn all methods here\n",
        "skill.replace(\"P\",\"j\")\n",
        "\n",
        "\n"
      ],
      "metadata": {
        "colab": {
          "base_uri": "https://localhost:8080/",
          "height": 35
        },
        "id": "0YYGp3vVPHqO",
        "outputId": "83980a9e-3482-4b17-ed3b-a65c1d6d5d44"
      },
      "execution_count": null,
      "outputs": [
        {
          "output_type": "execute_result",
          "data": {
            "text/plain": [
              "'jython'"
            ],
            "application/vnd.google.colaboratory.intrinsic+json": {
              "type": "string"
            }
          },
          "metadata": {},
          "execution_count": 9
        }
      ]
    },
    {
      "cell_type": "code",
      "source": [
        "job = \"data analyst\"\n",
        "job.replace(\"a\",\"o\",2)\n",
        "job.__add__(\" Manan\")"
      ],
      "metadata": {
        "colab": {
          "base_uri": "https://localhost:8080/",
          "height": 35
        },
        "id": "E4HB0AfTYvv6",
        "outputId": "8a2e8ad4-2759-4a07-eb5b-58157072cd36"
      },
      "execution_count": null,
      "outputs": [
        {
          "output_type": "execute_result",
          "data": {
            "text/plain": [
              "'data analyst Manan'"
            ],
            "application/vnd.google.colaboratory.intrinsic+json": {
              "type": "string"
            }
          },
          "metadata": {},
          "execution_count": 10
        }
      ]
    },
    {
      "cell_type": "code",
      "source": [
        "job.split(sep = \" \", maxsplit= 1)"
      ],
      "metadata": {
        "colab": {
          "base_uri": "https://localhost:8080/"
        },
        "id": "T4L5z1Tqb3J6",
        "outputId": "ecce3695-ed8f-4151-d203-c61c77f7f12e"
      },
      "execution_count": null,
      "outputs": [
        {
          "output_type": "execute_result",
          "data": {
            "text/plain": [
              "['data', 'analyst']"
            ]
          },
          "metadata": {},
          "execution_count": 11
        }
      ]
    },
    {
      "cell_type": "code",
      "source": [
        "len(job)"
      ],
      "metadata": {
        "colab": {
          "base_uri": "https://localhost:8080/"
        },
        "id": "tUbG2rJacEcu",
        "outputId": "52e926d5-7809-463a-c2c5-fa018ef2800c"
      },
      "execution_count": null,
      "outputs": [
        {
          "output_type": "execute_result",
          "data": {
            "text/plain": [
              "12"
            ]
          },
          "metadata": {},
          "execution_count": 12
        }
      ]
    },
    {
      "cell_type": "code",
      "source": [
        "#  string formatting\n",
        "# # concat ]\n",
        "role = \"data analyst\"\n",
        "skill = \"python\"\n",
        "\"role: {}\".format(role + \" \" + skill)\n"
      ],
      "metadata": {
        "colab": {
          "base_uri": "https://localhost:8080/",
          "height": 35
        },
        "id": "GIB1D6Qze2rk",
        "outputId": "33da1892-4171-4b02-8b5b-8d34ac164b13"
      },
      "execution_count": null,
      "outputs": [
        {
          "output_type": "execute_result",
          "data": {
            "text/plain": [
              "'role: data analyst python'"
            ],
            "application/vnd.google.colaboratory.intrinsic+json": {
              "type": "string"
            }
          },
          "metadata": {},
          "execution_count": 13
        }
      ]
    },
    {
      "cell_type": "code",
      "source": [
        "\"role: {} ; skill: {}\".format(role,skill)"
      ],
      "metadata": {
        "colab": {
          "base_uri": "https://localhost:8080/",
          "height": 35
        },
        "id": "1KqQB1gUlaiE",
        "outputId": "ea747348-6380-4166-c040-9f1762cc378e"
      },
      "execution_count": null,
      "outputs": [
        {
          "output_type": "execute_result",
          "data": {
            "text/plain": [
              "'role: data analyst ; skill: python'"
            ],
            "application/vnd.google.colaboratory.intrinsic+json": {
              "type": "string"
            }
          },
          "metadata": {},
          "execution_count": 14
        }
      ]
    },
    {
      "cell_type": "code",
      "source": [
        "# F strings\n",
        "f\"role: {role}; skill: {skill}\""
      ],
      "metadata": {
        "colab": {
          "base_uri": "https://localhost:8080/",
          "height": 35
        },
        "id": "kRb4uDNmmiJ5",
        "outputId": "6075a020-a5fa-4b7e-e476-05eb6a039472"
      },
      "execution_count": null,
      "outputs": [
        {
          "output_type": "execute_result",
          "data": {
            "text/plain": [
              "'role: data analyst; skill: python'"
            ],
            "application/vnd.google.colaboratory.intrinsic+json": {
              "type": "string"
            }
          },
          "metadata": {},
          "execution_count": 15
        }
      ]
    },
    {
      "cell_type": "code",
      "source": [
        "# JOIN -- (CONCAT any no of strings)\n",
        "\n",
        "years = \"0123456\"\n",
        "\", \".join(years)"
      ],
      "metadata": {
        "colab": {
          "base_uri": "https://localhost:8080/",
          "height": 35
        },
        "id": "42MPqqH7nkIl",
        "outputId": "06da9eb6-f1e1-43ab-deac-1ebea7d37226"
      },
      "execution_count": null,
      "outputs": [
        {
          "output_type": "execute_result",
          "data": {
            "text/plain": [
              "'0, 1, 2, 3, 4, 5, 6'"
            ],
            "application/vnd.google.colaboratory.intrinsic+json": {
              "type": "string"
            }
          },
          "metadata": {},
          "execution_count": 16
        }
      ]
    },
    {
      "cell_type": "code",
      "source": [
        "# OPERATORS -- -- -- -- --\n",
        "# Arithmetic op\n",
        "4 - 2\n",
        "\"pythion \" + \"is\" + \" easy\""
      ],
      "metadata": {
        "colab": {
          "base_uri": "https://localhost:8080/",
          "height": 35
        },
        "id": "mRQCj78qogC1",
        "outputId": "71594c03-823f-428d-bf20-16fcb658c600"
      },
      "execution_count": null,
      "outputs": [
        {
          "output_type": "execute_result",
          "data": {
            "text/plain": [
              "'pythion is easy'"
            ],
            "application/vnd.google.colaboratory.intrinsic+json": {
              "type": "string"
            }
          },
          "metadata": {},
          "execution_count": 17
        }
      ]
    },
    {
      "cell_type": "code",
      "source": [
        "5 / 2\n",
        "5 // 2\n",
        "5 % 2"
      ],
      "metadata": {
        "colab": {
          "base_uri": "https://localhost:8080/"
        },
        "id": "YvI5UNvf7W9m",
        "outputId": "b317337d-07b8-4d65-b351-0070140eca2a"
      },
      "execution_count": null,
      "outputs": [
        {
          "output_type": "execute_result",
          "data": {
            "text/plain": [
              "1"
            ]
          },
          "metadata": {},
          "execution_count": 18
        }
      ]
    },
    {
      "cell_type": "code",
      "source": [
        "# assignment operator\n",
        "# = , +=, -=, *=, /=, %=, **=\n",
        "a = \"man\"\n",
        "b = \"kell\"\n",
        "a,b = b,a"
      ],
      "metadata": {
        "id": "pkVKZtEMJ3Gu"
      },
      "execution_count": null,
      "outputs": []
    },
    {
      "cell_type": "code",
      "source": [
        "a , b"
      ],
      "metadata": {
        "colab": {
          "base_uri": "https://localhost:8080/"
        },
        "id": "q8P0J2YvK9nn",
        "outputId": "b57e7bf4-8136-40f1-a5f6-baf8d10ff91e"
      },
      "execution_count": null,
      "outputs": [
        {
          "output_type": "execute_result",
          "data": {
            "text/plain": [
              "('kell', 'man')"
            ]
          },
          "metadata": {},
          "execution_count": 20
        }
      ]
    },
    {
      "cell_type": "code",
      "source": [
        "x = 5\n",
        "x+=3"
      ],
      "metadata": {
        "id": "SZILgVU9LHiN"
      },
      "execution_count": null,
      "outputs": []
    },
    {
      "cell_type": "code",
      "source": [
        "x\n"
      ],
      "metadata": {
        "colab": {
          "base_uri": "https://localhost:8080/"
        },
        "id": "RYKE_0wPLXNd",
        "outputId": "878641be-c053-4455-a6d7-a264a1de201a"
      },
      "execution_count": null,
      "outputs": [
        {
          "output_type": "execute_result",
          "data": {
            "text/plain": [
              "8"
            ]
          },
          "metadata": {},
          "execution_count": 22
        }
      ]
    },
    {
      "cell_type": "code",
      "source": [
        "#. comparison Op\n",
        "#.  == , !=, > , < , >=\n",
        "a = 100000\n",
        "b = 120000\n",
        "a == b"
      ],
      "metadata": {
        "colab": {
          "base_uri": "https://localhost:8080/"
        },
        "id": "yrzqeFRCLX_k",
        "outputId": "23784f92-c81e-4c05-cfe9-dd5cfc32c579"
      },
      "execution_count": null,
      "outputs": [
        {
          "output_type": "execute_result",
          "data": {
            "text/plain": [
              "False"
            ]
          },
          "metadata": {},
          "execution_count": 23
        }
      ]
    },
    {
      "cell_type": "code",
      "source": [
        " #. CONDITIONAL STATEMENT\n",
        "# if, elif, else\n",
        "\n",
        "skill_req = \"SQL\"\n",
        "app_skill = \"Python\"\n",
        "years = 3\n",
        "\n",
        "# CONDITIONS :\n",
        "\n",
        "if skill_req == app_skill :\n",
        "  print(\"match !!!\")\n",
        "elif years >= 5 :\n",
        "  print(\"consider app\")\n",
        "elif app_skill == \"Python\":\n",
        "  print(\"get him in\")\n",
        "else :\n",
        "  print(\"not a match\")"
      ],
      "metadata": {
        "colab": {
          "base_uri": "https://localhost:8080/"
        },
        "id": "hwBtaD4OL1BJ",
        "outputId": "cb6daeee-08fd-4573-ea0e-e222a3116be7"
      },
      "execution_count": null,
      "outputs": [
        {
          "output_type": "stream",
          "name": "stdout",
          "text": [
            "get him in\n"
          ]
        }
      ]
    },
    {
      "cell_type": "code",
      "source": [
        "if skill_req == app_skill :\n",
        "  pass    # does nothing but to run the code"
      ],
      "metadata": {
        "id": "RPkl7wCeN-tk"
      },
      "execution_count": null,
      "outputs": []
    },
    {
      "cell_type": "code",
      "source": [
        "# LISTS -- -- -- -- [] - ordered items, sequence, indexes used, duplicate - allowed, mutable\n",
        "# LIST DICT TUP SETS are data type containers\n",
        "\n",
        "job_list = [\"python\", \"SQL\", \"Excel\"]\n",
        "job_list.append(\"tableau\")\n",
        "job_list.remove(\"SQL\")\n",
        "job_list\n",
        "len(job_list)"
      ],
      "metadata": {
        "id": "IAFmMB6iP_Po",
        "colab": {
          "base_uri": "https://localhost:8080/"
        },
        "outputId": "2ab7ac3d-410f-42af-a70d-1231e7959390"
      },
      "execution_count": null,
      "outputs": [
        {
          "output_type": "execute_result",
          "data": {
            "text/plain": [
              "3"
            ]
          },
          "metadata": {},
          "execution_count": 26
        }
      ]
    },
    {
      "cell_type": "code",
      "source": [
        "# indexes of List\n",
        "job_list[2]\n",
        "job_list"
      ],
      "metadata": {
        "colab": {
          "base_uri": "https://localhost:8080/"
        },
        "id": "k5xdWg8y_Bnu",
        "outputId": "cb3c309a-273f-4c7e-d30b-275996fa821d"
      },
      "execution_count": null,
      "outputs": [
        {
          "output_type": "execute_result",
          "data": {
            "text/plain": [
              "['python', 'Excel', 'tableau']"
            ]
          },
          "metadata": {},
          "execution_count": 27
        }
      ]
    },
    {
      "cell_type": "code",
      "source": [
        "# .insert - to insert an item into list\n",
        "\n",
        "#job_list.insert(3,\"SQL\")\n",
        "\n",
        "#job_list.remove(\"SQL\")\n",
        "job_list"
      ],
      "metadata": {
        "colab": {
          "base_uri": "https://localhost:8080/"
        },
        "id": "Hqr6Ra1n_pla",
        "outputId": "ee8a82f4-0eed-4832-d5d3-06bc8c58fc96"
      },
      "execution_count": null,
      "outputs": [
        {
          "output_type": "execute_result",
          "data": {
            "text/plain": [
              "['python', 'Excel', 'tableau']"
            ]
          },
          "metadata": {},
          "execution_count": 28
        }
      ]
    },
    {
      "cell_type": "code",
      "source": [
        "# .pop - to remove item by index number\n",
        "# .remove - to remove by specifying the item in list\n",
        "\n",
        "job_list.pop(2)\n",
        "job_list"
      ],
      "metadata": {
        "colab": {
          "base_uri": "https://localhost:8080/"
        },
        "id": "Stff-VcP_7M6",
        "outputId": "b285f4de-5094-4f58-8cfe-17b5d2b26e84"
      },
      "execution_count": null,
      "outputs": [
        {
          "output_type": "execute_result",
          "data": {
            "text/plain": [
              "['python', 'Excel']"
            ]
          },
          "metadata": {},
          "execution_count": 29
        }
      ]
    },
    {
      "cell_type": "code",
      "source": [
        "# Slicing\n",
        "# list[start:end:step]\n",
        "job_list[0:3]\n",
        "job_list[:] # for all items to display in list"
      ],
      "metadata": {
        "colab": {
          "base_uri": "https://localhost:8080/"
        },
        "id": "MEawnL0wA4hc",
        "outputId": "3b5908e7-e05b-4c91-905a-b764fb1e4ec0"
      },
      "execution_count": null,
      "outputs": [
        {
          "output_type": "execute_result",
          "data": {
            "text/plain": [
              "['python', 'Excel']"
            ]
          },
          "metadata": {},
          "execution_count": 30
        }
      ]
    },
    {
      "cell_type": "code",
      "source": [
        "job_list[0:3:2] # eg for step"
      ],
      "metadata": {
        "colab": {
          "base_uri": "https://localhost:8080/"
        },
        "id": "xhQMYwkRCAJL",
        "outputId": "afdd6207-a9b8-4ae6-a4e8-094d36f715a7"
      },
      "execution_count": null,
      "outputs": [
        {
          "output_type": "execute_result",
          "data": {
            "text/plain": [
              "['python']"
            ]
          },
          "metadata": {},
          "execution_count": 31
        }
      ]
    },
    {
      "cell_type": "code",
      "source": [
        "# indexes are reverse - neg value which starts count from last to first\n",
        "list_1 = [\"man\", \"animal\", \"fish\"]\n",
        "list_2 = [\"dog\", \"sumit\", \"lund\"]\n",
        "all_list = list_1 + list_2\n",
        "all_list"
      ],
      "metadata": {
        "colab": {
          "base_uri": "https://localhost:8080/"
        },
        "id": "Gm9NDnNUC1Oe",
        "outputId": "c6deb30d-e678-4d29-b2df-31d39f3e8fe4"
      },
      "execution_count": null,
      "outputs": [
        {
          "output_type": "execute_result",
          "data": {
            "text/plain": [
              "['man', 'animal', 'fish', 'dog', 'sumit', 'lund']"
            ]
          },
          "metadata": {},
          "execution_count": 32
        }
      ]
    },
    {
      "cell_type": "code",
      "source": [
        "all_list[0::2]"
      ],
      "metadata": {
        "colab": {
          "base_uri": "https://localhost:8080/"
        },
        "id": "NlUgmb9mDxVY",
        "outputId": "9de36d48-40d0-4a0f-af11-54f7636b7287"
      },
      "execution_count": null,
      "outputs": [
        {
          "output_type": "execute_result",
          "data": {
            "text/plain": [
              "['man', 'fish', 'sumit']"
            ]
          },
          "metadata": {},
          "execution_count": 33
        }
      ]
    },
    {
      "cell_type": "code",
      "source": [
        "all_list[-2:]"
      ],
      "metadata": {
        "colab": {
          "base_uri": "https://localhost:8080/"
        },
        "id": "hhwUcqokFbOq",
        "outputId": "434dc692-e6c2-4704-bdd3-b930a56867f7"
      },
      "execution_count": null,
      "outputs": [
        {
          "output_type": "execute_result",
          "data": {
            "text/plain": [
              "['sumit', 'lund']"
            ]
          },
          "metadata": {},
          "execution_count": 34
        }
      ]
    },
    {
      "cell_type": "code",
      "source": [
        "# Unpacking\n",
        "skill1, skill2, skill3, skill4, skill5,skill6 = all_list\n",
        "print(skill5)\n",
        "\n",
        "# unpack operator * to assign many values to a varibale\n",
        "skill1, *other_skills = all_list\n",
        "print(skill1)\n",
        "print(other_skills)"
      ],
      "metadata": {
        "colab": {
          "base_uri": "https://localhost:8080/"
        },
        "id": "_JB_qK99FjB7",
        "outputId": "ab4b447d-b963-4383-a751-e338074b6e59"
      },
      "execution_count": null,
      "outputs": [
        {
          "output_type": "stream",
          "name": "stdout",
          "text": [
            "sumit\n",
            "man\n",
            "['animal', 'fish', 'dog', 'sumit', 'lund']\n"
          ]
        }
      ]
    },
    {
      "cell_type": "code",
      "source": [
        "# mutable - means items can be changed in a list eg - append, remove"
      ],
      "metadata": {
        "id": "1uI1u6mXGD-L"
      },
      "execution_count": null,
      "outputs": []
    },
    {
      "cell_type": "code",
      "source": [
        "# Dictionary -- {}, key:value pair, mapping, unordered, indexed, values can be duplicate but not KEYS, Mutable(CAN BE AMENDED)\n",
        "# Value can be any data type\n",
        "jobs_skill_list = {\n",
        "    \"database\":\"SQL\",\n",
        "    \"Language\": \"Python\",\n",
        "    \"library\": \"pandas\"\n",
        "    }\n",
        "jobs_skill_list"
      ],
      "metadata": {
        "colab": {
          "base_uri": "https://localhost:8080/"
        },
        "id": "WwvWtJlcHheN",
        "outputId": "84f229c1-0605-45a0-ecfb-5c3ec8fd860d"
      },
      "execution_count": null,
      "outputs": [
        {
          "output_type": "execute_result",
          "data": {
            "text/plain": [
              "{'database': 'SQL', 'Language': 'Python', 'library': 'pandas'}"
            ]
          },
          "metadata": {},
          "execution_count": 37
        }
      ]
    },
    {
      "cell_type": "code",
      "source": [
        "jobs_skill_list[\"database\"] # - key and get value"
      ],
      "metadata": {
        "colab": {
          "base_uri": "https://localhost:8080/",
          "height": 35
        },
        "id": "6AN-z-ATS-J5",
        "outputId": "bf4123d1-3d21-4ab8-e64f-2c6cf1af2894"
      },
      "execution_count": null,
      "outputs": [
        {
          "output_type": "execute_result",
          "data": {
            "text/plain": [
              "'SQL'"
            ],
            "application/vnd.google.colaboratory.intrinsic+json": {
              "type": "string"
            }
          },
          "metadata": {},
          "execution_count": 38
        }
      ]
    },
    {
      "cell_type": "code",
      "source": [
        "# to get all keys - use .keys\n",
        "jobs_skill_list.keys()"
      ],
      "metadata": {
        "colab": {
          "base_uri": "https://localhost:8080/"
        },
        "id": "j7IJ_1IjTqYC",
        "outputId": "d487dc77-1129-4723-c7a8-606a0a53ed70"
      },
      "execution_count": null,
      "outputs": [
        {
          "output_type": "execute_result",
          "data": {
            "text/plain": [
              "dict_keys(['database', 'Language', 'library'])"
            ]
          },
          "metadata": {},
          "execution_count": 39
        }
      ]
    },
    {
      "cell_type": "code",
      "source": [
        "# to get all values we use - .values\n",
        "jobs_skill_list.values()"
      ],
      "metadata": {
        "colab": {
          "base_uri": "https://localhost:8080/"
        },
        "id": "15D7n-IdT15m",
        "outputId": "5927d789-46bd-417e-fdd7-e12c0304b034"
      },
      "execution_count": null,
      "outputs": [
        {
          "output_type": "execute_result",
          "data": {
            "text/plain": [
              "dict_values(['SQL', 'Python', 'pandas'])"
            ]
          },
          "metadata": {},
          "execution_count": 40
        }
      ]
    },
    {
      "cell_type": "code",
      "source": [
        "# .pop to remove itms\n",
        "jobs_skill_list.pop(\"library\")\n",
        "jobs_skill_list"
      ],
      "metadata": {
        "colab": {
          "base_uri": "https://localhost:8080/"
        },
        "id": "ZmmfAuaJT-j4",
        "outputId": "3bcaad50-916b-4554-ff2b-f78081043c8b"
      },
      "execution_count": null,
      "outputs": [
        {
          "output_type": "execute_result",
          "data": {
            "text/plain": [
              "{'database': 'SQL', 'Language': 'Python'}"
            ]
          },
          "metadata": {},
          "execution_count": 41
        }
      ]
    },
    {
      "cell_type": "code",
      "source": [
        "# to add an item to Dict - .update\n",
        "jobs_skill_list.update({\"cloud\" : \"AWS\"})\n",
        "jobs_skill_list[\"version\"] = \"GIT\"\n",
        "jobs_skill_list"
      ],
      "metadata": {
        "colab": {
          "base_uri": "https://localhost:8080/"
        },
        "id": "xDJn_cMMUQtm",
        "outputId": "bfd19d42-2de7-471e-cd43-be9da852feb1"
      },
      "execution_count": null,
      "outputs": [
        {
          "output_type": "execute_result",
          "data": {
            "text/plain": [
              "{'database': 'SQL', 'Language': 'Python', 'cloud': 'AWS', 'version': 'GIT'}"
            ]
          },
          "metadata": {},
          "execution_count": 42
        }
      ]
    },
    {
      "cell_type": "code",
      "source": [
        "jobs_skill_list[\"cloud\"]"
      ],
      "metadata": {
        "colab": {
          "base_uri": "https://localhost:8080/",
          "height": 35
        },
        "id": "AJx5H7kWUzJ1",
        "outputId": "ab9ce532-8da7-4f1e-8cbf-7f34ef1b16a9"
      },
      "execution_count": null,
      "outputs": [
        {
          "output_type": "execute_result",
          "data": {
            "text/plain": [
              "'AWS'"
            ],
            "application/vnd.google.colaboratory.intrinsic+json": {
              "type": "string"
            }
          },
          "metadata": {},
          "execution_count": 43
        }
      ]
    },
    {
      "cell_type": "code",
      "source": [
        "# SETS -  {}, mutable, no duplicates allowed - Unique values, unordered, no indexing\n",
        "# UNIQUE DATA\n",
        "\n",
        "jobs_list_1 = {\"python\", \"SQL\", \"DB\"} # - notice unordered\n",
        "jobs_list_1"
      ],
      "metadata": {
        "colab": {
          "base_uri": "https://localhost:8080/"
        },
        "id": "Dqd7yfK4VEyk",
        "outputId": "43ddde92-0d91-4eea-eb44-3c430f8e19b9"
      },
      "execution_count": null,
      "outputs": [
        {
          "output_type": "execute_result",
          "data": {
            "text/plain": [
              "{'DB', 'SQL', 'python'}"
            ]
          },
          "metadata": {},
          "execution_count": 44
        }
      ]
    },
    {
      "cell_type": "code",
      "source": [
        "# add, pop\n",
        "jobs_list_1.add(\"looker\")\n",
        "jobs_list_1"
      ],
      "metadata": {
        "colab": {
          "base_uri": "https://localhost:8080/"
        },
        "id": "nFZSh1w0YoVQ",
        "outputId": "68c7a0b5-b556-41e0-94c1-b8d1e4bfaf13"
      },
      "execution_count": null,
      "outputs": [
        {
          "output_type": "execute_result",
          "data": {
            "text/plain": [
              "{'DB', 'SQL', 'looker', 'python'}"
            ]
          },
          "metadata": {},
          "execution_count": 45
        }
      ]
    },
    {
      "cell_type": "code",
      "source": [
        "# pop - removes random item\n",
        "#jobs_list_1.pop()\n",
        "jobs_list_1"
      ],
      "metadata": {
        "colab": {
          "base_uri": "https://localhost:8080/"
        },
        "id": "ioJ8uHOrY-x6",
        "outputId": "57b59020-5f8c-4ef6-cd67-f200106719ab"
      },
      "execution_count": null,
      "outputs": [
        {
          "output_type": "execute_result",
          "data": {
            "text/plain": [
              "{'DB', 'SQL', 'looker', 'python'}"
            ]
          },
          "metadata": {},
          "execution_count": 46
        }
      ]
    },
    {
      "cell_type": "code",
      "source": [
        "# remove - specific item\n",
        "jobs_list_1.remove(\"DB\")\n",
        "jobs_list_1"
      ],
      "metadata": {
        "colab": {
          "base_uri": "https://localhost:8080/"
        },
        "id": "PJReAb2VZHgw",
        "outputId": "a415fc71-1c37-44f3-fdfe-6df91992c15b"
      },
      "execution_count": null,
      "outputs": [
        {
          "output_type": "execute_result",
          "data": {
            "text/plain": [
              "{'SQL', 'looker', 'python'}"
            ]
          },
          "metadata": {},
          "execution_count": 47
        }
      ]
    },
    {
      "cell_type": "code",
      "source": [
        "# USED to get unique values from a list of items - SETS\n",
        "skill_list = [\"DB\", \"Python\", \"yo\", \"sUMIT\", \"Lund\"]\n",
        "skill_list\n",
        "list(set(skill_list))\n",
        "\n"
      ],
      "metadata": {
        "colab": {
          "base_uri": "https://localhost:8080/"
        },
        "id": "AEJaw5Q1Zfv_",
        "outputId": "e05d21ea-a0b2-4896-c38b-a85ccda21bfc"
      },
      "execution_count": null,
      "outputs": [
        {
          "output_type": "execute_result",
          "data": {
            "text/plain": [
              "['Python', 'sUMIT', 'yo', 'Lund', 'DB']"
            ]
          },
          "metadata": {},
          "execution_count": 48
        }
      ]
    },
    {
      "cell_type": "code",
      "source": [
        "# TUPLES - (), immutable - you can directly add or remove an item in tuple, sequence, ordered, indexed, duplicate allowed\n",
        "# FIXED DATA\n",
        "\n",
        "manan_skill = (\"python\", \"power BI\", \"sql\", \"Excel\")\n",
        "manan_skill\n"
      ],
      "metadata": {
        "colab": {
          "base_uri": "https://localhost:8080/"
        },
        "id": "LPitvmZJZ7C9",
        "outputId": "55e6a949-7674-497f-c278-689a95052cf8"
      },
      "execution_count": null,
      "outputs": [
        {
          "output_type": "execute_result",
          "data": {
            "text/plain": [
              "('python', 'power BI', 'sql', 'Excel')"
            ]
          },
          "metadata": {},
          "execution_count": 49
        }
      ]
    },
    {
      "cell_type": "code",
      "source": [
        "manan_skill\n",
        "new_list = (\"hi\", \"bye\")\n",
        "manan_skill += new_list\n",
        "manan_skill"
      ],
      "metadata": {
        "colab": {
          "base_uri": "https://localhost:8080/"
        },
        "id": "NTA9RYy8bqF_",
        "outputId": "481e736d-cca8-41b9-c020-1fb751fada09"
      },
      "execution_count": null,
      "outputs": [
        {
          "output_type": "execute_result",
          "data": {
            "text/plain": [
              "('python', 'power BI', 'sql', 'Excel', 'hi', 'bye')"
            ]
          },
          "metadata": {},
          "execution_count": 50
        }
      ]
    },
    {
      "cell_type": "code",
      "source": [
        "list(manan_skill)"
      ],
      "metadata": {
        "colab": {
          "base_uri": "https://localhost:8080/"
        },
        "id": "_wY66g-tcTbb",
        "outputId": "87392d39-536a-4ffd-c304-4d81206618d3"
      },
      "execution_count": null,
      "outputs": [
        {
          "output_type": "execute_result",
          "data": {
            "text/plain": [
              "['python', 'power BI', 'sql', 'Excel', 'hi', 'bye']"
            ]
          },
          "metadata": {},
          "execution_count": 51
        }
      ]
    },
    {
      "cell_type": "code",
      "source": [
        "# range function\n",
        "list(range(2,5))"
      ],
      "metadata": {
        "colab": {
          "base_uri": "https://localhost:8080/"
        },
        "id": "gKvkmemud-Af",
        "outputId": "7dc631c1-bb08-4b59-e043-a8c498b731c3"
      },
      "execution_count": null,
      "outputs": [
        {
          "output_type": "execute_result",
          "data": {
            "text/plain": [
              "[2, 3, 4]"
            ]
          },
          "metadata": {},
          "execution_count": 52
        }
      ]
    },
    {
      "cell_type": "code",
      "source": [
        "list(range(1,25,2)) # odd numbers only"
      ],
      "metadata": {
        "colab": {
          "base_uri": "https://localhost:8080/"
        },
        "id": "EPWbU3Bweokv",
        "outputId": "da0ab7d9-1775-413a-be10-8ef43eba13ba"
      },
      "execution_count": null,
      "outputs": [
        {
          "output_type": "execute_result",
          "data": {
            "text/plain": [
              "[1, 3, 5, 7, 9, 11, 13, 15, 17, 19, 21, 23]"
            ]
          },
          "metadata": {},
          "execution_count": 53
        }
      ]
    },
    {
      "cell_type": "code",
      "source": [
        "# Operators - and or not nor\n",
        "# and means all condition true then true or false, OR - ANY 1 is true then true, not - to check some condition is not true or false - means T OR F\n",
        "# IN OR NOT IN - present in a list or not, we can check\n",
        "jobs_skills = [\"python\", \"sql\", \"net\"]\n",
        "\"python\" in jobs_skills"
      ],
      "metadata": {
        "colab": {
          "base_uri": "https://localhost:8080/"
        },
        "id": "6mzSSOQYe-Vq",
        "outputId": "c8769769-868a-48ed-c3b9-bc8df3202be8"
      },
      "execution_count": null,
      "outputs": [
        {
          "output_type": "execute_result",
          "data": {
            "text/plain": [
              "True"
            ]
          },
          "metadata": {},
          "execution_count": 54
        }
      ]
    },
    {
      "cell_type": "code",
      "source": [
        "# identity operator - is , is not - to check if its related or not\n",
        "core_skills = [\"python\", \"sql\"]\n",
        "manan_skills = core_skills\n",
        "manan_skills is core_skills\n"
      ],
      "metadata": {
        "colab": {
          "base_uri": "https://localhost:8080/"
        },
        "id": "vb00__7VVDaD",
        "outputId": "b52fa6de-8594-46b2-eeda-073c78c19f50"
      },
      "execution_count": null,
      "outputs": [
        {
          "output_type": "execute_result",
          "data": {
            "text/plain": [
              "True"
            ]
          },
          "metadata": {},
          "execution_count": 55
        }
      ]
    },
    {
      "cell_type": "code",
      "source": [
        "# bitwise operator - &, |, ^, ~, <<, >>"
      ],
      "metadata": {
        "id": "ZuclrwFFVzMl"
      },
      "execution_count": null,
      "outputs": []
    },
    {
      "cell_type": "code",
      "source": [
        "# LOOPS - FOR AND WHILE\n",
        "numbers = [1,2,3,4,5]\n",
        "for number in numbers :\n",
        "  print(number)"
      ],
      "metadata": {
        "colab": {
          "base_uri": "https://localhost:8080/"
        },
        "id": "etrDJ-J9WgeT",
        "outputId": "58127bfc-b858-4e8f-fd56-1fb342c9cc0c"
      },
      "execution_count": null,
      "outputs": [
        {
          "output_type": "stream",
          "name": "stdout",
          "text": [
            "1\n",
            "2\n",
            "3\n",
            "4\n",
            "5\n"
          ]
        }
      ]
    },
    {
      "cell_type": "code",
      "source": [
        "years_exp = {\n",
        "    \"manna\" : 2,\n",
        "    \"sumit\" : 7,\n",
        "    \"jj\" : 8\n",
        "}\n",
        "for key, value in years_exp.items():\n",
        "  if value > 5:\n",
        "    print(key,\"has\",value, \"exp\")"
      ],
      "metadata": {
        "colab": {
          "base_uri": "https://localhost:8080/"
        },
        "id": "c2KviYnaYAL9",
        "outputId": "8aa85be4-bc25-4325-f077-41796881655d"
      },
      "execution_count": null,
      "outputs": [
        {
          "output_type": "stream",
          "name": "stdout",
          "text": [
            "sumit has 7 exp\n",
            "jj has 8 exp\n"
          ]
        }
      ]
    },
    {
      "cell_type": "code",
      "source": [
        "# while will run until condition is true\n",
        "count = 1\n",
        "while count < 6 :\n",
        "  print(count)\n",
        "  count+=1"
      ],
      "metadata": {
        "colab": {
          "base_uri": "https://localhost:8080/"
        },
        "id": "52SIlceTZh_d",
        "outputId": "2f924972-1b94-41af-cc0d-249c2df14253"
      },
      "execution_count": null,
      "outputs": [
        {
          "output_type": "stream",
          "name": "stdout",
          "text": [
            "1\n",
            "2\n",
            "3\n",
            "4\n",
            "5\n"
          ]
        }
      ]
    },
    {
      "cell_type": "code",
      "source": [
        "years_exp"
      ],
      "metadata": {
        "colab": {
          "base_uri": "https://localhost:8080/"
        },
        "id": "SzOy-SidbFIH",
        "outputId": "935b4ae4-34d5-4b35-a14b-b690b8e0265c"
      },
      "execution_count": null,
      "outputs": [
        {
          "output_type": "execute_result",
          "data": {
            "text/plain": [
              "{'manna': 2, 'sumit': 7, 'jj': 8}"
            ]
          },
          "metadata": {},
          "execution_count": 60
        }
      ]
    },
    {
      "cell_type": "code",
      "source": [
        "yrs = 0\n",
        "index = 0\n",
        "years_list = list(years_exp.items())\n",
        "years_list\n",
        "\n",
        "while yrs < 6:\n",
        "  key, yrs = years_list[index]\n",
        "  print(yrs)\n",
        "  index+=1"
      ],
      "metadata": {
        "colab": {
          "base_uri": "https://localhost:8080/"
        },
        "id": "qF51zWXUbhbx",
        "outputId": "b62d2ed9-6c3c-4aeb-b704-fdecfdf87ae5"
      },
      "execution_count": null,
      "outputs": [
        {
          "output_type": "stream",
          "name": "stdout",
          "text": [
            "2\n",
            "7\n"
          ]
        }
      ]
    },
    {
      "cell_type": "code",
      "source": [
        "# List comprehension - list anf loops\n",
        "# list = [expression, for item in iterable , condition]\n",
        "numbers = [x for x in range(10) if x % 2 == 0] # -- with condition example\n"
      ],
      "metadata": {
        "id": "VrtA2M6rcByW"
      },
      "execution_count": null,
      "outputs": []
    },
    {
      "cell_type": "code",
      "source": [
        "numbers"
      ],
      "metadata": {
        "colab": {
          "base_uri": "https://localhost:8080/"
        },
        "id": "L78Wfyaki4OI",
        "outputId": "7143a36b-9887-4bb2-825c-ae52afd6935c"
      },
      "execution_count": null,
      "outputs": [
        {
          "output_type": "execute_result",
          "data": {
            "text/plain": [
              "[0, 2, 4, 6, 8]"
            ]
          },
          "metadata": {},
          "execution_count": 63
        }
      ]
    },
    {
      "cell_type": "code",
      "source": [
        "# you do do to list,set,tuple,dict\n"
      ],
      "metadata": {
        "id": "oQPBh8vei5R4"
      },
      "execution_count": null,
      "outputs": []
    },
    {
      "cell_type": "code",
      "source": [
        "# Exercise for all the concepts covered until now\n",
        "job_roles = [\n",
        "    {'role': 'Data Analyst', 'skills': ['Python', 'SQL', 'Excel']},\n",
        "    {'role': 'Data Scientist', 'skills': ['Python', 'R', 'Machine Learning', 'Deep Learning']},\n",
        "    {'role': 'Machine Learning Engineer', 'skills': ['Python', 'TensorFlow', 'PyTorch', 'Scikit-Learn']},\n",
        "    {'role': 'Data Engineer', 'skills': ['Python', 'Apache Spark', 'Hadoop', 'SQL']},\n",
        "    {'role': 'Business Intelligence Analyst', 'skills': ['Python', 'SQL', 'Tableau', 'Power BI', 'Excel']},\n",
        "    {'role': 'Quantitative Analyst', 'skills': ['R', 'Python', 'MATLAB', 'Statistics']},\n",
        "    {'role': 'Operations Analyst', 'skills': ['Python', 'SQL', 'Data Visualization', 'Process Improvement']},\n",
        "    {'role': 'Database Administrator', 'skills': ['SQL', 'Oracle', 'MySQL', 'Database Management']},\n",
        "    {'role': 'AI Engineer', 'skills': ['Python', 'TensorFlow', 'PyTorch', 'Computer Vision']},\n",
        "    {'role': 'Statistician', 'skills': ['R', 'SAS', 'Python', 'Statistical Modeling']}\n",
        "]\n",
        "\n",
        "my_skills = [\"Python\", \"SQL\", \"Excel\"]\n",
        "\n",
        "qualified_roles = []\n",
        "\n",
        "for job in job_roles :\n",
        "  if all(skill in job[\"skills\"] for skill in my_skills):\n",
        "    qualified_roles.append(job[\"role\"])\n",
        "qualified_roles"
      ],
      "metadata": {
        "colab": {
          "base_uri": "https://localhost:8080/"
        },
        "id": "MCJAAWh7kkO2",
        "outputId": "16dd1edf-3c55-4818-a287-0e53a039401c"
      },
      "execution_count": null,
      "outputs": [
        {
          "output_type": "execute_result",
          "data": {
            "text/plain": [
              "['Data Analyst', 'Business Intelligence Analyst']"
            ]
          },
          "metadata": {},
          "execution_count": 65
        }
      ]
    },
    {
      "cell_type": "code",
      "source": [
        "# FUNCTIONS\n",
        "# Types of functions - Built in, Functions - user defined, Lambda, Modules, Library\n",
        "# print, type, len, range ()"
      ],
      "metadata": {
        "id": "6ZCqF60BsxsD"
      },
      "execution_count": null,
      "outputs": []
    },
    {
      "cell_type": "code",
      "source": [
        "# min, max, sum, sorted"
      ],
      "metadata": {
        "id": "TYH9l1OHtM_b"
      },
      "execution_count": null,
      "outputs": []
    },
    {
      "cell_type": "code",
      "source": [
        "# user defined functions :\n",
        "\n",
        "def calculate_salary (base_salary, bonus_rate):\n",
        "  total_salary = base_salary * (1 + bonus_rate)\n",
        "  return total_salary"
      ],
      "metadata": {
        "id": "jyBOGmWVz4hY"
      },
      "execution_count": null,
      "outputs": []
    },
    {
      "cell_type": "code",
      "source": [
        "calculate_salary(20000,0.2)"
      ],
      "metadata": {
        "colab": {
          "base_uri": "https://localhost:8080/"
        },
        "id": "LV0bupYP0_S-",
        "outputId": "4e04e7b5-e4a4-4787-abe4-6ebcb33fbabe"
      },
      "execution_count": null,
      "outputs": [
        {
          "output_type": "execute_result",
          "data": {
            "text/plain": [
              "24000.0"
            ]
          },
          "metadata": {},
          "execution_count": 69
        }
      ]
    },
    {
      "cell_type": "code",
      "source": [
        "# LAMBDA Function\n",
        "# lambda arguemnets : expression\n",
        "(lambda x,y : x *2 + y) (2,3)"
      ],
      "metadata": {
        "colab": {
          "base_uri": "https://localhost:8080/"
        },
        "id": "GpIR2tvS1Cfd",
        "outputId": "7ad2e25d-b9c3-4250-83f4-e65e6de76259"
      },
      "execution_count": null,
      "outputs": [
        {
          "output_type": "execute_result",
          "data": {
            "text/plain": [
              "7"
            ]
          },
          "metadata": {},
          "execution_count": 70
        }
      ]
    },
    {
      "cell_type": "code",
      "source": [
        "salary_list = [1000,2999,3000,4000]\n",
        "\n",
        "total_salary = [(lambda x : x * 1.1)(salary) for salary in salary_list]\n",
        "total_salary"
      ],
      "metadata": {
        "colab": {
          "base_uri": "https://localhost:8080/"
        },
        "id": "NUVW6MjF7oAv",
        "outputId": "4cc3eeab-8276-4aa7-dc8e-457464263de2"
      },
      "execution_count": null,
      "outputs": [
        {
          "output_type": "execute_result",
          "data": {
            "text/plain": [
              "[1100.0, 3298.9, 3300.0000000000005, 4400.0]"
            ]
          },
          "metadata": {},
          "execution_count": 71
        }
      ]
    },
    {
      "cell_type": "code",
      "source": [
        "# filter (function, iterable)\n",
        "\n",
        "jobs_data = [\n",
        "    {'job_id':\"data analyst\", 'job_skills': [\"py\",\"sql\"], \"remote\": True},\n",
        "    {'job_id':\"data \", 'job_skills': [\"py\",\"sql\"], \"remote\": True},\n",
        "    {'job_id':\"data analyst\", 'job_skills': [\"py\",\"sql\"], \"remote\": False}\n",
        "]\n",
        "\n",
        "list(filter(lambda job : job [\"remote\"] and \"py\" in job[\"job_skills\"], jobs_data))"
      ],
      "metadata": {
        "colab": {
          "base_uri": "https://localhost:8080/"
        },
        "id": "Xy0z4tEQ9b_I",
        "outputId": "c33a7d42-4acb-482b-a7e4-e281a5bad43b"
      },
      "execution_count": null,
      "outputs": [
        {
          "output_type": "execute_result",
          "data": {
            "text/plain": [
              "[{'job_id': 'data analyst', 'job_skills': ['py', 'sql'], 'remote': True},\n",
              " {'job_id': 'data ', 'job_skills': ['py', 'sql'], 'remote': True}]"
            ]
          },
          "metadata": {},
          "execution_count": 72
        }
      ]
    },
    {
      "cell_type": "code",
      "source": [
        "# MODULES - standard library functions\n"
      ],
      "metadata": {
        "id": "n9vGo1iy_58K"
      },
      "execution_count": null,
      "outputs": []
    },
    {
      "cell_type": "code",
      "source": [
        "# stats module\n",
        "salary_list = [100, 300, 400]\n",
        "\n",
        "from statistics import mean, mode, median\n",
        "\n",
        "print (mean(salary_list))\n",
        "print(mode(salary_list))\n",
        "print(median(salary_list))"
      ],
      "metadata": {
        "colab": {
          "base_uri": "https://localhost:8080/"
        },
        "id": "Opqd_nESKZaR",
        "outputId": "b8d43c41-99c1-4779-d352-59a0c167a5da"
      },
      "execution_count": null,
      "outputs": [
        {
          "output_type": "stream",
          "name": "stdout",
          "text": [
            "266.6666666666667\n",
            "100\n",
            "300\n"
          ]
        }
      ]
    },
    {
      "cell_type": "code",
      "source": [
        "# Data Cleaning\n",
        "data_science_jobs = [\n",
        "    {'job_title': 'Data Scientist', 'job_skills': \"['Python', 'SQL', 'Machine Learning']\", 'job_date': '2023-05-12'},\n",
        "    {'job_title': 'Machine Learning Engineer', 'job_skills': \"['Python', 'TensorFlow', 'Deep Learning']\", 'job_date': '2023-05-15'},\n",
        "    {'job_title': 'Data Analyst', 'job_skills': \"['SQL', 'R', 'Tableau']\", 'job_date': '2023-05-10'},\n",
        "    {'job_title': 'Business Intelligence Developer', 'job_skills': \"['SQL', 'PowerBI', 'Data Warehousing']\", 'job_date': '2023-05-08'},\n",
        "    {'job_title': 'Data Engineer', 'job_skills': \"['Python', 'Spark', 'Hadoop']\", 'job_date': '2023-05-18'},\n",
        "    {'job_title': 'AI Specialist', 'job_skills': \"['Python', 'PyTorch', 'AI Ethics']\", 'job_date': '2023-05-20'}\n",
        "]\n",
        "\n",
        "# dtae time\n",
        "\n",
        "from datetime import datetime\n",
        "datetime.now()"
      ],
      "metadata": {
        "colab": {
          "base_uri": "https://localhost:8080/"
        },
        "id": "8t34MnvrPLKc",
        "outputId": "68358d4c-4dc7-4243-919c-f73f8ef1dd6e"
      },
      "execution_count": null,
      "outputs": [
        {
          "output_type": "execute_result",
          "data": {
            "text/plain": [
              "datetime.datetime(2025, 6, 2, 19, 4, 28, 750517)"
            ]
          },
          "metadata": {},
          "execution_count": 75
        }
      ]
    },
    {
      "cell_type": "code",
      "source": [
        "test_date = data_science_jobs[0][\"job_date\"]\n",
        "test_date"
      ],
      "metadata": {
        "colab": {
          "base_uri": "https://localhost:8080/",
          "height": 35
        },
        "id": "7vqAqqiAknR2",
        "outputId": "a9b6ebae-0a6e-43fb-d484-f80748e36ee7"
      },
      "execution_count": null,
      "outputs": [
        {
          "output_type": "execute_result",
          "data": {
            "text/plain": [
              "'2023-05-12'"
            ],
            "application/vnd.google.colaboratory.intrinsic+json": {
              "type": "string"
            }
          },
          "metadata": {},
          "execution_count": 76
        }
      ]
    },
    {
      "cell_type": "code",
      "source": [
        "print(datetime.strptime(test_date, '%Y-%m-%d'))"
      ],
      "metadata": {
        "colab": {
          "base_uri": "https://localhost:8080/"
        },
        "id": "wUJskw6amgUQ",
        "outputId": "58c52d7c-a929-443f-f026-9a32dfcf6f1c"
      },
      "execution_count": null,
      "outputs": [
        {
          "output_type": "stream",
          "name": "stdout",
          "text": [
            "2023-05-12 00:00:00\n"
          ]
        }
      ]
    },
    {
      "cell_type": "code",
      "source": [
        "import ast\n",
        "\n",
        "for job in data_science_jobs :\n",
        "  job[\"job_date\"] = datetime.strptime(job[\"job_date\"], '%Y-%m-%d')\n",
        "  job[\"job_skills\"] = ast.literal_eval(job['job_skills'])    # remove \"\" from the job_skills\n"
      ],
      "metadata": {
        "id": "LhlB8wlZmu-y"
      },
      "execution_count": null,
      "outputs": []
    },
    {
      "cell_type": "code",
      "source": [
        "data_science_jobs"
      ],
      "metadata": {
        "colab": {
          "base_uri": "https://localhost:8080/"
        },
        "id": "_9rTI6zlnmuj",
        "outputId": "8890fafe-58be-4997-abd2-96abddc7d113"
      },
      "execution_count": null,
      "outputs": [
        {
          "output_type": "execute_result",
          "data": {
            "text/plain": [
              "[{'job_title': 'Data Scientist',\n",
              "  'job_skills': ['Python', 'SQL', 'Machine Learning'],\n",
              "  'job_date': datetime.datetime(2023, 5, 12, 0, 0)},\n",
              " {'job_title': 'Machine Learning Engineer',\n",
              "  'job_skills': ['Python', 'TensorFlow', 'Deep Learning'],\n",
              "  'job_date': datetime.datetime(2023, 5, 15, 0, 0)},\n",
              " {'job_title': 'Data Analyst',\n",
              "  'job_skills': ['SQL', 'R', 'Tableau'],\n",
              "  'job_date': datetime.datetime(2023, 5, 10, 0, 0)},\n",
              " {'job_title': 'Business Intelligence Developer',\n",
              "  'job_skills': ['SQL', 'PowerBI', 'Data Warehousing'],\n",
              "  'job_date': datetime.datetime(2023, 5, 8, 0, 0)},\n",
              " {'job_title': 'Data Engineer',\n",
              "  'job_skills': ['Python', 'Spark', 'Hadoop'],\n",
              "  'job_date': datetime.datetime(2023, 5, 18, 0, 0)},\n",
              " {'job_title': 'AI Specialist',\n",
              "  'job_skills': ['Python', 'PyTorch', 'AI Ethics'],\n",
              "  'job_date': datetime.datetime(2023, 5, 20, 0, 0)}]"
            ]
          },
          "metadata": {},
          "execution_count": 79
        }
      ]
    },
    {
      "cell_type": "code",
      "source": [
        "# Basic library\n",
        "\n",
        "file = open('sample_data/california_housing_test.csv')\n",
        "\n",
        "content = file.read()\n",
        "\n",
        "file.close()"
      ],
      "metadata": {
        "id": "7Var6axHnquC"
      },
      "execution_count": null,
      "outputs": []
    },
    {
      "cell_type": "code",
      "source": [
        "import pandas as pd\n",
        "\n",
        "contents = pd.read_csv(\"sample_data/california_housing_test.csv\")\n",
        "contents['total_bedrooms'].sum()"
      ],
      "metadata": {
        "colab": {
          "base_uri": "https://localhost:8080/"
        },
        "id": "ZJO-Oydtrn9x",
        "outputId": "85edcd3d-db8a-4d0c-a332-4bdca1930d13"
      },
      "execution_count": null,
      "outputs": [
        {
          "output_type": "execute_result",
          "data": {
            "text/plain": [
              "np.float64(1589852.0)"
            ]
          },
          "metadata": {},
          "execution_count": 81
        }
      ]
    },
    {
      "cell_type": "code",
      "source": [
        "!pip install pandas"
      ],
      "metadata": {
        "colab": {
          "base_uri": "https://localhost:8080/"
        },
        "id": "5S9YqjeMDCs4",
        "outputId": "760cfa70-77ec-430b-bd17-f4aee3601755"
      },
      "execution_count": null,
      "outputs": [
        {
          "output_type": "stream",
          "name": "stdout",
          "text": [
            "Requirement already satisfied: pandas in /usr/local/lib/python3.11/dist-packages (2.2.2)\n",
            "Requirement already satisfied: numpy>=1.23.2 in /usr/local/lib/python3.11/dist-packages (from pandas) (2.0.2)\n",
            "Requirement already satisfied: python-dateutil>=2.8.2 in /usr/local/lib/python3.11/dist-packages (from pandas) (2.9.0.post0)\n",
            "Requirement already satisfied: pytz>=2020.1 in /usr/local/lib/python3.11/dist-packages (from pandas) (2025.2)\n",
            "Requirement already satisfied: tzdata>=2022.7 in /usr/local/lib/python3.11/dist-packages (from pandas) (2025.2)\n",
            "Requirement already satisfied: six>=1.5 in /usr/local/lib/python3.11/dist-packages (from python-dateutil>=2.8.2->pandas) (1.17.0)\n"
          ]
        }
      ]
    },
    {
      "cell_type": "code",
      "source": [
        "!pip install pyjokes"
      ],
      "metadata": {
        "colab": {
          "base_uri": "https://localhost:8080/"
        },
        "id": "29Ny5MKBEH2p",
        "outputId": "c629debf-418b-4042-d03c-52ba86a00feb"
      },
      "execution_count": null,
      "outputs": [
        {
          "output_type": "stream",
          "name": "stdout",
          "text": [
            "Collecting pyjokes\n",
            "  Downloading pyjokes-0.8.3-py3-none-any.whl.metadata (3.4 kB)\n",
            "Downloading pyjokes-0.8.3-py3-none-any.whl (47 kB)\n",
            "\u001b[2K   \u001b[90m━━━━━━━━━━━━━━━━━━━━━━━━━━━━━━━━━━━━━━━━\u001b[0m \u001b[32m47.6/47.6 kB\u001b[0m \u001b[31m1.6 MB/s\u001b[0m eta \u001b[36m0:00:00\u001b[0m\n",
            "\u001b[?25hInstalling collected packages: pyjokes\n",
            "Successfully installed pyjokes-0.8.3\n"
          ]
        }
      ]
    },
    {
      "cell_type": "code",
      "source": [
        "import pyjokes"
      ],
      "metadata": {
        "id": "S5zZ57MZES4o"
      },
      "execution_count": null,
      "outputs": []
    },
    {
      "cell_type": "code",
      "source": [
        "pyjokes.get_joke()"
      ],
      "metadata": {
        "colab": {
          "base_uri": "https://localhost:8080/",
          "height": 35
        },
        "id": "0Z68GZLFEaOa",
        "outputId": "992497d7-4f76-4985-b259-bb8c63304fef"
      },
      "execution_count": null,
      "outputs": [
        {
          "output_type": "execute_result",
          "data": {
            "text/plain": [
              "'Asked to explain Unicode during an interview, Geoff went into detail about his final year university project. He was not hired.'"
            ],
            "application/vnd.google.colaboratory.intrinsic+json": {
              "type": "string"
            }
          },
          "metadata": {},
          "execution_count": 85
        }
      ]
    },
    {
      "cell_type": "code",
      "source": [
        "''' important libraries for Data nerds -\n",
        "    Pandas\n",
        "    Numpy\n",
        "    Matplotlib\n",
        "    Seaborn\n",
        "    Scipy\n",
        "    Scikit-learn\n",
        " '''"
      ],
      "metadata": {
        "colab": {
          "base_uri": "https://localhost:8080/",
          "height": 35
        },
        "id": "Q9b2_nCMEgFo",
        "outputId": "1fc54f42-3548-47cb-8d21-6263318f9c7a"
      },
      "execution_count": null,
      "outputs": [
        {
          "output_type": "execute_result",
          "data": {
            "text/plain": [
              "' important libraries for Data nerds -\\n    Pandas\\n    Numpy \\n    Matplotlib\\n    Seaborn\\n    Scipy\\n    Scikit-learn\\n '"
            ],
            "application/vnd.google.colaboratory.intrinsic+json": {
              "type": "string"
            }
          },
          "metadata": {},
          "execution_count": 86
        }
      ]
    },
    {
      "cell_type": "code",
      "source": [
        "# Classes\n",
        "\n",
        "class BaseSalary :\n",
        "  def __init__ (self,base_salary, bonus_rate= 0.1, symbol= \"£\"):\n",
        "    self.base_salary = base_salary\n",
        "    self.bonus_rate = bonus_rate\n",
        "    self.symbol = symbol\n",
        "    self.total_salary = base_salary * (1 + bonus_rate)\n",
        "    self.bonus = self.total_salary - self.base_salary\n",
        "\n",
        "  def show_salary(self):\n",
        "    return f\"{self.symbol}{self.total_salary}\"\n",
        "\n",
        "  def show_bonus(self):\n",
        "    return f\"{self.symbol}{self.bonus:,.0f}\"\n",
        "\n",
        "  def __repr__(self):\n",
        "    return f\"{self.symbol}{self.base_salary:,.0f}\" # f strings for more formatting data\n",
        "\n",
        "salary = BaseSalary(20000)\n",
        "salary.base_salary\n",
        "\n"
      ],
      "metadata": {
        "colab": {
          "base_uri": "https://localhost:8080/"
        },
        "id": "Zn5ULxEsHXeh",
        "outputId": "ced5adc7-450e-4522-a04f-c1337a8098bb"
      },
      "execution_count": null,
      "outputs": [
        {
          "output_type": "execute_result",
          "data": {
            "text/plain": [
              "20000"
            ]
          },
          "metadata": {},
          "execution_count": 87
        }
      ]
    },
    {
      "cell_type": "code",
      "source": [
        "salary"
      ],
      "metadata": {
        "colab": {
          "base_uri": "https://localhost:8080/"
        },
        "id": "ee7d6VXkKTmQ",
        "outputId": "41f303c9-44ab-4f95-fc4b-1b3ecf508d2d"
      },
      "execution_count": null,
      "outputs": [
        {
          "output_type": "execute_result",
          "data": {
            "text/plain": [
              "£20,000"
            ]
          },
          "metadata": {},
          "execution_count": 88
        }
      ]
    },
    {
      "cell_type": "code",
      "source": [
        "salary.show_salary()\n"
      ],
      "metadata": {
        "colab": {
          "base_uri": "https://localhost:8080/",
          "height": 35
        },
        "id": "34YWBbuiMhK1",
        "outputId": "f0a93953-de22-44e5-d4a3-ac44d35ea257"
      },
      "execution_count": null,
      "outputs": [
        {
          "output_type": "execute_result",
          "data": {
            "text/plain": [
              "'£22000.0'"
            ],
            "application/vnd.google.colaboratory.intrinsic+json": {
              "type": "string"
            }
          },
          "metadata": {},
          "execution_count": 89
        }
      ]
    },
    {
      "cell_type": "code",
      "source": [
        "salary.show_bonus()"
      ],
      "metadata": {
        "colab": {
          "base_uri": "https://localhost:8080/",
          "height": 35
        },
        "id": "uOO55J9gPo8q",
        "outputId": "dd7ddd45-b92a-4914-d9dd-4cdc3a7d08a3"
      },
      "execution_count": null,
      "outputs": [
        {
          "output_type": "execute_result",
          "data": {
            "text/plain": [
              "'£2,000'"
            ],
            "application/vnd.google.colaboratory.intrinsic+json": {
              "type": "string"
            }
          },
          "metadata": {},
          "execution_count": 90
        }
      ]
    },
    {
      "cell_type": "code",
      "source": [
        "# NUMPY - helps to compute way faster and calculate fast\n",
        "\n",
        "# list of 1000000 saalries ranging between 50000 and 1500000\n",
        "\n",
        "import random\n",
        "\n",
        "salary_list = [random.randint(50000,100000) for _ in range (10_000_000)]"
      ],
      "metadata": {
        "id": "dIAIpi-9P1JF"
      },
      "execution_count": null,
      "outputs": []
    },
    {
      "cell_type": "code",
      "source": [
        "%%timeit\n",
        "\n",
        "import statistics\n",
        "\n",
        "statistics.mean(salary_list)"
      ],
      "metadata": {
        "colab": {
          "base_uri": "https://localhost:8080/"
        },
        "id": "JSBCsCw2bCxh",
        "outputId": "569b6ed1-7495-44bc-f4fb-032c35560184"
      },
      "execution_count": null,
      "outputs": [
        {
          "output_type": "stream",
          "name": "stdout",
          "text": [
            "2.63 s ± 454 ms per loop (mean ± std. dev. of 7 runs, 1 loop each)\n"
          ]
        }
      ]
    },
    {
      "cell_type": "code",
      "source": [
        "%%timeit\n",
        "import numpy as np\n",
        "\n",
        "np.mean(salary_list)"
      ],
      "metadata": {
        "colab": {
          "base_uri": "https://localhost:8080/"
        },
        "id": "T6wjrApWbTNc",
        "outputId": "40a2bf22-9d58-4132-fc9a-e3902ed30da0"
      },
      "execution_count": null,
      "outputs": [
        {
          "output_type": "stream",
          "name": "stdout",
          "text": [
            "770 ms ± 209 ms per loop (mean ± std. dev. of 7 runs, 1 loop each)\n"
          ]
        }
      ]
    },
    {
      "cell_type": "code",
      "source": [
        "import numpy as np\n",
        "\n",
        "my_array = np.array([1,2,3,4,5])\n",
        "\n",
        "np.mean(my_array)"
      ],
      "metadata": {
        "colab": {
          "base_uri": "https://localhost:8080/"
        },
        "id": "U1u1R1eWbwLT",
        "outputId": "27994cd3-befb-452a-88ef-2b1558cf0078"
      },
      "execution_count": null,
      "outputs": [
        {
          "output_type": "execute_result",
          "data": {
            "text/plain": [
              "np.float64(3.0)"
            ]
          },
          "metadata": {},
          "execution_count": 94
        }
      ]
    },
    {
      "cell_type": "code",
      "source": [
        "# use nan value for none - causes no error furing calculation and computation\n",
        "base_salaries = np.array([10000,20000,30000,40000, np.nan])\n",
        "\n",
        "bonus_rate = np.array([.05,.1,.15,.2, np.nan])\n",
        "\n",
        "total_salary = base_salaries * (1 + bonus_rate)\n",
        "total_salary"
      ],
      "metadata": {
        "colab": {
          "base_uri": "https://localhost:8080/"
        },
        "id": "OpEvTMnUeFHV",
        "outputId": "218b7805-d06a-4a1d-f222-c786e8b0ca92"
      },
      "execution_count": null,
      "outputs": [
        {
          "output_type": "execute_result",
          "data": {
            "text/plain": [
              "array([10500., 22000., 34500., 48000.,    nan])"
            ]
          },
          "metadata": {},
          "execution_count": 95
        }
      ]
    },
    {
      "cell_type": "code",
      "source": [
        "np.nanmean(total_salary)"
      ],
      "metadata": {
        "colab": {
          "base_uri": "https://localhost:8080/"
        },
        "id": "eFrXyTTjgbYX",
        "outputId": "85419f53-d9f2-4eba-bbc0-02dcde775408"
      },
      "execution_count": null,
      "outputs": [
        {
          "output_type": "execute_result",
          "data": {
            "text/plain": [
              "np.float64(28750.0)"
            ]
          },
          "metadata": {},
          "execution_count": 96
        }
      ]
    },
    {
      "cell_type": "code",
      "source": [
        "# go through this luke course on numpy on his github\n"
      ],
      "metadata": {
        "id": "07KRwSPXgg6n"
      },
      "execution_count": null,
      "outputs": []
    },
    {
      "cell_type": "code",
      "source": [
        "# Pandas - best for tabular data\n",
        "# pandas.py - API reference - useful\n",
        "\n",
        "# we read data and place it in the dataframe\n",
        "\n",
        "\n",
        "import pandas as pd\n",
        "\n",
        "df = pd.read_csv(\"sample_data/california_housing_test.csv\")  # dict like container"
      ],
      "metadata": {
        "id": "anXKbn1YmqyD"
      },
      "execution_count": null,
      "outputs": []
    },
    {
      "cell_type": "code",
      "source": [
        "df"
      ],
      "metadata": {
        "colab": {
          "base_uri": "https://localhost:8080/",
          "height": 424
        },
        "id": "sAdP6UrKo_1C",
        "outputId": "ae310ee9-e41e-4120-fed8-9b10e4bf2e9c"
      },
      "execution_count": null,
      "outputs": [
        {
          "output_type": "execute_result",
          "data": {
            "text/plain": [
              "      longitude  latitude  housing_median_age  total_rooms  total_bedrooms  \\\n",
              "0       -122.05     37.37                27.0       3885.0           661.0   \n",
              "1       -118.30     34.26                43.0       1510.0           310.0   \n",
              "2       -117.81     33.78                27.0       3589.0           507.0   \n",
              "3       -118.36     33.82                28.0         67.0            15.0   \n",
              "4       -119.67     36.33                19.0       1241.0           244.0   \n",
              "...         ...       ...                 ...          ...             ...   \n",
              "2995    -119.86     34.42                23.0       1450.0           642.0   \n",
              "2996    -118.14     34.06                27.0       5257.0          1082.0   \n",
              "2997    -119.70     36.30                10.0        956.0           201.0   \n",
              "2998    -117.12     34.10                40.0         96.0            14.0   \n",
              "2999    -119.63     34.42                42.0       1765.0           263.0   \n",
              "\n",
              "      population  households  median_income  median_house_value  \n",
              "0         1537.0       606.0         6.6085            344700.0  \n",
              "1          809.0       277.0         3.5990            176500.0  \n",
              "2         1484.0       495.0         5.7934            270500.0  \n",
              "3           49.0        11.0         6.1359            330000.0  \n",
              "4          850.0       237.0         2.9375             81700.0  \n",
              "...          ...         ...            ...                 ...  \n",
              "2995      1258.0       607.0         1.1790            225000.0  \n",
              "2996      3496.0      1036.0         3.3906            237200.0  \n",
              "2997       693.0       220.0         2.2895             62000.0  \n",
              "2998        46.0        14.0         3.2708            162500.0  \n",
              "2999       753.0       260.0         8.5608            500001.0  \n",
              "\n",
              "[3000 rows x 9 columns]"
            ],
            "text/html": [
              "\n",
              "  <div id=\"df-95fbd490-c9b8-4048-9aec-719d1251657d\" class=\"colab-df-container\">\n",
              "    <div>\n",
              "<style scoped>\n",
              "    .dataframe tbody tr th:only-of-type {\n",
              "        vertical-align: middle;\n",
              "    }\n",
              "\n",
              "    .dataframe tbody tr th {\n",
              "        vertical-align: top;\n",
              "    }\n",
              "\n",
              "    .dataframe thead th {\n",
              "        text-align: right;\n",
              "    }\n",
              "</style>\n",
              "<table border=\"1\" class=\"dataframe\">\n",
              "  <thead>\n",
              "    <tr style=\"text-align: right;\">\n",
              "      <th></th>\n",
              "      <th>longitude</th>\n",
              "      <th>latitude</th>\n",
              "      <th>housing_median_age</th>\n",
              "      <th>total_rooms</th>\n",
              "      <th>total_bedrooms</th>\n",
              "      <th>population</th>\n",
              "      <th>households</th>\n",
              "      <th>median_income</th>\n",
              "      <th>median_house_value</th>\n",
              "    </tr>\n",
              "  </thead>\n",
              "  <tbody>\n",
              "    <tr>\n",
              "      <th>0</th>\n",
              "      <td>-122.05</td>\n",
              "      <td>37.37</td>\n",
              "      <td>27.0</td>\n",
              "      <td>3885.0</td>\n",
              "      <td>661.0</td>\n",
              "      <td>1537.0</td>\n",
              "      <td>606.0</td>\n",
              "      <td>6.6085</td>\n",
              "      <td>344700.0</td>\n",
              "    </tr>\n",
              "    <tr>\n",
              "      <th>1</th>\n",
              "      <td>-118.30</td>\n",
              "      <td>34.26</td>\n",
              "      <td>43.0</td>\n",
              "      <td>1510.0</td>\n",
              "      <td>310.0</td>\n",
              "      <td>809.0</td>\n",
              "      <td>277.0</td>\n",
              "      <td>3.5990</td>\n",
              "      <td>176500.0</td>\n",
              "    </tr>\n",
              "    <tr>\n",
              "      <th>2</th>\n",
              "      <td>-117.81</td>\n",
              "      <td>33.78</td>\n",
              "      <td>27.0</td>\n",
              "      <td>3589.0</td>\n",
              "      <td>507.0</td>\n",
              "      <td>1484.0</td>\n",
              "      <td>495.0</td>\n",
              "      <td>5.7934</td>\n",
              "      <td>270500.0</td>\n",
              "    </tr>\n",
              "    <tr>\n",
              "      <th>3</th>\n",
              "      <td>-118.36</td>\n",
              "      <td>33.82</td>\n",
              "      <td>28.0</td>\n",
              "      <td>67.0</td>\n",
              "      <td>15.0</td>\n",
              "      <td>49.0</td>\n",
              "      <td>11.0</td>\n",
              "      <td>6.1359</td>\n",
              "      <td>330000.0</td>\n",
              "    </tr>\n",
              "    <tr>\n",
              "      <th>4</th>\n",
              "      <td>-119.67</td>\n",
              "      <td>36.33</td>\n",
              "      <td>19.0</td>\n",
              "      <td>1241.0</td>\n",
              "      <td>244.0</td>\n",
              "      <td>850.0</td>\n",
              "      <td>237.0</td>\n",
              "      <td>2.9375</td>\n",
              "      <td>81700.0</td>\n",
              "    </tr>\n",
              "    <tr>\n",
              "      <th>...</th>\n",
              "      <td>...</td>\n",
              "      <td>...</td>\n",
              "      <td>...</td>\n",
              "      <td>...</td>\n",
              "      <td>...</td>\n",
              "      <td>...</td>\n",
              "      <td>...</td>\n",
              "      <td>...</td>\n",
              "      <td>...</td>\n",
              "    </tr>\n",
              "    <tr>\n",
              "      <th>2995</th>\n",
              "      <td>-119.86</td>\n",
              "      <td>34.42</td>\n",
              "      <td>23.0</td>\n",
              "      <td>1450.0</td>\n",
              "      <td>642.0</td>\n",
              "      <td>1258.0</td>\n",
              "      <td>607.0</td>\n",
              "      <td>1.1790</td>\n",
              "      <td>225000.0</td>\n",
              "    </tr>\n",
              "    <tr>\n",
              "      <th>2996</th>\n",
              "      <td>-118.14</td>\n",
              "      <td>34.06</td>\n",
              "      <td>27.0</td>\n",
              "      <td>5257.0</td>\n",
              "      <td>1082.0</td>\n",
              "      <td>3496.0</td>\n",
              "      <td>1036.0</td>\n",
              "      <td>3.3906</td>\n",
              "      <td>237200.0</td>\n",
              "    </tr>\n",
              "    <tr>\n",
              "      <th>2997</th>\n",
              "      <td>-119.70</td>\n",
              "      <td>36.30</td>\n",
              "      <td>10.0</td>\n",
              "      <td>956.0</td>\n",
              "      <td>201.0</td>\n",
              "      <td>693.0</td>\n",
              "      <td>220.0</td>\n",
              "      <td>2.2895</td>\n",
              "      <td>62000.0</td>\n",
              "    </tr>\n",
              "    <tr>\n",
              "      <th>2998</th>\n",
              "      <td>-117.12</td>\n",
              "      <td>34.10</td>\n",
              "      <td>40.0</td>\n",
              "      <td>96.0</td>\n",
              "      <td>14.0</td>\n",
              "      <td>46.0</td>\n",
              "      <td>14.0</td>\n",
              "      <td>3.2708</td>\n",
              "      <td>162500.0</td>\n",
              "    </tr>\n",
              "    <tr>\n",
              "      <th>2999</th>\n",
              "      <td>-119.63</td>\n",
              "      <td>34.42</td>\n",
              "      <td>42.0</td>\n",
              "      <td>1765.0</td>\n",
              "      <td>263.0</td>\n",
              "      <td>753.0</td>\n",
              "      <td>260.0</td>\n",
              "      <td>8.5608</td>\n",
              "      <td>500001.0</td>\n",
              "    </tr>\n",
              "  </tbody>\n",
              "</table>\n",
              "<p>3000 rows × 9 columns</p>\n",
              "</div>\n",
              "    <div class=\"colab-df-buttons\">\n",
              "\n",
              "  <div class=\"colab-df-container\">\n",
              "    <button class=\"colab-df-convert\" onclick=\"convertToInteractive('df-95fbd490-c9b8-4048-9aec-719d1251657d')\"\n",
              "            title=\"Convert this dataframe to an interactive table.\"\n",
              "            style=\"display:none;\">\n",
              "\n",
              "  <svg xmlns=\"http://www.w3.org/2000/svg\" height=\"24px\" viewBox=\"0 -960 960 960\">\n",
              "    <path d=\"M120-120v-720h720v720H120Zm60-500h600v-160H180v160Zm220 220h160v-160H400v160Zm0 220h160v-160H400v160ZM180-400h160v-160H180v160Zm440 0h160v-160H620v160ZM180-180h160v-160H180v160Zm440 0h160v-160H620v160Z\"/>\n",
              "  </svg>\n",
              "    </button>\n",
              "\n",
              "  <style>\n",
              "    .colab-df-container {\n",
              "      display:flex;\n",
              "      gap: 12px;\n",
              "    }\n",
              "\n",
              "    .colab-df-convert {\n",
              "      background-color: #E8F0FE;\n",
              "      border: none;\n",
              "      border-radius: 50%;\n",
              "      cursor: pointer;\n",
              "      display: none;\n",
              "      fill: #1967D2;\n",
              "      height: 32px;\n",
              "      padding: 0 0 0 0;\n",
              "      width: 32px;\n",
              "    }\n",
              "\n",
              "    .colab-df-convert:hover {\n",
              "      background-color: #E2EBFA;\n",
              "      box-shadow: 0px 1px 2px rgba(60, 64, 67, 0.3), 0px 1px 3px 1px rgba(60, 64, 67, 0.15);\n",
              "      fill: #174EA6;\n",
              "    }\n",
              "\n",
              "    .colab-df-buttons div {\n",
              "      margin-bottom: 4px;\n",
              "    }\n",
              "\n",
              "    [theme=dark] .colab-df-convert {\n",
              "      background-color: #3B4455;\n",
              "      fill: #D2E3FC;\n",
              "    }\n",
              "\n",
              "    [theme=dark] .colab-df-convert:hover {\n",
              "      background-color: #434B5C;\n",
              "      box-shadow: 0px 1px 3px 1px rgba(0, 0, 0, 0.15);\n",
              "      filter: drop-shadow(0px 1px 2px rgba(0, 0, 0, 0.3));\n",
              "      fill: #FFFFFF;\n",
              "    }\n",
              "  </style>\n",
              "\n",
              "    <script>\n",
              "      const buttonEl =\n",
              "        document.querySelector('#df-95fbd490-c9b8-4048-9aec-719d1251657d button.colab-df-convert');\n",
              "      buttonEl.style.display =\n",
              "        google.colab.kernel.accessAllowed ? 'block' : 'none';\n",
              "\n",
              "      async function convertToInteractive(key) {\n",
              "        const element = document.querySelector('#df-95fbd490-c9b8-4048-9aec-719d1251657d');\n",
              "        const dataTable =\n",
              "          await google.colab.kernel.invokeFunction('convertToInteractive',\n",
              "                                                    [key], {});\n",
              "        if (!dataTable) return;\n",
              "\n",
              "        const docLinkHtml = 'Like what you see? Visit the ' +\n",
              "          '<a target=\"_blank\" href=https://colab.research.google.com/notebooks/data_table.ipynb>data table notebook</a>'\n",
              "          + ' to learn more about interactive tables.';\n",
              "        element.innerHTML = '';\n",
              "        dataTable['output_type'] = 'display_data';\n",
              "        await google.colab.output.renderOutput(dataTable, element);\n",
              "        const docLink = document.createElement('div');\n",
              "        docLink.innerHTML = docLinkHtml;\n",
              "        element.appendChild(docLink);\n",
              "      }\n",
              "    </script>\n",
              "  </div>\n",
              "\n",
              "\n",
              "    <div id=\"df-83b1fc3f-e4b6-4e4f-8faa-1209edb16174\">\n",
              "      <button class=\"colab-df-quickchart\" onclick=\"quickchart('df-83b1fc3f-e4b6-4e4f-8faa-1209edb16174')\"\n",
              "                title=\"Suggest charts\"\n",
              "                style=\"display:none;\">\n",
              "\n",
              "<svg xmlns=\"http://www.w3.org/2000/svg\" height=\"24px\"viewBox=\"0 0 24 24\"\n",
              "     width=\"24px\">\n",
              "    <g>\n",
              "        <path d=\"M19 3H5c-1.1 0-2 .9-2 2v14c0 1.1.9 2 2 2h14c1.1 0 2-.9 2-2V5c0-1.1-.9-2-2-2zM9 17H7v-7h2v7zm4 0h-2V7h2v10zm4 0h-2v-4h2v4z\"/>\n",
              "    </g>\n",
              "</svg>\n",
              "      </button>\n",
              "\n",
              "<style>\n",
              "  .colab-df-quickchart {\n",
              "      --bg-color: #E8F0FE;\n",
              "      --fill-color: #1967D2;\n",
              "      --hover-bg-color: #E2EBFA;\n",
              "      --hover-fill-color: #174EA6;\n",
              "      --disabled-fill-color: #AAA;\n",
              "      --disabled-bg-color: #DDD;\n",
              "  }\n",
              "\n",
              "  [theme=dark] .colab-df-quickchart {\n",
              "      --bg-color: #3B4455;\n",
              "      --fill-color: #D2E3FC;\n",
              "      --hover-bg-color: #434B5C;\n",
              "      --hover-fill-color: #FFFFFF;\n",
              "      --disabled-bg-color: #3B4455;\n",
              "      --disabled-fill-color: #666;\n",
              "  }\n",
              "\n",
              "  .colab-df-quickchart {\n",
              "    background-color: var(--bg-color);\n",
              "    border: none;\n",
              "    border-radius: 50%;\n",
              "    cursor: pointer;\n",
              "    display: none;\n",
              "    fill: var(--fill-color);\n",
              "    height: 32px;\n",
              "    padding: 0;\n",
              "    width: 32px;\n",
              "  }\n",
              "\n",
              "  .colab-df-quickchart:hover {\n",
              "    background-color: var(--hover-bg-color);\n",
              "    box-shadow: 0 1px 2px rgba(60, 64, 67, 0.3), 0 1px 3px 1px rgba(60, 64, 67, 0.15);\n",
              "    fill: var(--button-hover-fill-color);\n",
              "  }\n",
              "\n",
              "  .colab-df-quickchart-complete:disabled,\n",
              "  .colab-df-quickchart-complete:disabled:hover {\n",
              "    background-color: var(--disabled-bg-color);\n",
              "    fill: var(--disabled-fill-color);\n",
              "    box-shadow: none;\n",
              "  }\n",
              "\n",
              "  .colab-df-spinner {\n",
              "    border: 2px solid var(--fill-color);\n",
              "    border-color: transparent;\n",
              "    border-bottom-color: var(--fill-color);\n",
              "    animation:\n",
              "      spin 1s steps(1) infinite;\n",
              "  }\n",
              "\n",
              "  @keyframes spin {\n",
              "    0% {\n",
              "      border-color: transparent;\n",
              "      border-bottom-color: var(--fill-color);\n",
              "      border-left-color: var(--fill-color);\n",
              "    }\n",
              "    20% {\n",
              "      border-color: transparent;\n",
              "      border-left-color: var(--fill-color);\n",
              "      border-top-color: var(--fill-color);\n",
              "    }\n",
              "    30% {\n",
              "      border-color: transparent;\n",
              "      border-left-color: var(--fill-color);\n",
              "      border-top-color: var(--fill-color);\n",
              "      border-right-color: var(--fill-color);\n",
              "    }\n",
              "    40% {\n",
              "      border-color: transparent;\n",
              "      border-right-color: var(--fill-color);\n",
              "      border-top-color: var(--fill-color);\n",
              "    }\n",
              "    60% {\n",
              "      border-color: transparent;\n",
              "      border-right-color: var(--fill-color);\n",
              "    }\n",
              "    80% {\n",
              "      border-color: transparent;\n",
              "      border-right-color: var(--fill-color);\n",
              "      border-bottom-color: var(--fill-color);\n",
              "    }\n",
              "    90% {\n",
              "      border-color: transparent;\n",
              "      border-bottom-color: var(--fill-color);\n",
              "    }\n",
              "  }\n",
              "</style>\n",
              "\n",
              "      <script>\n",
              "        async function quickchart(key) {\n",
              "          const quickchartButtonEl =\n",
              "            document.querySelector('#' + key + ' button');\n",
              "          quickchartButtonEl.disabled = true;  // To prevent multiple clicks.\n",
              "          quickchartButtonEl.classList.add('colab-df-spinner');\n",
              "          try {\n",
              "            const charts = await google.colab.kernel.invokeFunction(\n",
              "                'suggestCharts', [key], {});\n",
              "          } catch (error) {\n",
              "            console.error('Error during call to suggestCharts:', error);\n",
              "          }\n",
              "          quickchartButtonEl.classList.remove('colab-df-spinner');\n",
              "          quickchartButtonEl.classList.add('colab-df-quickchart-complete');\n",
              "        }\n",
              "        (() => {\n",
              "          let quickchartButtonEl =\n",
              "            document.querySelector('#df-83b1fc3f-e4b6-4e4f-8faa-1209edb16174 button');\n",
              "          quickchartButtonEl.style.display =\n",
              "            google.colab.kernel.accessAllowed ? 'block' : 'none';\n",
              "        })();\n",
              "      </script>\n",
              "    </div>\n",
              "\n",
              "  <div id=\"id_4c3324c3-39d7-4c88-b97c-e4ebc4e6c24c\">\n",
              "    <style>\n",
              "      .colab-df-generate {\n",
              "        background-color: #E8F0FE;\n",
              "        border: none;\n",
              "        border-radius: 50%;\n",
              "        cursor: pointer;\n",
              "        display: none;\n",
              "        fill: #1967D2;\n",
              "        height: 32px;\n",
              "        padding: 0 0 0 0;\n",
              "        width: 32px;\n",
              "      }\n",
              "\n",
              "      .colab-df-generate:hover {\n",
              "        background-color: #E2EBFA;\n",
              "        box-shadow: 0px 1px 2px rgba(60, 64, 67, 0.3), 0px 1px 3px 1px rgba(60, 64, 67, 0.15);\n",
              "        fill: #174EA6;\n",
              "      }\n",
              "\n",
              "      [theme=dark] .colab-df-generate {\n",
              "        background-color: #3B4455;\n",
              "        fill: #D2E3FC;\n",
              "      }\n",
              "\n",
              "      [theme=dark] .colab-df-generate:hover {\n",
              "        background-color: #434B5C;\n",
              "        box-shadow: 0px 1px 3px 1px rgba(0, 0, 0, 0.15);\n",
              "        filter: drop-shadow(0px 1px 2px rgba(0, 0, 0, 0.3));\n",
              "        fill: #FFFFFF;\n",
              "      }\n",
              "    </style>\n",
              "    <button class=\"colab-df-generate\" onclick=\"generateWithVariable('df')\"\n",
              "            title=\"Generate code using this dataframe.\"\n",
              "            style=\"display:none;\">\n",
              "\n",
              "  <svg xmlns=\"http://www.w3.org/2000/svg\" height=\"24px\"viewBox=\"0 0 24 24\"\n",
              "       width=\"24px\">\n",
              "    <path d=\"M7,19H8.4L18.45,9,17,7.55,7,17.6ZM5,21V16.75L18.45,3.32a2,2,0,0,1,2.83,0l1.4,1.43a1.91,1.91,0,0,1,.58,1.4,1.91,1.91,0,0,1-.58,1.4L9.25,21ZM18.45,9,17,7.55Zm-12,3A5.31,5.31,0,0,0,4.9,8.1,5.31,5.31,0,0,0,1,6.5,5.31,5.31,0,0,0,4.9,4.9,5.31,5.31,0,0,0,6.5,1,5.31,5.31,0,0,0,8.1,4.9,5.31,5.31,0,0,0,12,6.5,5.46,5.46,0,0,0,6.5,12Z\"/>\n",
              "  </svg>\n",
              "    </button>\n",
              "    <script>\n",
              "      (() => {\n",
              "      const buttonEl =\n",
              "        document.querySelector('#id_4c3324c3-39d7-4c88-b97c-e4ebc4e6c24c button.colab-df-generate');\n",
              "      buttonEl.style.display =\n",
              "        google.colab.kernel.accessAllowed ? 'block' : 'none';\n",
              "\n",
              "      buttonEl.onclick = () => {\n",
              "        google.colab.notebook.generateWithVariable('df');\n",
              "      }\n",
              "      })();\n",
              "    </script>\n",
              "  </div>\n",
              "\n",
              "    </div>\n",
              "  </div>\n"
            ],
            "application/vnd.google.colaboratory.intrinsic+json": {
              "type": "dataframe",
              "variable_name": "df",
              "summary": "{\n  \"name\": \"df\",\n  \"rows\": 3000,\n  \"fields\": [\n    {\n      \"column\": \"longitude\",\n      \"properties\": {\n        \"dtype\": \"number\",\n        \"std\": 1.9949362939550161,\n        \"min\": -124.18,\n        \"max\": -114.49,\n        \"num_unique_values\": 607,\n        \"samples\": [\n          -121.15,\n          -121.46,\n          -121.02\n        ],\n        \"semantic_type\": \"\",\n        \"description\": \"\"\n      }\n    },\n    {\n      \"column\": \"latitude\",\n      \"properties\": {\n        \"dtype\": \"number\",\n        \"std\": 2.1296695233438325,\n        \"min\": 32.56,\n        \"max\": 41.92,\n        \"num_unique_values\": 587,\n        \"samples\": [\n          40.17,\n          33.69,\n          39.61\n        ],\n        \"semantic_type\": \"\",\n        \"description\": \"\"\n      }\n    },\n    {\n      \"column\": \"housing_median_age\",\n      \"properties\": {\n        \"dtype\": \"number\",\n        \"std\": 12.555395554955755,\n        \"min\": 1.0,\n        \"max\": 52.0,\n        \"num_unique_values\": 52,\n        \"samples\": [\n          14.0,\n          49.0,\n          7.0\n        ],\n        \"semantic_type\": \"\",\n        \"description\": \"\"\n      }\n    },\n    {\n      \"column\": \"total_rooms\",\n      \"properties\": {\n        \"dtype\": \"number\",\n        \"std\": 2155.59333162558,\n        \"min\": 6.0,\n        \"max\": 30450.0,\n        \"num_unique_values\": 2215,\n        \"samples\": [\n          1961.0,\n          1807.0,\n          680.0\n        ],\n        \"semantic_type\": \"\",\n        \"description\": \"\"\n      }\n    },\n    {\n      \"column\": \"total_bedrooms\",\n      \"properties\": {\n        \"dtype\": \"number\",\n        \"std\": 415.6543681363232,\n        \"min\": 2.0,\n        \"max\": 5419.0,\n        \"num_unique_values\": 1055,\n        \"samples\": [\n          532.0,\n          764.0,\n          2162.0\n        ],\n        \"semantic_type\": \"\",\n        \"description\": \"\"\n      }\n    },\n    {\n      \"column\": \"population\",\n      \"properties\": {\n        \"dtype\": \"number\",\n        \"std\": 1030.5430124122422,\n        \"min\": 5.0,\n        \"max\": 11935.0,\n        \"num_unique_values\": 1802,\n        \"samples\": [\n          947.0,\n          1140.0,\n          2019.0\n        ],\n        \"semantic_type\": \"\",\n        \"description\": \"\"\n      }\n    },\n    {\n      \"column\": \"households\",\n      \"properties\": {\n        \"dtype\": \"number\",\n        \"std\": 365.42270980552604,\n        \"min\": 2.0,\n        \"max\": 4930.0,\n        \"num_unique_values\": 1026,\n        \"samples\": [\n          646.0,\n          629.0,\n          504.0\n        ],\n        \"semantic_type\": \"\",\n        \"description\": \"\"\n      }\n    },\n    {\n      \"column\": \"median_income\",\n      \"properties\": {\n        \"dtype\": \"number\",\n        \"std\": 1.854511729691481,\n        \"min\": 0.4999,\n        \"max\": 15.0001,\n        \"num_unique_values\": 2578,\n        \"samples\": [\n          1.725,\n          0.7403,\n          2.6964\n        ],\n        \"semantic_type\": \"\",\n        \"description\": \"\"\n      }\n    },\n    {\n      \"column\": \"median_house_value\",\n      \"properties\": {\n        \"dtype\": \"number\",\n        \"std\": 113119.68746964433,\n        \"min\": 22500.0,\n        \"max\": 500001.0,\n        \"num_unique_values\": 1784,\n        \"samples\": [\n          71900.0,\n          63000.0,\n          115800.0\n        ],\n        \"semantic_type\": \"\",\n        \"description\": \"\"\n      }\n    }\n  ]\n}"
            }
          },
          "metadata": {},
          "execution_count": 99
        }
      ]
    },
    {
      "cell_type": "code",
      "source": [
        "df['total_bedrooms']"
      ],
      "metadata": {
        "colab": {
          "base_uri": "https://localhost:8080/",
          "height": 458
        },
        "id": "8ww_WXB2pThV",
        "outputId": "ab242a5b-e7ee-407f-da84-749c0f8fa395"
      },
      "execution_count": null,
      "outputs": [
        {
          "output_type": "execute_result",
          "data": {
            "text/plain": [
              "0        661.0\n",
              "1        310.0\n",
              "2        507.0\n",
              "3         15.0\n",
              "4        244.0\n",
              "         ...  \n",
              "2995     642.0\n",
              "2996    1082.0\n",
              "2997     201.0\n",
              "2998      14.0\n",
              "2999     263.0\n",
              "Name: total_bedrooms, Length: 3000, dtype: float64"
            ],
            "text/html": [
              "<div>\n",
              "<style scoped>\n",
              "    .dataframe tbody tr th:only-of-type {\n",
              "        vertical-align: middle;\n",
              "    }\n",
              "\n",
              "    .dataframe tbody tr th {\n",
              "        vertical-align: top;\n",
              "    }\n",
              "\n",
              "    .dataframe thead th {\n",
              "        text-align: right;\n",
              "    }\n",
              "</style>\n",
              "<table border=\"1\" class=\"dataframe\">\n",
              "  <thead>\n",
              "    <tr style=\"text-align: right;\">\n",
              "      <th></th>\n",
              "      <th>total_bedrooms</th>\n",
              "    </tr>\n",
              "  </thead>\n",
              "  <tbody>\n",
              "    <tr>\n",
              "      <th>0</th>\n",
              "      <td>661.0</td>\n",
              "    </tr>\n",
              "    <tr>\n",
              "      <th>1</th>\n",
              "      <td>310.0</td>\n",
              "    </tr>\n",
              "    <tr>\n",
              "      <th>2</th>\n",
              "      <td>507.0</td>\n",
              "    </tr>\n",
              "    <tr>\n",
              "      <th>3</th>\n",
              "      <td>15.0</td>\n",
              "    </tr>\n",
              "    <tr>\n",
              "      <th>4</th>\n",
              "      <td>244.0</td>\n",
              "    </tr>\n",
              "    <tr>\n",
              "      <th>...</th>\n",
              "      <td>...</td>\n",
              "    </tr>\n",
              "    <tr>\n",
              "      <th>2995</th>\n",
              "      <td>642.0</td>\n",
              "    </tr>\n",
              "    <tr>\n",
              "      <th>2996</th>\n",
              "      <td>1082.0</td>\n",
              "    </tr>\n",
              "    <tr>\n",
              "      <th>2997</th>\n",
              "      <td>201.0</td>\n",
              "    </tr>\n",
              "    <tr>\n",
              "      <th>2998</th>\n",
              "      <td>14.0</td>\n",
              "    </tr>\n",
              "    <tr>\n",
              "      <th>2999</th>\n",
              "      <td>263.0</td>\n",
              "    </tr>\n",
              "  </tbody>\n",
              "</table>\n",
              "<p>3000 rows × 1 columns</p>\n",
              "</div><br><label><b>dtype:</b> float64</label>"
            ]
          },
          "metadata": {},
          "execution_count": 100
        }
      ]
    },
    {
      "cell_type": "code",
      "source": [
        "df.total_bedrooms[2]"
      ],
      "metadata": {
        "colab": {
          "base_uri": "https://localhost:8080/"
        },
        "id": "RE3VCl4gpxJF",
        "outputId": "5aea4bb2-2827-425c-e56f-15059276c6df"
      },
      "execution_count": null,
      "outputs": [
        {
          "output_type": "execute_result",
          "data": {
            "text/plain": [
              "np.float64(507.0)"
            ]
          },
          "metadata": {},
          "execution_count": 101
        }
      ]
    },
    {
      "cell_type": "code",
      "source": [
        "!pip install datasets"
      ],
      "metadata": {
        "colab": {
          "base_uri": "https://localhost:8080/"
        },
        "id": "lvq7E_dnqBRF",
        "outputId": "7e346caf-54fc-4f85-ff42-ab1b5e021191"
      },
      "execution_count": null,
      "outputs": [
        {
          "output_type": "stream",
          "name": "stdout",
          "text": [
            "Requirement already satisfied: datasets in /usr/local/lib/python3.11/dist-packages (2.14.4)\n",
            "Requirement already satisfied: numpy>=1.17 in /usr/local/lib/python3.11/dist-packages (from datasets) (2.0.2)\n",
            "Requirement already satisfied: pyarrow>=8.0.0 in /usr/local/lib/python3.11/dist-packages (from datasets) (18.1.0)\n",
            "Requirement already satisfied: dill<0.3.8,>=0.3.0 in /usr/local/lib/python3.11/dist-packages (from datasets) (0.3.7)\n",
            "Requirement already satisfied: pandas in /usr/local/lib/python3.11/dist-packages (from datasets) (2.2.2)\n",
            "Requirement already satisfied: requests>=2.19.0 in /usr/local/lib/python3.11/dist-packages (from datasets) (2.32.3)\n",
            "Requirement already satisfied: tqdm>=4.62.1 in /usr/local/lib/python3.11/dist-packages (from datasets) (4.67.1)\n",
            "Requirement already satisfied: xxhash in /usr/local/lib/python3.11/dist-packages (from datasets) (3.5.0)\n",
            "Requirement already satisfied: multiprocess in /usr/local/lib/python3.11/dist-packages (from datasets) (0.70.15)\n",
            "Requirement already satisfied: fsspec>=2021.11.1 in /usr/local/lib/python3.11/dist-packages (from fsspec[http]>=2021.11.1->datasets) (2025.3.2)\n",
            "Requirement already satisfied: aiohttp in /usr/local/lib/python3.11/dist-packages (from datasets) (3.11.15)\n",
            "Requirement already satisfied: huggingface-hub<1.0.0,>=0.14.0 in /usr/local/lib/python3.11/dist-packages (from datasets) (0.31.4)\n",
            "Requirement already satisfied: packaging in /usr/local/lib/python3.11/dist-packages (from datasets) (24.2)\n",
            "Requirement already satisfied: pyyaml>=5.1 in /usr/local/lib/python3.11/dist-packages (from datasets) (6.0.2)\n",
            "Requirement already satisfied: aiohappyeyeballs>=2.3.0 in /usr/local/lib/python3.11/dist-packages (from aiohttp->datasets) (2.6.1)\n",
            "Requirement already satisfied: aiosignal>=1.1.2 in /usr/local/lib/python3.11/dist-packages (from aiohttp->datasets) (1.3.2)\n",
            "Requirement already satisfied: attrs>=17.3.0 in /usr/local/lib/python3.11/dist-packages (from aiohttp->datasets) (25.3.0)\n",
            "Requirement already satisfied: frozenlist>=1.1.1 in /usr/local/lib/python3.11/dist-packages (from aiohttp->datasets) (1.6.0)\n",
            "Requirement already satisfied: multidict<7.0,>=4.5 in /usr/local/lib/python3.11/dist-packages (from aiohttp->datasets) (6.4.4)\n",
            "Requirement already satisfied: propcache>=0.2.0 in /usr/local/lib/python3.11/dist-packages (from aiohttp->datasets) (0.3.1)\n",
            "Requirement already satisfied: yarl<2.0,>=1.17.0 in /usr/local/lib/python3.11/dist-packages (from aiohttp->datasets) (1.20.0)\n",
            "Requirement already satisfied: filelock in /usr/local/lib/python3.11/dist-packages (from huggingface-hub<1.0.0,>=0.14.0->datasets) (3.18.0)\n",
            "Requirement already satisfied: typing-extensions>=3.7.4.3 in /usr/local/lib/python3.11/dist-packages (from huggingface-hub<1.0.0,>=0.14.0->datasets) (4.13.2)\n",
            "Requirement already satisfied: charset-normalizer<4,>=2 in /usr/local/lib/python3.11/dist-packages (from requests>=2.19.0->datasets) (3.4.2)\n",
            "Requirement already satisfied: idna<4,>=2.5 in /usr/local/lib/python3.11/dist-packages (from requests>=2.19.0->datasets) (3.10)\n",
            "Requirement already satisfied: urllib3<3,>=1.21.1 in /usr/local/lib/python3.11/dist-packages (from requests>=2.19.0->datasets) (2.4.0)\n",
            "Requirement already satisfied: certifi>=2017.4.17 in /usr/local/lib/python3.11/dist-packages (from requests>=2.19.0->datasets) (2025.4.26)\n",
            "Requirement already satisfied: python-dateutil>=2.8.2 in /usr/local/lib/python3.11/dist-packages (from pandas->datasets) (2.9.0.post0)\n",
            "Requirement already satisfied: pytz>=2020.1 in /usr/local/lib/python3.11/dist-packages (from pandas->datasets) (2025.2)\n",
            "Requirement already satisfied: tzdata>=2022.7 in /usr/local/lib/python3.11/dist-packages (from pandas->datasets) (2025.2)\n",
            "Requirement already satisfied: six>=1.5 in /usr/local/lib/python3.11/dist-packages (from python-dateutil>=2.8.2->pandas->datasets) (1.17.0)\n"
          ]
        }
      ]
    },
    {
      "cell_type": "code",
      "source": [
        "from datasets import load_dataset\n",
        "\n"
      ],
      "metadata": {
        "id": "Z7jlDJAbqZy0"
      },
      "execution_count": null,
      "outputs": []
    },
    {
      "cell_type": "code",
      "source": [
        "import pandas as pd\n",
        "\n",
        "df = pd.read_csv(\"data_jobs.csv\")\n"
      ],
      "metadata": {
        "id": "Kkl_K_i7q3mE"
      },
      "execution_count": null,
      "outputs": []
    },
    {
      "cell_type": "code",
      "source": [
        "# inspect data  - pandas\n",
        "\n",
        "df.tail(5) # head for top rows"
      ],
      "metadata": {
        "colab": {
          "base_uri": "https://localhost:8080/",
          "height": 469
        },
        "id": "NeXYqzezsoNy",
        "outputId": "1339f078-fe65-4086-86c8-1e02d8a27a4e"
      },
      "execution_count": null,
      "outputs": [
        {
          "output_type": "execute_result",
          "data": {
            "text/plain": [
              "          job_title_short                                          job_title  \\\n",
              "785736  Software Engineer                                    DevOps Engineer   \n",
              "785737       Data Analyst                                   CRM Data Analyst   \n",
              "785738   Business Analyst                     Commercial Analyst - Start Now   \n",
              "785739      Data Engineer  Principal Associate, Data Engineer (Remote-Eli...   \n",
              "785740  Software Engineer                                 AWS System Analyst   \n",
              "\n",
              "                               job_location                    job_via  \\\n",
              "785736                            Singapura        melalui Trabajo.org   \n",
              "785737                   Bad Rodach, Jerman  melalui BeBee Deutschland   \n",
              "785738                             Malaysia           melalui Ricebowl   \n",
              "785739  Newark, New Jersey, Amerika Serikat        melalui Recruit.net   \n",
              "785740                                India             melalui Trigyn   \n",
              "\n",
              "       job_schedule_type  job_work_from_home search_location  \\\n",
              "785736   Pekerjaan tetap               False       Singapore   \n",
              "785737   Pekerjaan tetap               False         Germany   \n",
              "785738   Pekerjaan tetap               False        Malaysia   \n",
              "785739   Pekerjaan tetap               False           Sudan   \n",
              "785740   Pekerjaan tetap               False           India   \n",
              "\n",
              "            job_posted_date  job_no_degree_mention  job_health_insurance  \\\n",
              "785736  2023-03-13 06:16:16                  False                 False   \n",
              "785737  2023-03-12 06:18:18                  False                 False   \n",
              "785738  2023-03-12 06:32:36                  False                 False   \n",
              "785739  2023-03-12 06:32:15                  False                 False   \n",
              "785740  2023-03-13 06:16:31                  False                 False   \n",
              "\n",
              "       job_country salary_rate  salary_year_avg  salary_hour_avg  \\\n",
              "785736   Singapore         NaN              NaN              NaN   \n",
              "785737     Germany         NaN              NaN              NaN   \n",
              "785738    Malaysia         NaN              NaN              NaN   \n",
              "785739       Sudan         NaN              NaN              NaN   \n",
              "785740       India         NaN              NaN              NaN   \n",
              "\n",
              "                              company_name  \\\n",
              "785736  CAREERSTAR INTERNATIONAL PTE. LTD.   \n",
              "785737                    HABA FAMILYGROUP   \n",
              "785738               Lendlease Corporation   \n",
              "785739                         Capital One   \n",
              "785740                              Trigyn   \n",
              "\n",
              "                                               job_skills  \\\n",
              "785736  ['bash', 'python', 'perl', 'linux', 'unix', 'k...   \n",
              "785737                     ['sas', 'sas', 'sql', 'excel']   \n",
              "785738                            ['powerpoint', 'excel']   \n",
              "785739  ['python', 'go', 'nosql', 'sql', 'mongo', 'she...   \n",
              "785740                                    ['aws', 'flow']   \n",
              "\n",
              "                                          job_type_skills  \n",
              "785736  {'os': ['linux', 'unix'], 'other': ['kubernete...  \n",
              "785737  {'analyst_tools': ['sas', 'excel'], 'programmi...  \n",
              "785738         {'analyst_tools': ['powerpoint', 'excel']}  \n",
              "785739  {'cloud': ['aws', 'snowflake', 'azure', 'redsh...  \n",
              "785740              {'cloud': ['aws'], 'other': ['flow']}  "
            ],
            "text/html": [
              "\n",
              "  <div id=\"df-dea63673-c74f-4d08-914b-e7c9a5bf3bcc\" class=\"colab-df-container\">\n",
              "    <div>\n",
              "<style scoped>\n",
              "    .dataframe tbody tr th:only-of-type {\n",
              "        vertical-align: middle;\n",
              "    }\n",
              "\n",
              "    .dataframe tbody tr th {\n",
              "        vertical-align: top;\n",
              "    }\n",
              "\n",
              "    .dataframe thead th {\n",
              "        text-align: right;\n",
              "    }\n",
              "</style>\n",
              "<table border=\"1\" class=\"dataframe\">\n",
              "  <thead>\n",
              "    <tr style=\"text-align: right;\">\n",
              "      <th></th>\n",
              "      <th>job_title_short</th>\n",
              "      <th>job_title</th>\n",
              "      <th>job_location</th>\n",
              "      <th>job_via</th>\n",
              "      <th>job_schedule_type</th>\n",
              "      <th>job_work_from_home</th>\n",
              "      <th>search_location</th>\n",
              "      <th>job_posted_date</th>\n",
              "      <th>job_no_degree_mention</th>\n",
              "      <th>job_health_insurance</th>\n",
              "      <th>job_country</th>\n",
              "      <th>salary_rate</th>\n",
              "      <th>salary_year_avg</th>\n",
              "      <th>salary_hour_avg</th>\n",
              "      <th>company_name</th>\n",
              "      <th>job_skills</th>\n",
              "      <th>job_type_skills</th>\n",
              "    </tr>\n",
              "  </thead>\n",
              "  <tbody>\n",
              "    <tr>\n",
              "      <th>785736</th>\n",
              "      <td>Software Engineer</td>\n",
              "      <td>DevOps Engineer</td>\n",
              "      <td>Singapura</td>\n",
              "      <td>melalui Trabajo.org</td>\n",
              "      <td>Pekerjaan tetap</td>\n",
              "      <td>False</td>\n",
              "      <td>Singapore</td>\n",
              "      <td>2023-03-13 06:16:16</td>\n",
              "      <td>False</td>\n",
              "      <td>False</td>\n",
              "      <td>Singapore</td>\n",
              "      <td>NaN</td>\n",
              "      <td>NaN</td>\n",
              "      <td>NaN</td>\n",
              "      <td>CAREERSTAR INTERNATIONAL PTE. LTD.</td>\n",
              "      <td>['bash', 'python', 'perl', 'linux', 'unix', 'k...</td>\n",
              "      <td>{'os': ['linux', 'unix'], 'other': ['kubernete...</td>\n",
              "    </tr>\n",
              "    <tr>\n",
              "      <th>785737</th>\n",
              "      <td>Data Analyst</td>\n",
              "      <td>CRM Data Analyst</td>\n",
              "      <td>Bad Rodach, Jerman</td>\n",
              "      <td>melalui BeBee Deutschland</td>\n",
              "      <td>Pekerjaan tetap</td>\n",
              "      <td>False</td>\n",
              "      <td>Germany</td>\n",
              "      <td>2023-03-12 06:18:18</td>\n",
              "      <td>False</td>\n",
              "      <td>False</td>\n",
              "      <td>Germany</td>\n",
              "      <td>NaN</td>\n",
              "      <td>NaN</td>\n",
              "      <td>NaN</td>\n",
              "      <td>HABA FAMILYGROUP</td>\n",
              "      <td>['sas', 'sas', 'sql', 'excel']</td>\n",
              "      <td>{'analyst_tools': ['sas', 'excel'], 'programmi...</td>\n",
              "    </tr>\n",
              "    <tr>\n",
              "      <th>785738</th>\n",
              "      <td>Business Analyst</td>\n",
              "      <td>Commercial Analyst - Start Now</td>\n",
              "      <td>Malaysia</td>\n",
              "      <td>melalui Ricebowl</td>\n",
              "      <td>Pekerjaan tetap</td>\n",
              "      <td>False</td>\n",
              "      <td>Malaysia</td>\n",
              "      <td>2023-03-12 06:32:36</td>\n",
              "      <td>False</td>\n",
              "      <td>False</td>\n",
              "      <td>Malaysia</td>\n",
              "      <td>NaN</td>\n",
              "      <td>NaN</td>\n",
              "      <td>NaN</td>\n",
              "      <td>Lendlease Corporation</td>\n",
              "      <td>['powerpoint', 'excel']</td>\n",
              "      <td>{'analyst_tools': ['powerpoint', 'excel']}</td>\n",
              "    </tr>\n",
              "    <tr>\n",
              "      <th>785739</th>\n",
              "      <td>Data Engineer</td>\n",
              "      <td>Principal Associate, Data Engineer (Remote-Eli...</td>\n",
              "      <td>Newark, New Jersey, Amerika Serikat</td>\n",
              "      <td>melalui Recruit.net</td>\n",
              "      <td>Pekerjaan tetap</td>\n",
              "      <td>False</td>\n",
              "      <td>Sudan</td>\n",
              "      <td>2023-03-12 06:32:15</td>\n",
              "      <td>False</td>\n",
              "      <td>False</td>\n",
              "      <td>Sudan</td>\n",
              "      <td>NaN</td>\n",
              "      <td>NaN</td>\n",
              "      <td>NaN</td>\n",
              "      <td>Capital One</td>\n",
              "      <td>['python', 'go', 'nosql', 'sql', 'mongo', 'she...</td>\n",
              "      <td>{'cloud': ['aws', 'snowflake', 'azure', 'redsh...</td>\n",
              "    </tr>\n",
              "    <tr>\n",
              "      <th>785740</th>\n",
              "      <td>Software Engineer</td>\n",
              "      <td>AWS System Analyst</td>\n",
              "      <td>India</td>\n",
              "      <td>melalui Trigyn</td>\n",
              "      <td>Pekerjaan tetap</td>\n",
              "      <td>False</td>\n",
              "      <td>India</td>\n",
              "      <td>2023-03-13 06:16:31</td>\n",
              "      <td>False</td>\n",
              "      <td>False</td>\n",
              "      <td>India</td>\n",
              "      <td>NaN</td>\n",
              "      <td>NaN</td>\n",
              "      <td>NaN</td>\n",
              "      <td>Trigyn</td>\n",
              "      <td>['aws', 'flow']</td>\n",
              "      <td>{'cloud': ['aws'], 'other': ['flow']}</td>\n",
              "    </tr>\n",
              "  </tbody>\n",
              "</table>\n",
              "</div>\n",
              "    <div class=\"colab-df-buttons\">\n",
              "\n",
              "  <div class=\"colab-df-container\">\n",
              "    <button class=\"colab-df-convert\" onclick=\"convertToInteractive('df-dea63673-c74f-4d08-914b-e7c9a5bf3bcc')\"\n",
              "            title=\"Convert this dataframe to an interactive table.\"\n",
              "            style=\"display:none;\">\n",
              "\n",
              "  <svg xmlns=\"http://www.w3.org/2000/svg\" height=\"24px\" viewBox=\"0 -960 960 960\">\n",
              "    <path d=\"M120-120v-720h720v720H120Zm60-500h600v-160H180v160Zm220 220h160v-160H400v160Zm0 220h160v-160H400v160ZM180-400h160v-160H180v160Zm440 0h160v-160H620v160ZM180-180h160v-160H180v160Zm440 0h160v-160H620v160Z\"/>\n",
              "  </svg>\n",
              "    </button>\n",
              "\n",
              "  <style>\n",
              "    .colab-df-container {\n",
              "      display:flex;\n",
              "      gap: 12px;\n",
              "    }\n",
              "\n",
              "    .colab-df-convert {\n",
              "      background-color: #E8F0FE;\n",
              "      border: none;\n",
              "      border-radius: 50%;\n",
              "      cursor: pointer;\n",
              "      display: none;\n",
              "      fill: #1967D2;\n",
              "      height: 32px;\n",
              "      padding: 0 0 0 0;\n",
              "      width: 32px;\n",
              "    }\n",
              "\n",
              "    .colab-df-convert:hover {\n",
              "      background-color: #E2EBFA;\n",
              "      box-shadow: 0px 1px 2px rgba(60, 64, 67, 0.3), 0px 1px 3px 1px rgba(60, 64, 67, 0.15);\n",
              "      fill: #174EA6;\n",
              "    }\n",
              "\n",
              "    .colab-df-buttons div {\n",
              "      margin-bottom: 4px;\n",
              "    }\n",
              "\n",
              "    [theme=dark] .colab-df-convert {\n",
              "      background-color: #3B4455;\n",
              "      fill: #D2E3FC;\n",
              "    }\n",
              "\n",
              "    [theme=dark] .colab-df-convert:hover {\n",
              "      background-color: #434B5C;\n",
              "      box-shadow: 0px 1px 3px 1px rgba(0, 0, 0, 0.15);\n",
              "      filter: drop-shadow(0px 1px 2px rgba(0, 0, 0, 0.3));\n",
              "      fill: #FFFFFF;\n",
              "    }\n",
              "  </style>\n",
              "\n",
              "    <script>\n",
              "      const buttonEl =\n",
              "        document.querySelector('#df-dea63673-c74f-4d08-914b-e7c9a5bf3bcc button.colab-df-convert');\n",
              "      buttonEl.style.display =\n",
              "        google.colab.kernel.accessAllowed ? 'block' : 'none';\n",
              "\n",
              "      async function convertToInteractive(key) {\n",
              "        const element = document.querySelector('#df-dea63673-c74f-4d08-914b-e7c9a5bf3bcc');\n",
              "        const dataTable =\n",
              "          await google.colab.kernel.invokeFunction('convertToInteractive',\n",
              "                                                    [key], {});\n",
              "        if (!dataTable) return;\n",
              "\n",
              "        const docLinkHtml = 'Like what you see? Visit the ' +\n",
              "          '<a target=\"_blank\" href=https://colab.research.google.com/notebooks/data_table.ipynb>data table notebook</a>'\n",
              "          + ' to learn more about interactive tables.';\n",
              "        element.innerHTML = '';\n",
              "        dataTable['output_type'] = 'display_data';\n",
              "        await google.colab.output.renderOutput(dataTable, element);\n",
              "        const docLink = document.createElement('div');\n",
              "        docLink.innerHTML = docLinkHtml;\n",
              "        element.appendChild(docLink);\n",
              "      }\n",
              "    </script>\n",
              "  </div>\n",
              "\n",
              "\n",
              "    <div id=\"df-9ab6ac5e-b032-44d7-9517-151539913005\">\n",
              "      <button class=\"colab-df-quickchart\" onclick=\"quickchart('df-9ab6ac5e-b032-44d7-9517-151539913005')\"\n",
              "                title=\"Suggest charts\"\n",
              "                style=\"display:none;\">\n",
              "\n",
              "<svg xmlns=\"http://www.w3.org/2000/svg\" height=\"24px\"viewBox=\"0 0 24 24\"\n",
              "     width=\"24px\">\n",
              "    <g>\n",
              "        <path d=\"M19 3H5c-1.1 0-2 .9-2 2v14c0 1.1.9 2 2 2h14c1.1 0 2-.9 2-2V5c0-1.1-.9-2-2-2zM9 17H7v-7h2v7zm4 0h-2V7h2v10zm4 0h-2v-4h2v4z\"/>\n",
              "    </g>\n",
              "</svg>\n",
              "      </button>\n",
              "\n",
              "<style>\n",
              "  .colab-df-quickchart {\n",
              "      --bg-color: #E8F0FE;\n",
              "      --fill-color: #1967D2;\n",
              "      --hover-bg-color: #E2EBFA;\n",
              "      --hover-fill-color: #174EA6;\n",
              "      --disabled-fill-color: #AAA;\n",
              "      --disabled-bg-color: #DDD;\n",
              "  }\n",
              "\n",
              "  [theme=dark] .colab-df-quickchart {\n",
              "      --bg-color: #3B4455;\n",
              "      --fill-color: #D2E3FC;\n",
              "      --hover-bg-color: #434B5C;\n",
              "      --hover-fill-color: #FFFFFF;\n",
              "      --disabled-bg-color: #3B4455;\n",
              "      --disabled-fill-color: #666;\n",
              "  }\n",
              "\n",
              "  .colab-df-quickchart {\n",
              "    background-color: var(--bg-color);\n",
              "    border: none;\n",
              "    border-radius: 50%;\n",
              "    cursor: pointer;\n",
              "    display: none;\n",
              "    fill: var(--fill-color);\n",
              "    height: 32px;\n",
              "    padding: 0;\n",
              "    width: 32px;\n",
              "  }\n",
              "\n",
              "  .colab-df-quickchart:hover {\n",
              "    background-color: var(--hover-bg-color);\n",
              "    box-shadow: 0 1px 2px rgba(60, 64, 67, 0.3), 0 1px 3px 1px rgba(60, 64, 67, 0.15);\n",
              "    fill: var(--button-hover-fill-color);\n",
              "  }\n",
              "\n",
              "  .colab-df-quickchart-complete:disabled,\n",
              "  .colab-df-quickchart-complete:disabled:hover {\n",
              "    background-color: var(--disabled-bg-color);\n",
              "    fill: var(--disabled-fill-color);\n",
              "    box-shadow: none;\n",
              "  }\n",
              "\n",
              "  .colab-df-spinner {\n",
              "    border: 2px solid var(--fill-color);\n",
              "    border-color: transparent;\n",
              "    border-bottom-color: var(--fill-color);\n",
              "    animation:\n",
              "      spin 1s steps(1) infinite;\n",
              "  }\n",
              "\n",
              "  @keyframes spin {\n",
              "    0% {\n",
              "      border-color: transparent;\n",
              "      border-bottom-color: var(--fill-color);\n",
              "      border-left-color: var(--fill-color);\n",
              "    }\n",
              "    20% {\n",
              "      border-color: transparent;\n",
              "      border-left-color: var(--fill-color);\n",
              "      border-top-color: var(--fill-color);\n",
              "    }\n",
              "    30% {\n",
              "      border-color: transparent;\n",
              "      border-left-color: var(--fill-color);\n",
              "      border-top-color: var(--fill-color);\n",
              "      border-right-color: var(--fill-color);\n",
              "    }\n",
              "    40% {\n",
              "      border-color: transparent;\n",
              "      border-right-color: var(--fill-color);\n",
              "      border-top-color: var(--fill-color);\n",
              "    }\n",
              "    60% {\n",
              "      border-color: transparent;\n",
              "      border-right-color: var(--fill-color);\n",
              "    }\n",
              "    80% {\n",
              "      border-color: transparent;\n",
              "      border-right-color: var(--fill-color);\n",
              "      border-bottom-color: var(--fill-color);\n",
              "    }\n",
              "    90% {\n",
              "      border-color: transparent;\n",
              "      border-bottom-color: var(--fill-color);\n",
              "    }\n",
              "  }\n",
              "</style>\n",
              "\n",
              "      <script>\n",
              "        async function quickchart(key) {\n",
              "          const quickchartButtonEl =\n",
              "            document.querySelector('#' + key + ' button');\n",
              "          quickchartButtonEl.disabled = true;  // To prevent multiple clicks.\n",
              "          quickchartButtonEl.classList.add('colab-df-spinner');\n",
              "          try {\n",
              "            const charts = await google.colab.kernel.invokeFunction(\n",
              "                'suggestCharts', [key], {});\n",
              "          } catch (error) {\n",
              "            console.error('Error during call to suggestCharts:', error);\n",
              "          }\n",
              "          quickchartButtonEl.classList.remove('colab-df-spinner');\n",
              "          quickchartButtonEl.classList.add('colab-df-quickchart-complete');\n",
              "        }\n",
              "        (() => {\n",
              "          let quickchartButtonEl =\n",
              "            document.querySelector('#df-9ab6ac5e-b032-44d7-9517-151539913005 button');\n",
              "          quickchartButtonEl.style.display =\n",
              "            google.colab.kernel.accessAllowed ? 'block' : 'none';\n",
              "        })();\n",
              "      </script>\n",
              "    </div>\n",
              "\n",
              "    </div>\n",
              "  </div>\n"
            ],
            "application/vnd.google.colaboratory.intrinsic+json": {
              "type": "dataframe",
              "repr_error": "0"
            }
          },
          "metadata": {},
          "execution_count": 105
        }
      ]
    },
    {
      "cell_type": "code",
      "source": [
        "df[['job_title_short', \"job_location\"]].head(6)   # to get 2 columns with top 6 rows"
      ],
      "metadata": {
        "colab": {
          "base_uri": "https://localhost:8080/",
          "height": 238
        },
        "id": "IgRyxs3I2iMB",
        "outputId": "25eec618-24bb-4867-b4fe-9cdb3d9f8e03"
      },
      "execution_count": null,
      "outputs": [
        {
          "output_type": "execute_result",
          "data": {
            "text/plain": [
              "        job_title_short                  job_location\n",
              "0  Senior Data Engineer                 Watertown, CT\n",
              "1          Data Analyst  Guadalajara, Jalisco, Mexico\n",
              "2         Data Engineer               Berlin, Germany\n",
              "3         Data Engineer               San Antonio, TX\n",
              "4         Data Engineer                Washington, DC\n",
              "5         Data Engineer                      Anywhere"
            ],
            "text/html": [
              "\n",
              "  <div id=\"df-d1dc1ff4-41a5-49c4-97aa-cc152fdb9989\" class=\"colab-df-container\">\n",
              "    <div>\n",
              "<style scoped>\n",
              "    .dataframe tbody tr th:only-of-type {\n",
              "        vertical-align: middle;\n",
              "    }\n",
              "\n",
              "    .dataframe tbody tr th {\n",
              "        vertical-align: top;\n",
              "    }\n",
              "\n",
              "    .dataframe thead th {\n",
              "        text-align: right;\n",
              "    }\n",
              "</style>\n",
              "<table border=\"1\" class=\"dataframe\">\n",
              "  <thead>\n",
              "    <tr style=\"text-align: right;\">\n",
              "      <th></th>\n",
              "      <th>job_title_short</th>\n",
              "      <th>job_location</th>\n",
              "    </tr>\n",
              "  </thead>\n",
              "  <tbody>\n",
              "    <tr>\n",
              "      <th>0</th>\n",
              "      <td>Senior Data Engineer</td>\n",
              "      <td>Watertown, CT</td>\n",
              "    </tr>\n",
              "    <tr>\n",
              "      <th>1</th>\n",
              "      <td>Data Analyst</td>\n",
              "      <td>Guadalajara, Jalisco, Mexico</td>\n",
              "    </tr>\n",
              "    <tr>\n",
              "      <th>2</th>\n",
              "      <td>Data Engineer</td>\n",
              "      <td>Berlin, Germany</td>\n",
              "    </tr>\n",
              "    <tr>\n",
              "      <th>3</th>\n",
              "      <td>Data Engineer</td>\n",
              "      <td>San Antonio, TX</td>\n",
              "    </tr>\n",
              "    <tr>\n",
              "      <th>4</th>\n",
              "      <td>Data Engineer</td>\n",
              "      <td>Washington, DC</td>\n",
              "    </tr>\n",
              "    <tr>\n",
              "      <th>5</th>\n",
              "      <td>Data Engineer</td>\n",
              "      <td>Anywhere</td>\n",
              "    </tr>\n",
              "  </tbody>\n",
              "</table>\n",
              "</div>\n",
              "    <div class=\"colab-df-buttons\">\n",
              "\n",
              "  <div class=\"colab-df-container\">\n",
              "    <button class=\"colab-df-convert\" onclick=\"convertToInteractive('df-d1dc1ff4-41a5-49c4-97aa-cc152fdb9989')\"\n",
              "            title=\"Convert this dataframe to an interactive table.\"\n",
              "            style=\"display:none;\">\n",
              "\n",
              "  <svg xmlns=\"http://www.w3.org/2000/svg\" height=\"24px\" viewBox=\"0 -960 960 960\">\n",
              "    <path d=\"M120-120v-720h720v720H120Zm60-500h600v-160H180v160Zm220 220h160v-160H400v160Zm0 220h160v-160H400v160ZM180-400h160v-160H180v160Zm440 0h160v-160H620v160ZM180-180h160v-160H180v160Zm440 0h160v-160H620v160Z\"/>\n",
              "  </svg>\n",
              "    </button>\n",
              "\n",
              "  <style>\n",
              "    .colab-df-container {\n",
              "      display:flex;\n",
              "      gap: 12px;\n",
              "    }\n",
              "\n",
              "    .colab-df-convert {\n",
              "      background-color: #E8F0FE;\n",
              "      border: none;\n",
              "      border-radius: 50%;\n",
              "      cursor: pointer;\n",
              "      display: none;\n",
              "      fill: #1967D2;\n",
              "      height: 32px;\n",
              "      padding: 0 0 0 0;\n",
              "      width: 32px;\n",
              "    }\n",
              "\n",
              "    .colab-df-convert:hover {\n",
              "      background-color: #E2EBFA;\n",
              "      box-shadow: 0px 1px 2px rgba(60, 64, 67, 0.3), 0px 1px 3px 1px rgba(60, 64, 67, 0.15);\n",
              "      fill: #174EA6;\n",
              "    }\n",
              "\n",
              "    .colab-df-buttons div {\n",
              "      margin-bottom: 4px;\n",
              "    }\n",
              "\n",
              "    [theme=dark] .colab-df-convert {\n",
              "      background-color: #3B4455;\n",
              "      fill: #D2E3FC;\n",
              "    }\n",
              "\n",
              "    [theme=dark] .colab-df-convert:hover {\n",
              "      background-color: #434B5C;\n",
              "      box-shadow: 0px 1px 3px 1px rgba(0, 0, 0, 0.15);\n",
              "      filter: drop-shadow(0px 1px 2px rgba(0, 0, 0, 0.3));\n",
              "      fill: #FFFFFF;\n",
              "    }\n",
              "  </style>\n",
              "\n",
              "    <script>\n",
              "      const buttonEl =\n",
              "        document.querySelector('#df-d1dc1ff4-41a5-49c4-97aa-cc152fdb9989 button.colab-df-convert');\n",
              "      buttonEl.style.display =\n",
              "        google.colab.kernel.accessAllowed ? 'block' : 'none';\n",
              "\n",
              "      async function convertToInteractive(key) {\n",
              "        const element = document.querySelector('#df-d1dc1ff4-41a5-49c4-97aa-cc152fdb9989');\n",
              "        const dataTable =\n",
              "          await google.colab.kernel.invokeFunction('convertToInteractive',\n",
              "                                                    [key], {});\n",
              "        if (!dataTable) return;\n",
              "\n",
              "        const docLinkHtml = 'Like what you see? Visit the ' +\n",
              "          '<a target=\"_blank\" href=https://colab.research.google.com/notebooks/data_table.ipynb>data table notebook</a>'\n",
              "          + ' to learn more about interactive tables.';\n",
              "        element.innerHTML = '';\n",
              "        dataTable['output_type'] = 'display_data';\n",
              "        await google.colab.output.renderOutput(dataTable, element);\n",
              "        const docLink = document.createElement('div');\n",
              "        docLink.innerHTML = docLinkHtml;\n",
              "        element.appendChild(docLink);\n",
              "      }\n",
              "    </script>\n",
              "  </div>\n",
              "\n",
              "\n",
              "    <div id=\"df-29697a91-c8b8-403e-a86a-72fd5c61f83f\">\n",
              "      <button class=\"colab-df-quickchart\" onclick=\"quickchart('df-29697a91-c8b8-403e-a86a-72fd5c61f83f')\"\n",
              "                title=\"Suggest charts\"\n",
              "                style=\"display:none;\">\n",
              "\n",
              "<svg xmlns=\"http://www.w3.org/2000/svg\" height=\"24px\"viewBox=\"0 0 24 24\"\n",
              "     width=\"24px\">\n",
              "    <g>\n",
              "        <path d=\"M19 3H5c-1.1 0-2 .9-2 2v14c0 1.1.9 2 2 2h14c1.1 0 2-.9 2-2V5c0-1.1-.9-2-2-2zM9 17H7v-7h2v7zm4 0h-2V7h2v10zm4 0h-2v-4h2v4z\"/>\n",
              "    </g>\n",
              "</svg>\n",
              "      </button>\n",
              "\n",
              "<style>\n",
              "  .colab-df-quickchart {\n",
              "      --bg-color: #E8F0FE;\n",
              "      --fill-color: #1967D2;\n",
              "      --hover-bg-color: #E2EBFA;\n",
              "      --hover-fill-color: #174EA6;\n",
              "      --disabled-fill-color: #AAA;\n",
              "      --disabled-bg-color: #DDD;\n",
              "  }\n",
              "\n",
              "  [theme=dark] .colab-df-quickchart {\n",
              "      --bg-color: #3B4455;\n",
              "      --fill-color: #D2E3FC;\n",
              "      --hover-bg-color: #434B5C;\n",
              "      --hover-fill-color: #FFFFFF;\n",
              "      --disabled-bg-color: #3B4455;\n",
              "      --disabled-fill-color: #666;\n",
              "  }\n",
              "\n",
              "  .colab-df-quickchart {\n",
              "    background-color: var(--bg-color);\n",
              "    border: none;\n",
              "    border-radius: 50%;\n",
              "    cursor: pointer;\n",
              "    display: none;\n",
              "    fill: var(--fill-color);\n",
              "    height: 32px;\n",
              "    padding: 0;\n",
              "    width: 32px;\n",
              "  }\n",
              "\n",
              "  .colab-df-quickchart:hover {\n",
              "    background-color: var(--hover-bg-color);\n",
              "    box-shadow: 0 1px 2px rgba(60, 64, 67, 0.3), 0 1px 3px 1px rgba(60, 64, 67, 0.15);\n",
              "    fill: var(--button-hover-fill-color);\n",
              "  }\n",
              "\n",
              "  .colab-df-quickchart-complete:disabled,\n",
              "  .colab-df-quickchart-complete:disabled:hover {\n",
              "    background-color: var(--disabled-bg-color);\n",
              "    fill: var(--disabled-fill-color);\n",
              "    box-shadow: none;\n",
              "  }\n",
              "\n",
              "  .colab-df-spinner {\n",
              "    border: 2px solid var(--fill-color);\n",
              "    border-color: transparent;\n",
              "    border-bottom-color: var(--fill-color);\n",
              "    animation:\n",
              "      spin 1s steps(1) infinite;\n",
              "  }\n",
              "\n",
              "  @keyframes spin {\n",
              "    0% {\n",
              "      border-color: transparent;\n",
              "      border-bottom-color: var(--fill-color);\n",
              "      border-left-color: var(--fill-color);\n",
              "    }\n",
              "    20% {\n",
              "      border-color: transparent;\n",
              "      border-left-color: var(--fill-color);\n",
              "      border-top-color: var(--fill-color);\n",
              "    }\n",
              "    30% {\n",
              "      border-color: transparent;\n",
              "      border-left-color: var(--fill-color);\n",
              "      border-top-color: var(--fill-color);\n",
              "      border-right-color: var(--fill-color);\n",
              "    }\n",
              "    40% {\n",
              "      border-color: transparent;\n",
              "      border-right-color: var(--fill-color);\n",
              "      border-top-color: var(--fill-color);\n",
              "    }\n",
              "    60% {\n",
              "      border-color: transparent;\n",
              "      border-right-color: var(--fill-color);\n",
              "    }\n",
              "    80% {\n",
              "      border-color: transparent;\n",
              "      border-right-color: var(--fill-color);\n",
              "      border-bottom-color: var(--fill-color);\n",
              "    }\n",
              "    90% {\n",
              "      border-color: transparent;\n",
              "      border-bottom-color: var(--fill-color);\n",
              "    }\n",
              "  }\n",
              "</style>\n",
              "\n",
              "      <script>\n",
              "        async function quickchart(key) {\n",
              "          const quickchartButtonEl =\n",
              "            document.querySelector('#' + key + ' button');\n",
              "          quickchartButtonEl.disabled = true;  // To prevent multiple clicks.\n",
              "          quickchartButtonEl.classList.add('colab-df-spinner');\n",
              "          try {\n",
              "            const charts = await google.colab.kernel.invokeFunction(\n",
              "                'suggestCharts', [key], {});\n",
              "          } catch (error) {\n",
              "            console.error('Error during call to suggestCharts:', error);\n",
              "          }\n",
              "          quickchartButtonEl.classList.remove('colab-df-spinner');\n",
              "          quickchartButtonEl.classList.add('colab-df-quickchart-complete');\n",
              "        }\n",
              "        (() => {\n",
              "          let quickchartButtonEl =\n",
              "            document.querySelector('#df-29697a91-c8b8-403e-a86a-72fd5c61f83f button');\n",
              "          quickchartButtonEl.style.display =\n",
              "            google.colab.kernel.accessAllowed ? 'block' : 'none';\n",
              "        })();\n",
              "      </script>\n",
              "    </div>\n",
              "\n",
              "    </div>\n",
              "  </div>\n"
            ],
            "application/vnd.google.colaboratory.intrinsic+json": {
              "type": "dataframe",
              "summary": "{\n  \"name\": \"df[['job_title_short', \\\"job_location\\\"]]\",\n  \"rows\": 6,\n  \"fields\": [\n    {\n      \"column\": \"job_title_short\",\n      \"properties\": {\n        \"dtype\": \"string\",\n        \"num_unique_values\": 3,\n        \"samples\": [\n          \"Senior Data Engineer\",\n          \"Data Analyst\",\n          \"Data Engineer\"\n        ],\n        \"semantic_type\": \"\",\n        \"description\": \"\"\n      }\n    },\n    {\n      \"column\": \"job_location\",\n      \"properties\": {\n        \"dtype\": \"string\",\n        \"num_unique_values\": 6,\n        \"samples\": [\n          \"Watertown, CT\",\n          \"Guadalajara, Jalisco, Mexico\",\n          \"Anywhere\"\n        ],\n        \"semantic_type\": \"\",\n        \"description\": \"\"\n      }\n    }\n  ]\n}"
            }
          },
          "metadata": {},
          "execution_count": 106
        }
      ]
    },
    {
      "cell_type": "code",
      "source": [
        "df[['job_title_short', \"job_location\"]].iloc[90:95]  # used to specify which row to pull - iloc and also columns too"
      ],
      "metadata": {
        "colab": {
          "base_uri": "https://localhost:8080/",
          "height": 206
        },
        "id": "-rqBNTsv4lZD",
        "outputId": "d6ab6a13-c33b-40e8-8d0a-772237eb78fd"
      },
      "execution_count": null,
      "outputs": [
        {
          "output_type": "execute_result",
          "data": {
            "text/plain": [
              "   job_title_short   job_location\n",
              "90  Data Scientist      Australia\n",
              "91  Data Scientist  Temuco, Chile\n",
              "92   Data Engineer       Anywhere\n",
              "93    Data Analyst       Anywhere\n",
              "94   Data Engineer       Lehi, UT"
            ],
            "text/html": [
              "\n",
              "  <div id=\"df-39a355d6-c526-484d-9203-b4a334115cab\" class=\"colab-df-container\">\n",
              "    <div>\n",
              "<style scoped>\n",
              "    .dataframe tbody tr th:only-of-type {\n",
              "        vertical-align: middle;\n",
              "    }\n",
              "\n",
              "    .dataframe tbody tr th {\n",
              "        vertical-align: top;\n",
              "    }\n",
              "\n",
              "    .dataframe thead th {\n",
              "        text-align: right;\n",
              "    }\n",
              "</style>\n",
              "<table border=\"1\" class=\"dataframe\">\n",
              "  <thead>\n",
              "    <tr style=\"text-align: right;\">\n",
              "      <th></th>\n",
              "      <th>job_title_short</th>\n",
              "      <th>job_location</th>\n",
              "    </tr>\n",
              "  </thead>\n",
              "  <tbody>\n",
              "    <tr>\n",
              "      <th>90</th>\n",
              "      <td>Data Scientist</td>\n",
              "      <td>Australia</td>\n",
              "    </tr>\n",
              "    <tr>\n",
              "      <th>91</th>\n",
              "      <td>Data Scientist</td>\n",
              "      <td>Temuco, Chile</td>\n",
              "    </tr>\n",
              "    <tr>\n",
              "      <th>92</th>\n",
              "      <td>Data Engineer</td>\n",
              "      <td>Anywhere</td>\n",
              "    </tr>\n",
              "    <tr>\n",
              "      <th>93</th>\n",
              "      <td>Data Analyst</td>\n",
              "      <td>Anywhere</td>\n",
              "    </tr>\n",
              "    <tr>\n",
              "      <th>94</th>\n",
              "      <td>Data Engineer</td>\n",
              "      <td>Lehi, UT</td>\n",
              "    </tr>\n",
              "  </tbody>\n",
              "</table>\n",
              "</div>\n",
              "    <div class=\"colab-df-buttons\">\n",
              "\n",
              "  <div class=\"colab-df-container\">\n",
              "    <button class=\"colab-df-convert\" onclick=\"convertToInteractive('df-39a355d6-c526-484d-9203-b4a334115cab')\"\n",
              "            title=\"Convert this dataframe to an interactive table.\"\n",
              "            style=\"display:none;\">\n",
              "\n",
              "  <svg xmlns=\"http://www.w3.org/2000/svg\" height=\"24px\" viewBox=\"0 -960 960 960\">\n",
              "    <path d=\"M120-120v-720h720v720H120Zm60-500h600v-160H180v160Zm220 220h160v-160H400v160Zm0 220h160v-160H400v160ZM180-400h160v-160H180v160Zm440 0h160v-160H620v160ZM180-180h160v-160H180v160Zm440 0h160v-160H620v160Z\"/>\n",
              "  </svg>\n",
              "    </button>\n",
              "\n",
              "  <style>\n",
              "    .colab-df-container {\n",
              "      display:flex;\n",
              "      gap: 12px;\n",
              "    }\n",
              "\n",
              "    .colab-df-convert {\n",
              "      background-color: #E8F0FE;\n",
              "      border: none;\n",
              "      border-radius: 50%;\n",
              "      cursor: pointer;\n",
              "      display: none;\n",
              "      fill: #1967D2;\n",
              "      height: 32px;\n",
              "      padding: 0 0 0 0;\n",
              "      width: 32px;\n",
              "    }\n",
              "\n",
              "    .colab-df-convert:hover {\n",
              "      background-color: #E2EBFA;\n",
              "      box-shadow: 0px 1px 2px rgba(60, 64, 67, 0.3), 0px 1px 3px 1px rgba(60, 64, 67, 0.15);\n",
              "      fill: #174EA6;\n",
              "    }\n",
              "\n",
              "    .colab-df-buttons div {\n",
              "      margin-bottom: 4px;\n",
              "    }\n",
              "\n",
              "    [theme=dark] .colab-df-convert {\n",
              "      background-color: #3B4455;\n",
              "      fill: #D2E3FC;\n",
              "    }\n",
              "\n",
              "    [theme=dark] .colab-df-convert:hover {\n",
              "      background-color: #434B5C;\n",
              "      box-shadow: 0px 1px 3px 1px rgba(0, 0, 0, 0.15);\n",
              "      filter: drop-shadow(0px 1px 2px rgba(0, 0, 0, 0.3));\n",
              "      fill: #FFFFFF;\n",
              "    }\n",
              "  </style>\n",
              "\n",
              "    <script>\n",
              "      const buttonEl =\n",
              "        document.querySelector('#df-39a355d6-c526-484d-9203-b4a334115cab button.colab-df-convert');\n",
              "      buttonEl.style.display =\n",
              "        google.colab.kernel.accessAllowed ? 'block' : 'none';\n",
              "\n",
              "      async function convertToInteractive(key) {\n",
              "        const element = document.querySelector('#df-39a355d6-c526-484d-9203-b4a334115cab');\n",
              "        const dataTable =\n",
              "          await google.colab.kernel.invokeFunction('convertToInteractive',\n",
              "                                                    [key], {});\n",
              "        if (!dataTable) return;\n",
              "\n",
              "        const docLinkHtml = 'Like what you see? Visit the ' +\n",
              "          '<a target=\"_blank\" href=https://colab.research.google.com/notebooks/data_table.ipynb>data table notebook</a>'\n",
              "          + ' to learn more about interactive tables.';\n",
              "        element.innerHTML = '';\n",
              "        dataTable['output_type'] = 'display_data';\n",
              "        await google.colab.output.renderOutput(dataTable, element);\n",
              "        const docLink = document.createElement('div');\n",
              "        docLink.innerHTML = docLinkHtml;\n",
              "        element.appendChild(docLink);\n",
              "      }\n",
              "    </script>\n",
              "  </div>\n",
              "\n",
              "\n",
              "    <div id=\"df-56785c07-db84-4af1-8348-27ab9e35cc3f\">\n",
              "      <button class=\"colab-df-quickchart\" onclick=\"quickchart('df-56785c07-db84-4af1-8348-27ab9e35cc3f')\"\n",
              "                title=\"Suggest charts\"\n",
              "                style=\"display:none;\">\n",
              "\n",
              "<svg xmlns=\"http://www.w3.org/2000/svg\" height=\"24px\"viewBox=\"0 0 24 24\"\n",
              "     width=\"24px\">\n",
              "    <g>\n",
              "        <path d=\"M19 3H5c-1.1 0-2 .9-2 2v14c0 1.1.9 2 2 2h14c1.1 0 2-.9 2-2V5c0-1.1-.9-2-2-2zM9 17H7v-7h2v7zm4 0h-2V7h2v10zm4 0h-2v-4h2v4z\"/>\n",
              "    </g>\n",
              "</svg>\n",
              "      </button>\n",
              "\n",
              "<style>\n",
              "  .colab-df-quickchart {\n",
              "      --bg-color: #E8F0FE;\n",
              "      --fill-color: #1967D2;\n",
              "      --hover-bg-color: #E2EBFA;\n",
              "      --hover-fill-color: #174EA6;\n",
              "      --disabled-fill-color: #AAA;\n",
              "      --disabled-bg-color: #DDD;\n",
              "  }\n",
              "\n",
              "  [theme=dark] .colab-df-quickchart {\n",
              "      --bg-color: #3B4455;\n",
              "      --fill-color: #D2E3FC;\n",
              "      --hover-bg-color: #434B5C;\n",
              "      --hover-fill-color: #FFFFFF;\n",
              "      --disabled-bg-color: #3B4455;\n",
              "      --disabled-fill-color: #666;\n",
              "  }\n",
              "\n",
              "  .colab-df-quickchart {\n",
              "    background-color: var(--bg-color);\n",
              "    border: none;\n",
              "    border-radius: 50%;\n",
              "    cursor: pointer;\n",
              "    display: none;\n",
              "    fill: var(--fill-color);\n",
              "    height: 32px;\n",
              "    padding: 0;\n",
              "    width: 32px;\n",
              "  }\n",
              "\n",
              "  .colab-df-quickchart:hover {\n",
              "    background-color: var(--hover-bg-color);\n",
              "    box-shadow: 0 1px 2px rgba(60, 64, 67, 0.3), 0 1px 3px 1px rgba(60, 64, 67, 0.15);\n",
              "    fill: var(--button-hover-fill-color);\n",
              "  }\n",
              "\n",
              "  .colab-df-quickchart-complete:disabled,\n",
              "  .colab-df-quickchart-complete:disabled:hover {\n",
              "    background-color: var(--disabled-bg-color);\n",
              "    fill: var(--disabled-fill-color);\n",
              "    box-shadow: none;\n",
              "  }\n",
              "\n",
              "  .colab-df-spinner {\n",
              "    border: 2px solid var(--fill-color);\n",
              "    border-color: transparent;\n",
              "    border-bottom-color: var(--fill-color);\n",
              "    animation:\n",
              "      spin 1s steps(1) infinite;\n",
              "  }\n",
              "\n",
              "  @keyframes spin {\n",
              "    0% {\n",
              "      border-color: transparent;\n",
              "      border-bottom-color: var(--fill-color);\n",
              "      border-left-color: var(--fill-color);\n",
              "    }\n",
              "    20% {\n",
              "      border-color: transparent;\n",
              "      border-left-color: var(--fill-color);\n",
              "      border-top-color: var(--fill-color);\n",
              "    }\n",
              "    30% {\n",
              "      border-color: transparent;\n",
              "      border-left-color: var(--fill-color);\n",
              "      border-top-color: var(--fill-color);\n",
              "      border-right-color: var(--fill-color);\n",
              "    }\n",
              "    40% {\n",
              "      border-color: transparent;\n",
              "      border-right-color: var(--fill-color);\n",
              "      border-top-color: var(--fill-color);\n",
              "    }\n",
              "    60% {\n",
              "      border-color: transparent;\n",
              "      border-right-color: var(--fill-color);\n",
              "    }\n",
              "    80% {\n",
              "      border-color: transparent;\n",
              "      border-right-color: var(--fill-color);\n",
              "      border-bottom-color: var(--fill-color);\n",
              "    }\n",
              "    90% {\n",
              "      border-color: transparent;\n",
              "      border-bottom-color: var(--fill-color);\n",
              "    }\n",
              "  }\n",
              "</style>\n",
              "\n",
              "      <script>\n",
              "        async function quickchart(key) {\n",
              "          const quickchartButtonEl =\n",
              "            document.querySelector('#' + key + ' button');\n",
              "          quickchartButtonEl.disabled = true;  // To prevent multiple clicks.\n",
              "          quickchartButtonEl.classList.add('colab-df-spinner');\n",
              "          try {\n",
              "            const charts = await google.colab.kernel.invokeFunction(\n",
              "                'suggestCharts', [key], {});\n",
              "          } catch (error) {\n",
              "            console.error('Error during call to suggestCharts:', error);\n",
              "          }\n",
              "          quickchartButtonEl.classList.remove('colab-df-spinner');\n",
              "          quickchartButtonEl.classList.add('colab-df-quickchart-complete');\n",
              "        }\n",
              "        (() => {\n",
              "          let quickchartButtonEl =\n",
              "            document.querySelector('#df-56785c07-db84-4af1-8348-27ab9e35cc3f button');\n",
              "          quickchartButtonEl.style.display =\n",
              "            google.colab.kernel.accessAllowed ? 'block' : 'none';\n",
              "        })();\n",
              "      </script>\n",
              "    </div>\n",
              "\n",
              "    </div>\n",
              "  </div>\n"
            ],
            "application/vnd.google.colaboratory.intrinsic+json": {
              "type": "dataframe",
              "summary": "{\n  \"name\": \"df[['job_title_short', \\\"job_location\\\"]]\",\n  \"rows\": 5,\n  \"fields\": [\n    {\n      \"column\": \"job_title_short\",\n      \"properties\": {\n        \"dtype\": \"string\",\n        \"num_unique_values\": 3,\n        \"samples\": [\n          \"Data Scientist\",\n          \"Data Engineer\",\n          \"Data Analyst\"\n        ],\n        \"semantic_type\": \"\",\n        \"description\": \"\"\n      }\n    },\n    {\n      \"column\": \"job_location\",\n      \"properties\": {\n        \"dtype\": \"string\",\n        \"num_unique_values\": 4,\n        \"samples\": [\n          \"Temuco, Chile\",\n          \"Lehi, UT\",\n          \"Australia\"\n        ],\n        \"semantic_type\": \"\",\n        \"description\": \"\"\n      }\n    }\n  ]\n}"
            }
          },
          "metadata": {},
          "execution_count": 107
        }
      ]
    },
    {
      "cell_type": "code",
      "source": [
        "df.info()    # information about dataset"
      ],
      "metadata": {
        "colab": {
          "base_uri": "https://localhost:8080/"
        },
        "id": "ind6WQ3k5UV9",
        "outputId": "720e5768-1b3f-4774-dd2a-4c92f46670ea"
      },
      "execution_count": null,
      "outputs": [
        {
          "output_type": "stream",
          "name": "stdout",
          "text": [
            "<class 'pandas.core.frame.DataFrame'>\n",
            "RangeIndex: 785741 entries, 0 to 785740\n",
            "Data columns (total 17 columns):\n",
            " #   Column                 Non-Null Count   Dtype  \n",
            "---  ------                 --------------   -----  \n",
            " 0   job_title_short        785741 non-null  object \n",
            " 1   job_title              785740 non-null  object \n",
            " 2   job_location           784696 non-null  object \n",
            " 3   job_via                785733 non-null  object \n",
            " 4   job_schedule_type      773074 non-null  object \n",
            " 5   job_work_from_home     785741 non-null  bool   \n",
            " 6   search_location        785741 non-null  object \n",
            " 7   job_posted_date        785741 non-null  object \n",
            " 8   job_no_degree_mention  785741 non-null  bool   \n",
            " 9   job_health_insurance   785741 non-null  bool   \n",
            " 10  job_country            785692 non-null  object \n",
            " 11  salary_rate            33067 non-null   object \n",
            " 12  salary_year_avg        22003 non-null   float64\n",
            " 13  salary_hour_avg        10662 non-null   float64\n",
            " 14  company_name           785723 non-null  object \n",
            " 15  job_skills             668704 non-null  object \n",
            " 16  job_type_skills        668704 non-null  object \n",
            "dtypes: bool(3), float64(2), object(12)\n",
            "memory usage: 86.2+ MB\n"
          ]
        }
      ]
    },
    {
      "cell_type": "code",
      "source": [
        "df.describe()       # provides stats only for numerical columns"
      ],
      "metadata": {
        "colab": {
          "base_uri": "https://localhost:8080/",
          "height": 300
        },
        "id": "AS-5u6Nr7At3",
        "outputId": "4aa3f699-3538-4d10-c20c-95dfe0d4fb53"
      },
      "execution_count": null,
      "outputs": [
        {
          "output_type": "execute_result",
          "data": {
            "text/plain": [
              "       salary_year_avg  salary_hour_avg\n",
              "count     22003.000000     10662.000000\n",
              "mean     123286.274072        47.016598\n",
              "std       48312.449482        21.890738\n",
              "min       15000.000000         8.000000\n",
              "25%       90000.000000        27.500000\n",
              "50%      115000.000000        45.980000\n",
              "75%      150000.000000        61.159996\n",
              "max      960000.000000       391.000000"
            ],
            "text/html": [
              "\n",
              "  <div id=\"df-3999297b-247a-4bb5-8ad2-2612639b038f\" class=\"colab-df-container\">\n",
              "    <div>\n",
              "<style scoped>\n",
              "    .dataframe tbody tr th:only-of-type {\n",
              "        vertical-align: middle;\n",
              "    }\n",
              "\n",
              "    .dataframe tbody tr th {\n",
              "        vertical-align: top;\n",
              "    }\n",
              "\n",
              "    .dataframe thead th {\n",
              "        text-align: right;\n",
              "    }\n",
              "</style>\n",
              "<table border=\"1\" class=\"dataframe\">\n",
              "  <thead>\n",
              "    <tr style=\"text-align: right;\">\n",
              "      <th></th>\n",
              "      <th>salary_year_avg</th>\n",
              "      <th>salary_hour_avg</th>\n",
              "    </tr>\n",
              "  </thead>\n",
              "  <tbody>\n",
              "    <tr>\n",
              "      <th>count</th>\n",
              "      <td>22003.000000</td>\n",
              "      <td>10662.000000</td>\n",
              "    </tr>\n",
              "    <tr>\n",
              "      <th>mean</th>\n",
              "      <td>123286.274072</td>\n",
              "      <td>47.016598</td>\n",
              "    </tr>\n",
              "    <tr>\n",
              "      <th>std</th>\n",
              "      <td>48312.449482</td>\n",
              "      <td>21.890738</td>\n",
              "    </tr>\n",
              "    <tr>\n",
              "      <th>min</th>\n",
              "      <td>15000.000000</td>\n",
              "      <td>8.000000</td>\n",
              "    </tr>\n",
              "    <tr>\n",
              "      <th>25%</th>\n",
              "      <td>90000.000000</td>\n",
              "      <td>27.500000</td>\n",
              "    </tr>\n",
              "    <tr>\n",
              "      <th>50%</th>\n",
              "      <td>115000.000000</td>\n",
              "      <td>45.980000</td>\n",
              "    </tr>\n",
              "    <tr>\n",
              "      <th>75%</th>\n",
              "      <td>150000.000000</td>\n",
              "      <td>61.159996</td>\n",
              "    </tr>\n",
              "    <tr>\n",
              "      <th>max</th>\n",
              "      <td>960000.000000</td>\n",
              "      <td>391.000000</td>\n",
              "    </tr>\n",
              "  </tbody>\n",
              "</table>\n",
              "</div>\n",
              "    <div class=\"colab-df-buttons\">\n",
              "\n",
              "  <div class=\"colab-df-container\">\n",
              "    <button class=\"colab-df-convert\" onclick=\"convertToInteractive('df-3999297b-247a-4bb5-8ad2-2612639b038f')\"\n",
              "            title=\"Convert this dataframe to an interactive table.\"\n",
              "            style=\"display:none;\">\n",
              "\n",
              "  <svg xmlns=\"http://www.w3.org/2000/svg\" height=\"24px\" viewBox=\"0 -960 960 960\">\n",
              "    <path d=\"M120-120v-720h720v720H120Zm60-500h600v-160H180v160Zm220 220h160v-160H400v160Zm0 220h160v-160H400v160ZM180-400h160v-160H180v160Zm440 0h160v-160H620v160ZM180-180h160v-160H180v160Zm440 0h160v-160H620v160Z\"/>\n",
              "  </svg>\n",
              "    </button>\n",
              "\n",
              "  <style>\n",
              "    .colab-df-container {\n",
              "      display:flex;\n",
              "      gap: 12px;\n",
              "    }\n",
              "\n",
              "    .colab-df-convert {\n",
              "      background-color: #E8F0FE;\n",
              "      border: none;\n",
              "      border-radius: 50%;\n",
              "      cursor: pointer;\n",
              "      display: none;\n",
              "      fill: #1967D2;\n",
              "      height: 32px;\n",
              "      padding: 0 0 0 0;\n",
              "      width: 32px;\n",
              "    }\n",
              "\n",
              "    .colab-df-convert:hover {\n",
              "      background-color: #E2EBFA;\n",
              "      box-shadow: 0px 1px 2px rgba(60, 64, 67, 0.3), 0px 1px 3px 1px rgba(60, 64, 67, 0.15);\n",
              "      fill: #174EA6;\n",
              "    }\n",
              "\n",
              "    .colab-df-buttons div {\n",
              "      margin-bottom: 4px;\n",
              "    }\n",
              "\n",
              "    [theme=dark] .colab-df-convert {\n",
              "      background-color: #3B4455;\n",
              "      fill: #D2E3FC;\n",
              "    }\n",
              "\n",
              "    [theme=dark] .colab-df-convert:hover {\n",
              "      background-color: #434B5C;\n",
              "      box-shadow: 0px 1px 3px 1px rgba(0, 0, 0, 0.15);\n",
              "      filter: drop-shadow(0px 1px 2px rgba(0, 0, 0, 0.3));\n",
              "      fill: #FFFFFF;\n",
              "    }\n",
              "  </style>\n",
              "\n",
              "    <script>\n",
              "      const buttonEl =\n",
              "        document.querySelector('#df-3999297b-247a-4bb5-8ad2-2612639b038f button.colab-df-convert');\n",
              "      buttonEl.style.display =\n",
              "        google.colab.kernel.accessAllowed ? 'block' : 'none';\n",
              "\n",
              "      async function convertToInteractive(key) {\n",
              "        const element = document.querySelector('#df-3999297b-247a-4bb5-8ad2-2612639b038f');\n",
              "        const dataTable =\n",
              "          await google.colab.kernel.invokeFunction('convertToInteractive',\n",
              "                                                    [key], {});\n",
              "        if (!dataTable) return;\n",
              "\n",
              "        const docLinkHtml = 'Like what you see? Visit the ' +\n",
              "          '<a target=\"_blank\" href=https://colab.research.google.com/notebooks/data_table.ipynb>data table notebook</a>'\n",
              "          + ' to learn more about interactive tables.';\n",
              "        element.innerHTML = '';\n",
              "        dataTable['output_type'] = 'display_data';\n",
              "        await google.colab.output.renderOutput(dataTable, element);\n",
              "        const docLink = document.createElement('div');\n",
              "        docLink.innerHTML = docLinkHtml;\n",
              "        element.appendChild(docLink);\n",
              "      }\n",
              "    </script>\n",
              "  </div>\n",
              "\n",
              "\n",
              "    <div id=\"df-278cc73b-117e-4d4a-8dd7-ca1890744b53\">\n",
              "      <button class=\"colab-df-quickchart\" onclick=\"quickchart('df-278cc73b-117e-4d4a-8dd7-ca1890744b53')\"\n",
              "                title=\"Suggest charts\"\n",
              "                style=\"display:none;\">\n",
              "\n",
              "<svg xmlns=\"http://www.w3.org/2000/svg\" height=\"24px\"viewBox=\"0 0 24 24\"\n",
              "     width=\"24px\">\n",
              "    <g>\n",
              "        <path d=\"M19 3H5c-1.1 0-2 .9-2 2v14c0 1.1.9 2 2 2h14c1.1 0 2-.9 2-2V5c0-1.1-.9-2-2-2zM9 17H7v-7h2v7zm4 0h-2V7h2v10zm4 0h-2v-4h2v4z\"/>\n",
              "    </g>\n",
              "</svg>\n",
              "      </button>\n",
              "\n",
              "<style>\n",
              "  .colab-df-quickchart {\n",
              "      --bg-color: #E8F0FE;\n",
              "      --fill-color: #1967D2;\n",
              "      --hover-bg-color: #E2EBFA;\n",
              "      --hover-fill-color: #174EA6;\n",
              "      --disabled-fill-color: #AAA;\n",
              "      --disabled-bg-color: #DDD;\n",
              "  }\n",
              "\n",
              "  [theme=dark] .colab-df-quickchart {\n",
              "      --bg-color: #3B4455;\n",
              "      --fill-color: #D2E3FC;\n",
              "      --hover-bg-color: #434B5C;\n",
              "      --hover-fill-color: #FFFFFF;\n",
              "      --disabled-bg-color: #3B4455;\n",
              "      --disabled-fill-color: #666;\n",
              "  }\n",
              "\n",
              "  .colab-df-quickchart {\n",
              "    background-color: var(--bg-color);\n",
              "    border: none;\n",
              "    border-radius: 50%;\n",
              "    cursor: pointer;\n",
              "    display: none;\n",
              "    fill: var(--fill-color);\n",
              "    height: 32px;\n",
              "    padding: 0;\n",
              "    width: 32px;\n",
              "  }\n",
              "\n",
              "  .colab-df-quickchart:hover {\n",
              "    background-color: var(--hover-bg-color);\n",
              "    box-shadow: 0 1px 2px rgba(60, 64, 67, 0.3), 0 1px 3px 1px rgba(60, 64, 67, 0.15);\n",
              "    fill: var(--button-hover-fill-color);\n",
              "  }\n",
              "\n",
              "  .colab-df-quickchart-complete:disabled,\n",
              "  .colab-df-quickchart-complete:disabled:hover {\n",
              "    background-color: var(--disabled-bg-color);\n",
              "    fill: var(--disabled-fill-color);\n",
              "    box-shadow: none;\n",
              "  }\n",
              "\n",
              "  .colab-df-spinner {\n",
              "    border: 2px solid var(--fill-color);\n",
              "    border-color: transparent;\n",
              "    border-bottom-color: var(--fill-color);\n",
              "    animation:\n",
              "      spin 1s steps(1) infinite;\n",
              "  }\n",
              "\n",
              "  @keyframes spin {\n",
              "    0% {\n",
              "      border-color: transparent;\n",
              "      border-bottom-color: var(--fill-color);\n",
              "      border-left-color: var(--fill-color);\n",
              "    }\n",
              "    20% {\n",
              "      border-color: transparent;\n",
              "      border-left-color: var(--fill-color);\n",
              "      border-top-color: var(--fill-color);\n",
              "    }\n",
              "    30% {\n",
              "      border-color: transparent;\n",
              "      border-left-color: var(--fill-color);\n",
              "      border-top-color: var(--fill-color);\n",
              "      border-right-color: var(--fill-color);\n",
              "    }\n",
              "    40% {\n",
              "      border-color: transparent;\n",
              "      border-right-color: var(--fill-color);\n",
              "      border-top-color: var(--fill-color);\n",
              "    }\n",
              "    60% {\n",
              "      border-color: transparent;\n",
              "      border-right-color: var(--fill-color);\n",
              "    }\n",
              "    80% {\n",
              "      border-color: transparent;\n",
              "      border-right-color: var(--fill-color);\n",
              "      border-bottom-color: var(--fill-color);\n",
              "    }\n",
              "    90% {\n",
              "      border-color: transparent;\n",
              "      border-bottom-color: var(--fill-color);\n",
              "    }\n",
              "  }\n",
              "</style>\n",
              "\n",
              "      <script>\n",
              "        async function quickchart(key) {\n",
              "          const quickchartButtonEl =\n",
              "            document.querySelector('#' + key + ' button');\n",
              "          quickchartButtonEl.disabled = true;  // To prevent multiple clicks.\n",
              "          quickchartButtonEl.classList.add('colab-df-spinner');\n",
              "          try {\n",
              "            const charts = await google.colab.kernel.invokeFunction(\n",
              "                'suggestCharts', [key], {});\n",
              "          } catch (error) {\n",
              "            console.error('Error during call to suggestCharts:', error);\n",
              "          }\n",
              "          quickchartButtonEl.classList.remove('colab-df-spinner');\n",
              "          quickchartButtonEl.classList.add('colab-df-quickchart-complete');\n",
              "        }\n",
              "        (() => {\n",
              "          let quickchartButtonEl =\n",
              "            document.querySelector('#df-278cc73b-117e-4d4a-8dd7-ca1890744b53 button');\n",
              "          quickchartButtonEl.style.display =\n",
              "            google.colab.kernel.accessAllowed ? 'block' : 'none';\n",
              "        })();\n",
              "      </script>\n",
              "    </div>\n",
              "\n",
              "    </div>\n",
              "  </div>\n"
            ],
            "application/vnd.google.colaboratory.intrinsic+json": {
              "type": "dataframe",
              "summary": "{\n  \"name\": \"df\",\n  \"rows\": 8,\n  \"fields\": [\n    {\n      \"column\": \"salary_year_avg\",\n      \"properties\": {\n        \"dtype\": \"number\",\n        \"std\": 314755.56358557666,\n        \"min\": 15000.0,\n        \"max\": 960000.0,\n        \"num_unique_values\": 8,\n        \"samples\": [\n          123286.27407182401,\n          115000.0,\n          22003.0\n        ],\n        \"semantic_type\": \"\",\n        \"description\": \"\"\n      }\n    },\n    {\n      \"column\": \"salary_hour_avg\",\n      \"properties\": {\n        \"dtype\": \"number\",\n        \"std\": 3741.2609867335127,\n        \"min\": 8.0,\n        \"max\": 10662.0,\n        \"num_unique_values\": 8,\n        \"samples\": [\n          47.01659821515861,\n          45.97999954223633,\n          10662.0\n        ],\n        \"semantic_type\": \"\",\n        \"description\": \"\"\n      }\n    }\n  ]\n}"
            }
          },
          "metadata": {},
          "execution_count": 109
        }
      ]
    },
    {
      "cell_type": "code",
      "source": [
        "df.job_title_short.unique()     # to see types of attributes in columns"
      ],
      "metadata": {
        "colab": {
          "base_uri": "https://localhost:8080/"
        },
        "id": "jRfgquWk7atf",
        "outputId": "13ffa302-dfee-4b3b-f451-f4912ad8a475"
      },
      "execution_count": null,
      "outputs": [
        {
          "output_type": "execute_result",
          "data": {
            "text/plain": [
              "array(['Senior Data Engineer', 'Data Analyst', 'Data Engineer',\n",
              "       'Business Analyst', 'Data Scientist', 'Machine Learning Engineer',\n",
              "       'Senior Data Analyst', 'Cloud Engineer', 'Senior Data Scientist',\n",
              "       'Software Engineer'], dtype=object)"
            ]
          },
          "metadata": {},
          "execution_count": 110
        }
      ]
    },
    {
      "cell_type": "code",
      "source": [
        "df[(df.job_title_short == \"Data Analyst\") & (df.salary_year_avg > 100000)]      # used to filter data by column and value df.salary_year_avg.notna() - means value which are NAN will be excluded"
      ],
      "metadata": {
        "colab": {
          "base_uri": "https://localhost:8080/",
          "height": 860
        },
        "id": "Vbl6IkaO71TD",
        "outputId": "083b58c3-5667-43ca-b7b2-e29627441594"
      },
      "execution_count": null,
      "outputs": [
        {
          "output_type": "execute_result",
          "data": {
            "text/plain": [
              "       job_title_short                                      job_title  \\\n",
              "410       Data Analyst    IT Business Lead Data Analyst - VP - Hybrid   \n",
              "1555      Data Analyst                  Data Analyst/Engineer (M/F/D)   \n",
              "1681      Data Analyst                                   Data Analyst   \n",
              "1684      Data Analyst                       Data Analyst - Data17829   \n",
              "1867      Data Analyst  Data Integration Analyst (West Coast/Chicago)   \n",
              "...                ...                                            ...   \n",
              "783588    Data Analyst                         Data Analytics Manager   \n",
              "783866    Data Analyst                Lead Credit Bureau Data Analyst   \n",
              "784033    Data Analyst                       Recruitment Data Analyst   \n",
              "785187    Data Analyst                                   Data Analyst   \n",
              "785515    Data Analyst                                   Data Analyst   \n",
              "\n",
              "                       job_location               job_via job_schedule_type  \\\n",
              "410              Atlantic Beach, FL  via ComputerJobs.com         Full-time   \n",
              "1555               Aveiro, Portugal       via Ai-Jobs.net         Full-time   \n",
              "1681                     Irvine, CA       via Ai-Jobs.net         Full-time   \n",
              "1684                      Tampa, FL            via Indeed         Full-time   \n",
              "1867                    Chicago, IL       via Ai-Jobs.net         Full-time   \n",
              "...                             ...                   ...               ...   \n",
              "783588                  Chicago, IL           via Ladders         Full-time   \n",
              "783866              Des Plaines, IL           via Ladders         Full-time   \n",
              "784033   Mumbai, Maharashtra, India       via Ai-Jobs.net         Full-time   \n",
              "785187             Lisbon, Portugal       via Ai-Jobs.net         Full-time   \n",
              "785515  Bengaluru, Karnataka, India       via Ai-Jobs.net         Full-time   \n",
              "\n",
              "        job_work_from_home            search_location      job_posted_date  \\\n",
              "410                  False                    Georgia  2023-01-10 13:59:02   \n",
              "1555                 False                   Portugal  2023-04-25 13:27:25   \n",
              "1681                 False  California, United States  2023-03-23 13:01:14   \n",
              "1684                 False     Florida, United States  2023-07-18 13:02:09   \n",
              "1867                 False    Illinois, United States  2023-07-18 13:01:47   \n",
              "...                    ...                        ...                  ...   \n",
              "783588               False    Illinois, United States  2023-01-09 06:01:18   \n",
              "783866               False    Illinois, United States  2023-06-02 06:02:06   \n",
              "784033               False                      India  2023-06-07 06:10:15   \n",
              "785187               False                   Portugal  2023-06-07 06:30:33   \n",
              "785515               False                      India  2023-09-01 06:17:34   \n",
              "\n",
              "        job_no_degree_mention  job_health_insurance    job_country  \\\n",
              "410                     False                 False  United States   \n",
              "1555                    False                 False       Portugal   \n",
              "1681                    False                  True  United States   \n",
              "1684                     True                  True  United States   \n",
              "1867                    False                 False  United States   \n",
              "...                       ...                   ...            ...   \n",
              "783588                  False                 False  United States   \n",
              "783866                  False                  True  United States   \n",
              "784033                  False                 False          India   \n",
              "785187                  False                 False       Portugal   \n",
              "785515                  False                 False          India   \n",
              "\n",
              "       salary_rate  salary_year_avg  salary_hour_avg  \\\n",
              "410           year         133285.0              NaN   \n",
              "1555          year         111175.0              NaN   \n",
              "1681          year         111175.0              NaN   \n",
              "1684          year         120000.0              NaN   \n",
              "1867          year         101500.0              NaN   \n",
              "...            ...              ...              ...   \n",
              "783588        year         125000.0              NaN   \n",
              "783866        year         115000.0              NaN   \n",
              "784033        year         111175.0              NaN   \n",
              "785187        year         111175.0              NaN   \n",
              "785515        year         105000.0              NaN   \n",
              "\n",
              "                       company_name  \\\n",
              "410                            Citi   \n",
              "1555                    Bosch Group   \n",
              "1681                Western Digital   \n",
              "1684                       Acrisure   \n",
              "1867                         Forsta   \n",
              "...                             ...   \n",
              "783588        United Air Lines, Inc   \n",
              "783866  Discover Financial Services   \n",
              "784033                   Framestore   \n",
              "785187                     Farfetch   \n",
              "785515                       Myntra   \n",
              "\n",
              "                                               job_skills  \\\n",
              "410     ['sql', 'word', 'excel', 'visio', 'powerpoint'...   \n",
              "1555                              ['databricks', 'spark']   \n",
              "1681              ['sql', 'tableau', 'power bi', 'excel']   \n",
              "1684     ['shell', 'sql', 'azure', 'databricks', 'linux']   \n",
              "1867                         ['php', 'python', 'express']   \n",
              "...                                                   ...   \n",
              "783588          ['sql', 'r', 'python', 'hadoop', 'excel']   \n",
              "783866                                           ['unix']   \n",
              "784033                            ['power bi', 'tableau']   \n",
              "785187                   ['sql', 'python', 'r', 'looker']   \n",
              "785515                                                NaN   \n",
              "\n",
              "                                          job_type_skills  \n",
              "410     {'analyst_tools': ['word', 'excel', 'visio', '...  \n",
              "1555    {'cloud': ['databricks'], 'libraries': ['spark']}  \n",
              "1681    {'analyst_tools': ['tableau', 'power bi', 'exc...  \n",
              "1684    {'cloud': ['azure', 'databricks'], 'os': ['lin...  \n",
              "1867    {'programming': ['php', 'python'], 'webframewo...  \n",
              "...                                                   ...  \n",
              "783588  {'analyst_tools': ['excel'], 'libraries': ['ha...  \n",
              "783866                                   {'os': ['unix']}  \n",
              "784033         {'analyst_tools': ['power bi', 'tableau']}  \n",
              "785187  {'analyst_tools': ['looker'], 'programming': [...  \n",
              "785515                                                NaN  \n",
              "\n",
              "[1976 rows x 17 columns]"
            ],
            "text/html": [
              "\n",
              "  <div id=\"df-ab5771a2-4014-43cc-90ad-cea7757e8a77\" class=\"colab-df-container\">\n",
              "    <div>\n",
              "<style scoped>\n",
              "    .dataframe tbody tr th:only-of-type {\n",
              "        vertical-align: middle;\n",
              "    }\n",
              "\n",
              "    .dataframe tbody tr th {\n",
              "        vertical-align: top;\n",
              "    }\n",
              "\n",
              "    .dataframe thead th {\n",
              "        text-align: right;\n",
              "    }\n",
              "</style>\n",
              "<table border=\"1\" class=\"dataframe\">\n",
              "  <thead>\n",
              "    <tr style=\"text-align: right;\">\n",
              "      <th></th>\n",
              "      <th>job_title_short</th>\n",
              "      <th>job_title</th>\n",
              "      <th>job_location</th>\n",
              "      <th>job_via</th>\n",
              "      <th>job_schedule_type</th>\n",
              "      <th>job_work_from_home</th>\n",
              "      <th>search_location</th>\n",
              "      <th>job_posted_date</th>\n",
              "      <th>job_no_degree_mention</th>\n",
              "      <th>job_health_insurance</th>\n",
              "      <th>job_country</th>\n",
              "      <th>salary_rate</th>\n",
              "      <th>salary_year_avg</th>\n",
              "      <th>salary_hour_avg</th>\n",
              "      <th>company_name</th>\n",
              "      <th>job_skills</th>\n",
              "      <th>job_type_skills</th>\n",
              "    </tr>\n",
              "  </thead>\n",
              "  <tbody>\n",
              "    <tr>\n",
              "      <th>410</th>\n",
              "      <td>Data Analyst</td>\n",
              "      <td>IT Business Lead Data Analyst - VP - Hybrid</td>\n",
              "      <td>Atlantic Beach, FL</td>\n",
              "      <td>via ComputerJobs.com</td>\n",
              "      <td>Full-time</td>\n",
              "      <td>False</td>\n",
              "      <td>Georgia</td>\n",
              "      <td>2023-01-10 13:59:02</td>\n",
              "      <td>False</td>\n",
              "      <td>False</td>\n",
              "      <td>United States</td>\n",
              "      <td>year</td>\n",
              "      <td>133285.0</td>\n",
              "      <td>NaN</td>\n",
              "      <td>Citi</td>\n",
              "      <td>['sql', 'word', 'excel', 'visio', 'powerpoint'...</td>\n",
              "      <td>{'analyst_tools': ['word', 'excel', 'visio', '...</td>\n",
              "    </tr>\n",
              "    <tr>\n",
              "      <th>1555</th>\n",
              "      <td>Data Analyst</td>\n",
              "      <td>Data Analyst/Engineer (M/F/D)</td>\n",
              "      <td>Aveiro, Portugal</td>\n",
              "      <td>via Ai-Jobs.net</td>\n",
              "      <td>Full-time</td>\n",
              "      <td>False</td>\n",
              "      <td>Portugal</td>\n",
              "      <td>2023-04-25 13:27:25</td>\n",
              "      <td>False</td>\n",
              "      <td>False</td>\n",
              "      <td>Portugal</td>\n",
              "      <td>year</td>\n",
              "      <td>111175.0</td>\n",
              "      <td>NaN</td>\n",
              "      <td>Bosch Group</td>\n",
              "      <td>['databricks', 'spark']</td>\n",
              "      <td>{'cloud': ['databricks'], 'libraries': ['spark']}</td>\n",
              "    </tr>\n",
              "    <tr>\n",
              "      <th>1681</th>\n",
              "      <td>Data Analyst</td>\n",
              "      <td>Data Analyst</td>\n",
              "      <td>Irvine, CA</td>\n",
              "      <td>via Ai-Jobs.net</td>\n",
              "      <td>Full-time</td>\n",
              "      <td>False</td>\n",
              "      <td>California, United States</td>\n",
              "      <td>2023-03-23 13:01:14</td>\n",
              "      <td>False</td>\n",
              "      <td>True</td>\n",
              "      <td>United States</td>\n",
              "      <td>year</td>\n",
              "      <td>111175.0</td>\n",
              "      <td>NaN</td>\n",
              "      <td>Western Digital</td>\n",
              "      <td>['sql', 'tableau', 'power bi', 'excel']</td>\n",
              "      <td>{'analyst_tools': ['tableau', 'power bi', 'exc...</td>\n",
              "    </tr>\n",
              "    <tr>\n",
              "      <th>1684</th>\n",
              "      <td>Data Analyst</td>\n",
              "      <td>Data Analyst - Data17829</td>\n",
              "      <td>Tampa, FL</td>\n",
              "      <td>via Indeed</td>\n",
              "      <td>Full-time</td>\n",
              "      <td>False</td>\n",
              "      <td>Florida, United States</td>\n",
              "      <td>2023-07-18 13:02:09</td>\n",
              "      <td>True</td>\n",
              "      <td>True</td>\n",
              "      <td>United States</td>\n",
              "      <td>year</td>\n",
              "      <td>120000.0</td>\n",
              "      <td>NaN</td>\n",
              "      <td>Acrisure</td>\n",
              "      <td>['shell', 'sql', 'azure', 'databricks', 'linux']</td>\n",
              "      <td>{'cloud': ['azure', 'databricks'], 'os': ['lin...</td>\n",
              "    </tr>\n",
              "    <tr>\n",
              "      <th>1867</th>\n",
              "      <td>Data Analyst</td>\n",
              "      <td>Data Integration Analyst (West Coast/Chicago)</td>\n",
              "      <td>Chicago, IL</td>\n",
              "      <td>via Ai-Jobs.net</td>\n",
              "      <td>Full-time</td>\n",
              "      <td>False</td>\n",
              "      <td>Illinois, United States</td>\n",
              "      <td>2023-07-18 13:01:47</td>\n",
              "      <td>False</td>\n",
              "      <td>False</td>\n",
              "      <td>United States</td>\n",
              "      <td>year</td>\n",
              "      <td>101500.0</td>\n",
              "      <td>NaN</td>\n",
              "      <td>Forsta</td>\n",
              "      <td>['php', 'python', 'express']</td>\n",
              "      <td>{'programming': ['php', 'python'], 'webframewo...</td>\n",
              "    </tr>\n",
              "    <tr>\n",
              "      <th>...</th>\n",
              "      <td>...</td>\n",
              "      <td>...</td>\n",
              "      <td>...</td>\n",
              "      <td>...</td>\n",
              "      <td>...</td>\n",
              "      <td>...</td>\n",
              "      <td>...</td>\n",
              "      <td>...</td>\n",
              "      <td>...</td>\n",
              "      <td>...</td>\n",
              "      <td>...</td>\n",
              "      <td>...</td>\n",
              "      <td>...</td>\n",
              "      <td>...</td>\n",
              "      <td>...</td>\n",
              "      <td>...</td>\n",
              "      <td>...</td>\n",
              "    </tr>\n",
              "    <tr>\n",
              "      <th>783588</th>\n",
              "      <td>Data Analyst</td>\n",
              "      <td>Data Analytics Manager</td>\n",
              "      <td>Chicago, IL</td>\n",
              "      <td>via Ladders</td>\n",
              "      <td>Full-time</td>\n",
              "      <td>False</td>\n",
              "      <td>Illinois, United States</td>\n",
              "      <td>2023-01-09 06:01:18</td>\n",
              "      <td>False</td>\n",
              "      <td>False</td>\n",
              "      <td>United States</td>\n",
              "      <td>year</td>\n",
              "      <td>125000.0</td>\n",
              "      <td>NaN</td>\n",
              "      <td>United Air Lines, Inc</td>\n",
              "      <td>['sql', 'r', 'python', 'hadoop', 'excel']</td>\n",
              "      <td>{'analyst_tools': ['excel'], 'libraries': ['ha...</td>\n",
              "    </tr>\n",
              "    <tr>\n",
              "      <th>783866</th>\n",
              "      <td>Data Analyst</td>\n",
              "      <td>Lead Credit Bureau Data Analyst</td>\n",
              "      <td>Des Plaines, IL</td>\n",
              "      <td>via Ladders</td>\n",
              "      <td>Full-time</td>\n",
              "      <td>False</td>\n",
              "      <td>Illinois, United States</td>\n",
              "      <td>2023-06-02 06:02:06</td>\n",
              "      <td>False</td>\n",
              "      <td>True</td>\n",
              "      <td>United States</td>\n",
              "      <td>year</td>\n",
              "      <td>115000.0</td>\n",
              "      <td>NaN</td>\n",
              "      <td>Discover Financial Services</td>\n",
              "      <td>['unix']</td>\n",
              "      <td>{'os': ['unix']}</td>\n",
              "    </tr>\n",
              "    <tr>\n",
              "      <th>784033</th>\n",
              "      <td>Data Analyst</td>\n",
              "      <td>Recruitment Data Analyst</td>\n",
              "      <td>Mumbai, Maharashtra, India</td>\n",
              "      <td>via Ai-Jobs.net</td>\n",
              "      <td>Full-time</td>\n",
              "      <td>False</td>\n",
              "      <td>India</td>\n",
              "      <td>2023-06-07 06:10:15</td>\n",
              "      <td>False</td>\n",
              "      <td>False</td>\n",
              "      <td>India</td>\n",
              "      <td>year</td>\n",
              "      <td>111175.0</td>\n",
              "      <td>NaN</td>\n",
              "      <td>Framestore</td>\n",
              "      <td>['power bi', 'tableau']</td>\n",
              "      <td>{'analyst_tools': ['power bi', 'tableau']}</td>\n",
              "    </tr>\n",
              "    <tr>\n",
              "      <th>785187</th>\n",
              "      <td>Data Analyst</td>\n",
              "      <td>Data Analyst</td>\n",
              "      <td>Lisbon, Portugal</td>\n",
              "      <td>via Ai-Jobs.net</td>\n",
              "      <td>Full-time</td>\n",
              "      <td>False</td>\n",
              "      <td>Portugal</td>\n",
              "      <td>2023-06-07 06:30:33</td>\n",
              "      <td>False</td>\n",
              "      <td>False</td>\n",
              "      <td>Portugal</td>\n",
              "      <td>year</td>\n",
              "      <td>111175.0</td>\n",
              "      <td>NaN</td>\n",
              "      <td>Farfetch</td>\n",
              "      <td>['sql', 'python', 'r', 'looker']</td>\n",
              "      <td>{'analyst_tools': ['looker'], 'programming': [...</td>\n",
              "    </tr>\n",
              "    <tr>\n",
              "      <th>785515</th>\n",
              "      <td>Data Analyst</td>\n",
              "      <td>Data Analyst</td>\n",
              "      <td>Bengaluru, Karnataka, India</td>\n",
              "      <td>via Ai-Jobs.net</td>\n",
              "      <td>Full-time</td>\n",
              "      <td>False</td>\n",
              "      <td>India</td>\n",
              "      <td>2023-09-01 06:17:34</td>\n",
              "      <td>False</td>\n",
              "      <td>False</td>\n",
              "      <td>India</td>\n",
              "      <td>year</td>\n",
              "      <td>105000.0</td>\n",
              "      <td>NaN</td>\n",
              "      <td>Myntra</td>\n",
              "      <td>NaN</td>\n",
              "      <td>NaN</td>\n",
              "    </tr>\n",
              "  </tbody>\n",
              "</table>\n",
              "<p>1976 rows × 17 columns</p>\n",
              "</div>\n",
              "    <div class=\"colab-df-buttons\">\n",
              "\n",
              "  <div class=\"colab-df-container\">\n",
              "    <button class=\"colab-df-convert\" onclick=\"convertToInteractive('df-ab5771a2-4014-43cc-90ad-cea7757e8a77')\"\n",
              "            title=\"Convert this dataframe to an interactive table.\"\n",
              "            style=\"display:none;\">\n",
              "\n",
              "  <svg xmlns=\"http://www.w3.org/2000/svg\" height=\"24px\" viewBox=\"0 -960 960 960\">\n",
              "    <path d=\"M120-120v-720h720v720H120Zm60-500h600v-160H180v160Zm220 220h160v-160H400v160Zm0 220h160v-160H400v160ZM180-400h160v-160H180v160Zm440 0h160v-160H620v160ZM180-180h160v-160H180v160Zm440 0h160v-160H620v160Z\"/>\n",
              "  </svg>\n",
              "    </button>\n",
              "\n",
              "  <style>\n",
              "    .colab-df-container {\n",
              "      display:flex;\n",
              "      gap: 12px;\n",
              "    }\n",
              "\n",
              "    .colab-df-convert {\n",
              "      background-color: #E8F0FE;\n",
              "      border: none;\n",
              "      border-radius: 50%;\n",
              "      cursor: pointer;\n",
              "      display: none;\n",
              "      fill: #1967D2;\n",
              "      height: 32px;\n",
              "      padding: 0 0 0 0;\n",
              "      width: 32px;\n",
              "    }\n",
              "\n",
              "    .colab-df-convert:hover {\n",
              "      background-color: #E2EBFA;\n",
              "      box-shadow: 0px 1px 2px rgba(60, 64, 67, 0.3), 0px 1px 3px 1px rgba(60, 64, 67, 0.15);\n",
              "      fill: #174EA6;\n",
              "    }\n",
              "\n",
              "    .colab-df-buttons div {\n",
              "      margin-bottom: 4px;\n",
              "    }\n",
              "\n",
              "    [theme=dark] .colab-df-convert {\n",
              "      background-color: #3B4455;\n",
              "      fill: #D2E3FC;\n",
              "    }\n",
              "\n",
              "    [theme=dark] .colab-df-convert:hover {\n",
              "      background-color: #434B5C;\n",
              "      box-shadow: 0px 1px 3px 1px rgba(0, 0, 0, 0.15);\n",
              "      filter: drop-shadow(0px 1px 2px rgba(0, 0, 0, 0.3));\n",
              "      fill: #FFFFFF;\n",
              "    }\n",
              "  </style>\n",
              "\n",
              "    <script>\n",
              "      const buttonEl =\n",
              "        document.querySelector('#df-ab5771a2-4014-43cc-90ad-cea7757e8a77 button.colab-df-convert');\n",
              "      buttonEl.style.display =\n",
              "        google.colab.kernel.accessAllowed ? 'block' : 'none';\n",
              "\n",
              "      async function convertToInteractive(key) {\n",
              "        const element = document.querySelector('#df-ab5771a2-4014-43cc-90ad-cea7757e8a77');\n",
              "        const dataTable =\n",
              "          await google.colab.kernel.invokeFunction('convertToInteractive',\n",
              "                                                    [key], {});\n",
              "        if (!dataTable) return;\n",
              "\n",
              "        const docLinkHtml = 'Like what you see? Visit the ' +\n",
              "          '<a target=\"_blank\" href=https://colab.research.google.com/notebooks/data_table.ipynb>data table notebook</a>'\n",
              "          + ' to learn more about interactive tables.';\n",
              "        element.innerHTML = '';\n",
              "        dataTable['output_type'] = 'display_data';\n",
              "        await google.colab.output.renderOutput(dataTable, element);\n",
              "        const docLink = document.createElement('div');\n",
              "        docLink.innerHTML = docLinkHtml;\n",
              "        element.appendChild(docLink);\n",
              "      }\n",
              "    </script>\n",
              "  </div>\n",
              "\n",
              "\n",
              "    <div id=\"df-7ea7dae8-b931-429c-97ca-36ae1071eaed\">\n",
              "      <button class=\"colab-df-quickchart\" onclick=\"quickchart('df-7ea7dae8-b931-429c-97ca-36ae1071eaed')\"\n",
              "                title=\"Suggest charts\"\n",
              "                style=\"display:none;\">\n",
              "\n",
              "<svg xmlns=\"http://www.w3.org/2000/svg\" height=\"24px\"viewBox=\"0 0 24 24\"\n",
              "     width=\"24px\">\n",
              "    <g>\n",
              "        <path d=\"M19 3H5c-1.1 0-2 .9-2 2v14c0 1.1.9 2 2 2h14c1.1 0 2-.9 2-2V5c0-1.1-.9-2-2-2zM9 17H7v-7h2v7zm4 0h-2V7h2v10zm4 0h-2v-4h2v4z\"/>\n",
              "    </g>\n",
              "</svg>\n",
              "      </button>\n",
              "\n",
              "<style>\n",
              "  .colab-df-quickchart {\n",
              "      --bg-color: #E8F0FE;\n",
              "      --fill-color: #1967D2;\n",
              "      --hover-bg-color: #E2EBFA;\n",
              "      --hover-fill-color: #174EA6;\n",
              "      --disabled-fill-color: #AAA;\n",
              "      --disabled-bg-color: #DDD;\n",
              "  }\n",
              "\n",
              "  [theme=dark] .colab-df-quickchart {\n",
              "      --bg-color: #3B4455;\n",
              "      --fill-color: #D2E3FC;\n",
              "      --hover-bg-color: #434B5C;\n",
              "      --hover-fill-color: #FFFFFF;\n",
              "      --disabled-bg-color: #3B4455;\n",
              "      --disabled-fill-color: #666;\n",
              "  }\n",
              "\n",
              "  .colab-df-quickchart {\n",
              "    background-color: var(--bg-color);\n",
              "    border: none;\n",
              "    border-radius: 50%;\n",
              "    cursor: pointer;\n",
              "    display: none;\n",
              "    fill: var(--fill-color);\n",
              "    height: 32px;\n",
              "    padding: 0;\n",
              "    width: 32px;\n",
              "  }\n",
              "\n",
              "  .colab-df-quickchart:hover {\n",
              "    background-color: var(--hover-bg-color);\n",
              "    box-shadow: 0 1px 2px rgba(60, 64, 67, 0.3), 0 1px 3px 1px rgba(60, 64, 67, 0.15);\n",
              "    fill: var(--button-hover-fill-color);\n",
              "  }\n",
              "\n",
              "  .colab-df-quickchart-complete:disabled,\n",
              "  .colab-df-quickchart-complete:disabled:hover {\n",
              "    background-color: var(--disabled-bg-color);\n",
              "    fill: var(--disabled-fill-color);\n",
              "    box-shadow: none;\n",
              "  }\n",
              "\n",
              "  .colab-df-spinner {\n",
              "    border: 2px solid var(--fill-color);\n",
              "    border-color: transparent;\n",
              "    border-bottom-color: var(--fill-color);\n",
              "    animation:\n",
              "      spin 1s steps(1) infinite;\n",
              "  }\n",
              "\n",
              "  @keyframes spin {\n",
              "    0% {\n",
              "      border-color: transparent;\n",
              "      border-bottom-color: var(--fill-color);\n",
              "      border-left-color: var(--fill-color);\n",
              "    }\n",
              "    20% {\n",
              "      border-color: transparent;\n",
              "      border-left-color: var(--fill-color);\n",
              "      border-top-color: var(--fill-color);\n",
              "    }\n",
              "    30% {\n",
              "      border-color: transparent;\n",
              "      border-left-color: var(--fill-color);\n",
              "      border-top-color: var(--fill-color);\n",
              "      border-right-color: var(--fill-color);\n",
              "    }\n",
              "    40% {\n",
              "      border-color: transparent;\n",
              "      border-right-color: var(--fill-color);\n",
              "      border-top-color: var(--fill-color);\n",
              "    }\n",
              "    60% {\n",
              "      border-color: transparent;\n",
              "      border-right-color: var(--fill-color);\n",
              "    }\n",
              "    80% {\n",
              "      border-color: transparent;\n",
              "      border-right-color: var(--fill-color);\n",
              "      border-bottom-color: var(--fill-color);\n",
              "    }\n",
              "    90% {\n",
              "      border-color: transparent;\n",
              "      border-bottom-color: var(--fill-color);\n",
              "    }\n",
              "  }\n",
              "</style>\n",
              "\n",
              "      <script>\n",
              "        async function quickchart(key) {\n",
              "          const quickchartButtonEl =\n",
              "            document.querySelector('#' + key + ' button');\n",
              "          quickchartButtonEl.disabled = true;  // To prevent multiple clicks.\n",
              "          quickchartButtonEl.classList.add('colab-df-spinner');\n",
              "          try {\n",
              "            const charts = await google.colab.kernel.invokeFunction(\n",
              "                'suggestCharts', [key], {});\n",
              "          } catch (error) {\n",
              "            console.error('Error during call to suggestCharts:', error);\n",
              "          }\n",
              "          quickchartButtonEl.classList.remove('colab-df-spinner');\n",
              "          quickchartButtonEl.classList.add('colab-df-quickchart-complete');\n",
              "        }\n",
              "        (() => {\n",
              "          let quickchartButtonEl =\n",
              "            document.querySelector('#df-7ea7dae8-b931-429c-97ca-36ae1071eaed button');\n",
              "          quickchartButtonEl.style.display =\n",
              "            google.colab.kernel.accessAllowed ? 'block' : 'none';\n",
              "        })();\n",
              "      </script>\n",
              "    </div>\n",
              "\n",
              "    </div>\n",
              "  </div>\n"
            ],
            "application/vnd.google.colaboratory.intrinsic+json": {
              "type": "dataframe",
              "repr_error": "0"
            }
          },
          "metadata": {},
          "execution_count": 111
        }
      ]
    },
    {
      "cell_type": "code",
      "source": [
        "# clean data - Pandas\n",
        "df.info()"
      ],
      "metadata": {
        "colab": {
          "base_uri": "https://localhost:8080/"
        },
        "id": "Bme2ibLJ8aod",
        "outputId": "425573ca-5374-45e6-864b-cafe51d6795a"
      },
      "execution_count": null,
      "outputs": [
        {
          "output_type": "stream",
          "name": "stdout",
          "text": [
            "<class 'pandas.core.frame.DataFrame'>\n",
            "RangeIndex: 785741 entries, 0 to 785740\n",
            "Data columns (total 17 columns):\n",
            " #   Column                 Non-Null Count   Dtype  \n",
            "---  ------                 --------------   -----  \n",
            " 0   job_title_short        785741 non-null  object \n",
            " 1   job_title              785740 non-null  object \n",
            " 2   job_location           784696 non-null  object \n",
            " 3   job_via                785733 non-null  object \n",
            " 4   job_schedule_type      773074 non-null  object \n",
            " 5   job_work_from_home     785741 non-null  bool   \n",
            " 6   search_location        785741 non-null  object \n",
            " 7   job_posted_date        785741 non-null  object \n",
            " 8   job_no_degree_mention  785741 non-null  bool   \n",
            " 9   job_health_insurance   785741 non-null  bool   \n",
            " 10  job_country            785692 non-null  object \n",
            " 11  salary_rate            33067 non-null   object \n",
            " 12  salary_year_avg        22003 non-null   float64\n",
            " 13  salary_hour_avg        10662 non-null   float64\n",
            " 14  company_name           785723 non-null  object \n",
            " 15  job_skills             668704 non-null  object \n",
            " 16  job_type_skills        668704 non-null  object \n",
            "dtypes: bool(3), float64(2), object(12)\n",
            "memory usage: 86.2+ MB\n"
          ]
        }
      ]
    },
    {
      "cell_type": "code",
      "source": [
        "df.job_posted_date[0]   # use datetime in pandas"
      ],
      "metadata": {
        "colab": {
          "base_uri": "https://localhost:8080/",
          "height": 35
        },
        "id": "el_V_xxcQWeD",
        "outputId": "a5e0e206-d1cb-4bb8-ac3b-57785de75812"
      },
      "execution_count": null,
      "outputs": [
        {
          "output_type": "execute_result",
          "data": {
            "text/plain": [
              "'2023-06-16 13:44:15'"
            ],
            "application/vnd.google.colaboratory.intrinsic+json": {
              "type": "string"
            }
          },
          "metadata": {},
          "execution_count": 113
        }
      ]
    },
    {
      "cell_type": "code",
      "source": [
        "df[\"job_posted_date\"] = pd.to_datetime(df.job_posted_date)"
      ],
      "metadata": {
        "id": "zAZkB4RlQfl1"
      },
      "execution_count": null,
      "outputs": []
    },
    {
      "cell_type": "code",
      "source": [
        "df.job_posted_date.dt.month         # use this to convert your date to month, day or year"
      ],
      "metadata": {
        "colab": {
          "base_uri": "https://localhost:8080/",
          "height": 458
        },
        "id": "wOju1vq7Q77E",
        "outputId": "d0f71950-ae20-4ddb-8b1f-97b789de7122"
      },
      "execution_count": null,
      "outputs": [
        {
          "output_type": "execute_result",
          "data": {
            "text/plain": [
              "0          6\n",
              "1          1\n",
              "2         10\n",
              "3          7\n",
              "4          8\n",
              "          ..\n",
              "785736     3\n",
              "785737     3\n",
              "785738     3\n",
              "785739     3\n",
              "785740     3\n",
              "Name: job_posted_date, Length: 785741, dtype: int32"
            ],
            "text/html": [
              "<div>\n",
              "<style scoped>\n",
              "    .dataframe tbody tr th:only-of-type {\n",
              "        vertical-align: middle;\n",
              "    }\n",
              "\n",
              "    .dataframe tbody tr th {\n",
              "        vertical-align: top;\n",
              "    }\n",
              "\n",
              "    .dataframe thead th {\n",
              "        text-align: right;\n",
              "    }\n",
              "</style>\n",
              "<table border=\"1\" class=\"dataframe\">\n",
              "  <thead>\n",
              "    <tr style=\"text-align: right;\">\n",
              "      <th></th>\n",
              "      <th>job_posted_date</th>\n",
              "    </tr>\n",
              "  </thead>\n",
              "  <tbody>\n",
              "    <tr>\n",
              "      <th>0</th>\n",
              "      <td>6</td>\n",
              "    </tr>\n",
              "    <tr>\n",
              "      <th>1</th>\n",
              "      <td>1</td>\n",
              "    </tr>\n",
              "    <tr>\n",
              "      <th>2</th>\n",
              "      <td>10</td>\n",
              "    </tr>\n",
              "    <tr>\n",
              "      <th>3</th>\n",
              "      <td>7</td>\n",
              "    </tr>\n",
              "    <tr>\n",
              "      <th>4</th>\n",
              "      <td>8</td>\n",
              "    </tr>\n",
              "    <tr>\n",
              "      <th>...</th>\n",
              "      <td>...</td>\n",
              "    </tr>\n",
              "    <tr>\n",
              "      <th>785736</th>\n",
              "      <td>3</td>\n",
              "    </tr>\n",
              "    <tr>\n",
              "      <th>785737</th>\n",
              "      <td>3</td>\n",
              "    </tr>\n",
              "    <tr>\n",
              "      <th>785738</th>\n",
              "      <td>3</td>\n",
              "    </tr>\n",
              "    <tr>\n",
              "      <th>785739</th>\n",
              "      <td>3</td>\n",
              "    </tr>\n",
              "    <tr>\n",
              "      <th>785740</th>\n",
              "      <td>3</td>\n",
              "    </tr>\n",
              "  </tbody>\n",
              "</table>\n",
              "<p>785741 rows × 1 columns</p>\n",
              "</div><br><label><b>dtype:</b> int32</label>"
            ]
          },
          "metadata": {},
          "execution_count": 115
        }
      ]
    },
    {
      "cell_type": "code",
      "source": [
        "df[\"job_posted_month\"] = df.job_posted_date.dt.month"
      ],
      "metadata": {
        "id": "flyok9rXSFhL"
      },
      "execution_count": null,
      "outputs": []
    },
    {
      "cell_type": "code",
      "source": [
        "df.info()"
      ],
      "metadata": {
        "colab": {
          "base_uri": "https://localhost:8080/"
        },
        "id": "dTTq9DsCT0N-",
        "outputId": "3a389b44-be55-4a06-8644-1be4a749b72f"
      },
      "execution_count": null,
      "outputs": [
        {
          "output_type": "stream",
          "name": "stdout",
          "text": [
            "<class 'pandas.core.frame.DataFrame'>\n",
            "RangeIndex: 785741 entries, 0 to 785740\n",
            "Data columns (total 18 columns):\n",
            " #   Column                 Non-Null Count   Dtype         \n",
            "---  ------                 --------------   -----         \n",
            " 0   job_title_short        785741 non-null  object        \n",
            " 1   job_title              785740 non-null  object        \n",
            " 2   job_location           784696 non-null  object        \n",
            " 3   job_via                785733 non-null  object        \n",
            " 4   job_schedule_type      773074 non-null  object        \n",
            " 5   job_work_from_home     785741 non-null  bool          \n",
            " 6   search_location        785741 non-null  object        \n",
            " 7   job_posted_date        785741 non-null  datetime64[ns]\n",
            " 8   job_no_degree_mention  785741 non-null  bool          \n",
            " 9   job_health_insurance   785741 non-null  bool          \n",
            " 10  job_country            785692 non-null  object        \n",
            " 11  salary_rate            33067 non-null   object        \n",
            " 12  salary_year_avg        22003 non-null   float64       \n",
            " 13  salary_hour_avg        10662 non-null   float64       \n",
            " 14  company_name           785723 non-null  object        \n",
            " 15  job_skills             668704 non-null  object        \n",
            " 16  job_type_skills        668704 non-null  object        \n",
            " 17  job_posted_month       785741 non-null  int32         \n",
            "dtypes: bool(3), datetime64[ns](1), float64(2), int32(1), object(11)\n",
            "memory usage: 89.2+ MB\n"
          ]
        }
      ]
    },
    {
      "cell_type": "code",
      "source": [
        "# to sort the values in the dataframe\n",
        "df.sort_values(by = \"job_posted_date\", inplace = True)"
      ],
      "metadata": {
        "id": "lypzE5s4T1R8"
      },
      "execution_count": null,
      "outputs": []
    },
    {
      "cell_type": "code",
      "source": [
        "df"
      ],
      "metadata": {
        "colab": {
          "base_uri": "https://localhost:8080/",
          "height": 964
        },
        "id": "CIhkytgpU21X",
        "outputId": "45c055d3-ba66-46cf-ff25-5dc0f6fc8272"
      },
      "execution_count": null,
      "outputs": [
        {
          "output_type": "execute_result",
          "data": {
            "text/plain": [
              "                  job_title_short  \\\n",
              "108804               Data Analyst   \n",
              "96906                Data Analyst   \n",
              "98438                Data Analyst   \n",
              "110290               Data Analyst   \n",
              "72158         Senior Data Analyst   \n",
              "...                           ...   \n",
              "362129              Data Engineer   \n",
              "351830              Data Engineer   \n",
              "327439              Data Engineer   \n",
              "112373        Senior Data Analyst   \n",
              "90102   Machine Learning Engineer   \n",
              "\n",
              "                                                job_title  \\\n",
              "108804                                       Data Analyst   \n",
              "96906                                        Data Analyst   \n",
              "98438                                        Data Analyst   \n",
              "110290                                       Data Analyst   \n",
              "72158           Senior Data Analyst / Platform Experience   \n",
              "...                                                   ...   \n",
              "362129                                      Data engineer   \n",
              "351830                                      Data engineer   \n",
              "327439                                Staff engineer data   \n",
              "112373  Marketing Data & Analytics Product Owner - Sen...   \n",
              "90102                                Intelligence analyst   \n",
              "\n",
              "                  job_location                      job_via job_schedule_type  \\\n",
              "108804            New York, NY            via CareerBuilder         Full-time   \n",
              "96906           Bloomfield, CT            via CareerBuilder         Full-time   \n",
              "98438           Washington, DC            via CareerBuilder         Full-time   \n",
              "110290             Fairfax, VA            via CareerBuilder         Full-time   \n",
              "72158            Worcester, MA                 via LinkedIn         Full-time   \n",
              "...                        ...                          ...               ...   \n",
              "362129           Sunnyvale, CA               via Talent.com         Full-time   \n",
              "351830       San Francisco, CA               via Talent.com         Full-time   \n",
              "327439          Southfield, MI               via Talent.com         Full-time   \n",
              "112373  Boston, MA  (+1 other)  via Boston Consulting Group         Full-time   \n",
              "90102               Boston, MA               via Talent.com         Full-time   \n",
              "\n",
              "        job_work_from_home          search_location     job_posted_date  \\\n",
              "108804               False  New York, United States 2023-01-01 00:00:04   \n",
              "96906                False  New York, United States 2023-01-01 00:00:07   \n",
              "98438                False  New York, United States 2023-01-01 00:00:22   \n",
              "110290               False  New York, United States 2023-01-01 00:00:24   \n",
              "72158                False  New York, United States 2023-01-01 00:00:27   \n",
              "...                    ...                      ...                 ...   \n",
              "362129               False                    Sudan 2023-12-31 23:40:31   \n",
              "351830               False                    Sudan 2023-12-31 23:40:31   \n",
              "327439               False                    Sudan 2023-12-31 23:40:32   \n",
              "112373               False  New York, United States 2023-12-31 23:59:58   \n",
              "90102                False  New York, United States 2023-12-31 23:59:58   \n",
              "\n",
              "        job_no_degree_mention  job_health_insurance    job_country  \\\n",
              "108804                  False                 False  United States   \n",
              "96906                    True                 False  United States   \n",
              "98438                   False                  True  United States   \n",
              "110290                  False                 False  United States   \n",
              "72158                   False                  True  United States   \n",
              "...                       ...                   ...            ...   \n",
              "362129                   True                 False          Sudan   \n",
              "351830                  False                 False          Sudan   \n",
              "327439                  False                 False          Sudan   \n",
              "112373                  False                 False  United States   \n",
              "90102                    True                 False  United States   \n",
              "\n",
              "       salary_rate  salary_year_avg  salary_hour_avg             company_name  \\\n",
              "108804         NaN              NaN              NaN     Metasys Technologies   \n",
              "96906          NaN              NaN              NaN             Diverse Lynx   \n",
              "98438          NaN              NaN              NaN               Guidehouse   \n",
              "110290         NaN              NaN              NaN                  Protask   \n",
              "72158          NaN              NaN              NaN   Atria Wealth Solutions   \n",
              "...            ...              ...              ...                      ...   \n",
              "362129         NaN              NaN              NaN           ITCO Solutions   \n",
              "351830         NaN              NaN              NaN            JBL Resources   \n",
              "327439        year         140000.0              NaN        Credit Acceptance   \n",
              "112373         NaN              NaN              NaN  Boston Consulting Group   \n",
              "90102          NaN              NaN              NaN         VirtualVocations   \n",
              "\n",
              "                                               job_skills  \\\n",
              "108804  ['sql', 'snowflake', 'visio', 'jira', 'conflue...   \n",
              "96906                               ['sql', 'sas', 'sas']   \n",
              "98438   ['sql', 'python', 'r', 'azure', 'snowflake', '...   \n",
              "110290                                    ['sql', 'jira']   \n",
              "72158                        ['sql', 'atlassian', 'jira']   \n",
              "...                                                   ...   \n",
              "362129  ['sql', 'python', 'java', 'snowflake', 'airflo...   \n",
              "351830                      ['azure', 'power bi', 'word']   \n",
              "327439                          ['express', 'kubernetes']   \n",
              "112373  ['sql', 'python', 'r', 'gdpr', 'tableau', 'pow...   \n",
              "90102                                                 NaN   \n",
              "\n",
              "                                          job_type_skills  job_posted_month  \n",
              "108804  {'analyst_tools': ['visio'], 'async': ['jira',...                 1  \n",
              "96906   {'analyst_tools': ['sas'], 'programming': ['sq...                 1  \n",
              "98438   {'analyst_tools': ['tableau', 'excel'], 'cloud...                 1  \n",
              "110290        {'async': ['jira'], 'programming': ['sql']}                 1  \n",
              "72158   {'async': ['jira'], 'other': ['atlassian'], 'p...                 1  \n",
              "...                                                   ...               ...  \n",
              "362129  {'cloud': ['snowflake'], 'libraries': ['airflo...                12  \n",
              "351830  {'analyst_tools': ['power bi', 'word'], 'cloud...                12  \n",
              "327439  {'other': ['kubernetes'], 'webframeworks': ['e...                12  \n",
              "112373  {'analyst_tools': ['tableau', 'power bi'], 'li...                12  \n",
              "90102                                                 NaN                12  \n",
              "\n",
              "[785741 rows x 18 columns]"
            ],
            "text/html": [
              "\n",
              "  <div id=\"df-64581d48-676b-44c6-9593-8e4ee098d0dc\" class=\"colab-df-container\">\n",
              "    <div>\n",
              "<style scoped>\n",
              "    .dataframe tbody tr th:only-of-type {\n",
              "        vertical-align: middle;\n",
              "    }\n",
              "\n",
              "    .dataframe tbody tr th {\n",
              "        vertical-align: top;\n",
              "    }\n",
              "\n",
              "    .dataframe thead th {\n",
              "        text-align: right;\n",
              "    }\n",
              "</style>\n",
              "<table border=\"1\" class=\"dataframe\">\n",
              "  <thead>\n",
              "    <tr style=\"text-align: right;\">\n",
              "      <th></th>\n",
              "      <th>job_title_short</th>\n",
              "      <th>job_title</th>\n",
              "      <th>job_location</th>\n",
              "      <th>job_via</th>\n",
              "      <th>job_schedule_type</th>\n",
              "      <th>job_work_from_home</th>\n",
              "      <th>search_location</th>\n",
              "      <th>job_posted_date</th>\n",
              "      <th>job_no_degree_mention</th>\n",
              "      <th>job_health_insurance</th>\n",
              "      <th>job_country</th>\n",
              "      <th>salary_rate</th>\n",
              "      <th>salary_year_avg</th>\n",
              "      <th>salary_hour_avg</th>\n",
              "      <th>company_name</th>\n",
              "      <th>job_skills</th>\n",
              "      <th>job_type_skills</th>\n",
              "      <th>job_posted_month</th>\n",
              "    </tr>\n",
              "  </thead>\n",
              "  <tbody>\n",
              "    <tr>\n",
              "      <th>108804</th>\n",
              "      <td>Data Analyst</td>\n",
              "      <td>Data Analyst</td>\n",
              "      <td>New York, NY</td>\n",
              "      <td>via CareerBuilder</td>\n",
              "      <td>Full-time</td>\n",
              "      <td>False</td>\n",
              "      <td>New York, United States</td>\n",
              "      <td>2023-01-01 00:00:04</td>\n",
              "      <td>False</td>\n",
              "      <td>False</td>\n",
              "      <td>United States</td>\n",
              "      <td>NaN</td>\n",
              "      <td>NaN</td>\n",
              "      <td>NaN</td>\n",
              "      <td>Metasys Technologies</td>\n",
              "      <td>['sql', 'snowflake', 'visio', 'jira', 'conflue...</td>\n",
              "      <td>{'analyst_tools': ['visio'], 'async': ['jira',...</td>\n",
              "      <td>1</td>\n",
              "    </tr>\n",
              "    <tr>\n",
              "      <th>96906</th>\n",
              "      <td>Data Analyst</td>\n",
              "      <td>Data Analyst</td>\n",
              "      <td>Bloomfield, CT</td>\n",
              "      <td>via CareerBuilder</td>\n",
              "      <td>Full-time</td>\n",
              "      <td>False</td>\n",
              "      <td>New York, United States</td>\n",
              "      <td>2023-01-01 00:00:07</td>\n",
              "      <td>True</td>\n",
              "      <td>False</td>\n",
              "      <td>United States</td>\n",
              "      <td>NaN</td>\n",
              "      <td>NaN</td>\n",
              "      <td>NaN</td>\n",
              "      <td>Diverse Lynx</td>\n",
              "      <td>['sql', 'sas', 'sas']</td>\n",
              "      <td>{'analyst_tools': ['sas'], 'programming': ['sq...</td>\n",
              "      <td>1</td>\n",
              "    </tr>\n",
              "    <tr>\n",
              "      <th>98438</th>\n",
              "      <td>Data Analyst</td>\n",
              "      <td>Data Analyst</td>\n",
              "      <td>Washington, DC</td>\n",
              "      <td>via CareerBuilder</td>\n",
              "      <td>Full-time</td>\n",
              "      <td>False</td>\n",
              "      <td>New York, United States</td>\n",
              "      <td>2023-01-01 00:00:22</td>\n",
              "      <td>False</td>\n",
              "      <td>True</td>\n",
              "      <td>United States</td>\n",
              "      <td>NaN</td>\n",
              "      <td>NaN</td>\n",
              "      <td>NaN</td>\n",
              "      <td>Guidehouse</td>\n",
              "      <td>['sql', 'python', 'r', 'azure', 'snowflake', '...</td>\n",
              "      <td>{'analyst_tools': ['tableau', 'excel'], 'cloud...</td>\n",
              "      <td>1</td>\n",
              "    </tr>\n",
              "    <tr>\n",
              "      <th>110290</th>\n",
              "      <td>Data Analyst</td>\n",
              "      <td>Data Analyst</td>\n",
              "      <td>Fairfax, VA</td>\n",
              "      <td>via CareerBuilder</td>\n",
              "      <td>Full-time</td>\n",
              "      <td>False</td>\n",
              "      <td>New York, United States</td>\n",
              "      <td>2023-01-01 00:00:24</td>\n",
              "      <td>False</td>\n",
              "      <td>False</td>\n",
              "      <td>United States</td>\n",
              "      <td>NaN</td>\n",
              "      <td>NaN</td>\n",
              "      <td>NaN</td>\n",
              "      <td>Protask</td>\n",
              "      <td>['sql', 'jira']</td>\n",
              "      <td>{'async': ['jira'], 'programming': ['sql']}</td>\n",
              "      <td>1</td>\n",
              "    </tr>\n",
              "    <tr>\n",
              "      <th>72158</th>\n",
              "      <td>Senior Data Analyst</td>\n",
              "      <td>Senior Data Analyst / Platform Experience</td>\n",
              "      <td>Worcester, MA</td>\n",
              "      <td>via LinkedIn</td>\n",
              "      <td>Full-time</td>\n",
              "      <td>False</td>\n",
              "      <td>New York, United States</td>\n",
              "      <td>2023-01-01 00:00:27</td>\n",
              "      <td>False</td>\n",
              "      <td>True</td>\n",
              "      <td>United States</td>\n",
              "      <td>NaN</td>\n",
              "      <td>NaN</td>\n",
              "      <td>NaN</td>\n",
              "      <td>Atria Wealth Solutions</td>\n",
              "      <td>['sql', 'atlassian', 'jira']</td>\n",
              "      <td>{'async': ['jira'], 'other': ['atlassian'], 'p...</td>\n",
              "      <td>1</td>\n",
              "    </tr>\n",
              "    <tr>\n",
              "      <th>...</th>\n",
              "      <td>...</td>\n",
              "      <td>...</td>\n",
              "      <td>...</td>\n",
              "      <td>...</td>\n",
              "      <td>...</td>\n",
              "      <td>...</td>\n",
              "      <td>...</td>\n",
              "      <td>...</td>\n",
              "      <td>...</td>\n",
              "      <td>...</td>\n",
              "      <td>...</td>\n",
              "      <td>...</td>\n",
              "      <td>...</td>\n",
              "      <td>...</td>\n",
              "      <td>...</td>\n",
              "      <td>...</td>\n",
              "      <td>...</td>\n",
              "      <td>...</td>\n",
              "    </tr>\n",
              "    <tr>\n",
              "      <th>362129</th>\n",
              "      <td>Data Engineer</td>\n",
              "      <td>Data engineer</td>\n",
              "      <td>Sunnyvale, CA</td>\n",
              "      <td>via Talent.com</td>\n",
              "      <td>Full-time</td>\n",
              "      <td>False</td>\n",
              "      <td>Sudan</td>\n",
              "      <td>2023-12-31 23:40:31</td>\n",
              "      <td>True</td>\n",
              "      <td>False</td>\n",
              "      <td>Sudan</td>\n",
              "      <td>NaN</td>\n",
              "      <td>NaN</td>\n",
              "      <td>NaN</td>\n",
              "      <td>ITCO Solutions</td>\n",
              "      <td>['sql', 'python', 'java', 'snowflake', 'airflo...</td>\n",
              "      <td>{'cloud': ['snowflake'], 'libraries': ['airflo...</td>\n",
              "      <td>12</td>\n",
              "    </tr>\n",
              "    <tr>\n",
              "      <th>351830</th>\n",
              "      <td>Data Engineer</td>\n",
              "      <td>Data engineer</td>\n",
              "      <td>San Francisco, CA</td>\n",
              "      <td>via Talent.com</td>\n",
              "      <td>Full-time</td>\n",
              "      <td>False</td>\n",
              "      <td>Sudan</td>\n",
              "      <td>2023-12-31 23:40:31</td>\n",
              "      <td>False</td>\n",
              "      <td>False</td>\n",
              "      <td>Sudan</td>\n",
              "      <td>NaN</td>\n",
              "      <td>NaN</td>\n",
              "      <td>NaN</td>\n",
              "      <td>JBL Resources</td>\n",
              "      <td>['azure', 'power bi', 'word']</td>\n",
              "      <td>{'analyst_tools': ['power bi', 'word'], 'cloud...</td>\n",
              "      <td>12</td>\n",
              "    </tr>\n",
              "    <tr>\n",
              "      <th>327439</th>\n",
              "      <td>Data Engineer</td>\n",
              "      <td>Staff engineer data</td>\n",
              "      <td>Southfield, MI</td>\n",
              "      <td>via Talent.com</td>\n",
              "      <td>Full-time</td>\n",
              "      <td>False</td>\n",
              "      <td>Sudan</td>\n",
              "      <td>2023-12-31 23:40:32</td>\n",
              "      <td>False</td>\n",
              "      <td>False</td>\n",
              "      <td>Sudan</td>\n",
              "      <td>year</td>\n",
              "      <td>140000.0</td>\n",
              "      <td>NaN</td>\n",
              "      <td>Credit Acceptance</td>\n",
              "      <td>['express', 'kubernetes']</td>\n",
              "      <td>{'other': ['kubernetes'], 'webframeworks': ['e...</td>\n",
              "      <td>12</td>\n",
              "    </tr>\n",
              "    <tr>\n",
              "      <th>112373</th>\n",
              "      <td>Senior Data Analyst</td>\n",
              "      <td>Marketing Data &amp; Analytics Product Owner - Sen...</td>\n",
              "      <td>Boston, MA  (+1 other)</td>\n",
              "      <td>via Boston Consulting Group</td>\n",
              "      <td>Full-time</td>\n",
              "      <td>False</td>\n",
              "      <td>New York, United States</td>\n",
              "      <td>2023-12-31 23:59:58</td>\n",
              "      <td>False</td>\n",
              "      <td>False</td>\n",
              "      <td>United States</td>\n",
              "      <td>NaN</td>\n",
              "      <td>NaN</td>\n",
              "      <td>NaN</td>\n",
              "      <td>Boston Consulting Group</td>\n",
              "      <td>['sql', 'python', 'r', 'gdpr', 'tableau', 'pow...</td>\n",
              "      <td>{'analyst_tools': ['tableau', 'power bi'], 'li...</td>\n",
              "      <td>12</td>\n",
              "    </tr>\n",
              "    <tr>\n",
              "      <th>90102</th>\n",
              "      <td>Machine Learning Engineer</td>\n",
              "      <td>Intelligence analyst</td>\n",
              "      <td>Boston, MA</td>\n",
              "      <td>via Talent.com</td>\n",
              "      <td>Full-time</td>\n",
              "      <td>False</td>\n",
              "      <td>New York, United States</td>\n",
              "      <td>2023-12-31 23:59:58</td>\n",
              "      <td>True</td>\n",
              "      <td>False</td>\n",
              "      <td>United States</td>\n",
              "      <td>NaN</td>\n",
              "      <td>NaN</td>\n",
              "      <td>NaN</td>\n",
              "      <td>VirtualVocations</td>\n",
              "      <td>NaN</td>\n",
              "      <td>NaN</td>\n",
              "      <td>12</td>\n",
              "    </tr>\n",
              "  </tbody>\n",
              "</table>\n",
              "<p>785741 rows × 18 columns</p>\n",
              "</div>\n",
              "    <div class=\"colab-df-buttons\">\n",
              "\n",
              "  <div class=\"colab-df-container\">\n",
              "    <button class=\"colab-df-convert\" onclick=\"convertToInteractive('df-64581d48-676b-44c6-9593-8e4ee098d0dc')\"\n",
              "            title=\"Convert this dataframe to an interactive table.\"\n",
              "            style=\"display:none;\">\n",
              "\n",
              "  <svg xmlns=\"http://www.w3.org/2000/svg\" height=\"24px\" viewBox=\"0 -960 960 960\">\n",
              "    <path d=\"M120-120v-720h720v720H120Zm60-500h600v-160H180v160Zm220 220h160v-160H400v160Zm0 220h160v-160H400v160ZM180-400h160v-160H180v160Zm440 0h160v-160H620v160ZM180-180h160v-160H180v160Zm440 0h160v-160H620v160Z\"/>\n",
              "  </svg>\n",
              "    </button>\n",
              "\n",
              "  <style>\n",
              "    .colab-df-container {\n",
              "      display:flex;\n",
              "      gap: 12px;\n",
              "    }\n",
              "\n",
              "    .colab-df-convert {\n",
              "      background-color: #E8F0FE;\n",
              "      border: none;\n",
              "      border-radius: 50%;\n",
              "      cursor: pointer;\n",
              "      display: none;\n",
              "      fill: #1967D2;\n",
              "      height: 32px;\n",
              "      padding: 0 0 0 0;\n",
              "      width: 32px;\n",
              "    }\n",
              "\n",
              "    .colab-df-convert:hover {\n",
              "      background-color: #E2EBFA;\n",
              "      box-shadow: 0px 1px 2px rgba(60, 64, 67, 0.3), 0px 1px 3px 1px rgba(60, 64, 67, 0.15);\n",
              "      fill: #174EA6;\n",
              "    }\n",
              "\n",
              "    .colab-df-buttons div {\n",
              "      margin-bottom: 4px;\n",
              "    }\n",
              "\n",
              "    [theme=dark] .colab-df-convert {\n",
              "      background-color: #3B4455;\n",
              "      fill: #D2E3FC;\n",
              "    }\n",
              "\n",
              "    [theme=dark] .colab-df-convert:hover {\n",
              "      background-color: #434B5C;\n",
              "      box-shadow: 0px 1px 3px 1px rgba(0, 0, 0, 0.15);\n",
              "      filter: drop-shadow(0px 1px 2px rgba(0, 0, 0, 0.3));\n",
              "      fill: #FFFFFF;\n",
              "    }\n",
              "  </style>\n",
              "\n",
              "    <script>\n",
              "      const buttonEl =\n",
              "        document.querySelector('#df-64581d48-676b-44c6-9593-8e4ee098d0dc button.colab-df-convert');\n",
              "      buttonEl.style.display =\n",
              "        google.colab.kernel.accessAllowed ? 'block' : 'none';\n",
              "\n",
              "      async function convertToInteractive(key) {\n",
              "        const element = document.querySelector('#df-64581d48-676b-44c6-9593-8e4ee098d0dc');\n",
              "        const dataTable =\n",
              "          await google.colab.kernel.invokeFunction('convertToInteractive',\n",
              "                                                    [key], {});\n",
              "        if (!dataTable) return;\n",
              "\n",
              "        const docLinkHtml = 'Like what you see? Visit the ' +\n",
              "          '<a target=\"_blank\" href=https://colab.research.google.com/notebooks/data_table.ipynb>data table notebook</a>'\n",
              "          + ' to learn more about interactive tables.';\n",
              "        element.innerHTML = '';\n",
              "        dataTable['output_type'] = 'display_data';\n",
              "        await google.colab.output.renderOutput(dataTable, element);\n",
              "        const docLink = document.createElement('div');\n",
              "        docLink.innerHTML = docLinkHtml;\n",
              "        element.appendChild(docLink);\n",
              "      }\n",
              "    </script>\n",
              "  </div>\n",
              "\n",
              "\n",
              "    <div id=\"df-5aa1fac0-2f23-42ca-a9a0-cb0cdc3861d9\">\n",
              "      <button class=\"colab-df-quickchart\" onclick=\"quickchart('df-5aa1fac0-2f23-42ca-a9a0-cb0cdc3861d9')\"\n",
              "                title=\"Suggest charts\"\n",
              "                style=\"display:none;\">\n",
              "\n",
              "<svg xmlns=\"http://www.w3.org/2000/svg\" height=\"24px\"viewBox=\"0 0 24 24\"\n",
              "     width=\"24px\">\n",
              "    <g>\n",
              "        <path d=\"M19 3H5c-1.1 0-2 .9-2 2v14c0 1.1.9 2 2 2h14c1.1 0 2-.9 2-2V5c0-1.1-.9-2-2-2zM9 17H7v-7h2v7zm4 0h-2V7h2v10zm4 0h-2v-4h2v4z\"/>\n",
              "    </g>\n",
              "</svg>\n",
              "      </button>\n",
              "\n",
              "<style>\n",
              "  .colab-df-quickchart {\n",
              "      --bg-color: #E8F0FE;\n",
              "      --fill-color: #1967D2;\n",
              "      --hover-bg-color: #E2EBFA;\n",
              "      --hover-fill-color: #174EA6;\n",
              "      --disabled-fill-color: #AAA;\n",
              "      --disabled-bg-color: #DDD;\n",
              "  }\n",
              "\n",
              "  [theme=dark] .colab-df-quickchart {\n",
              "      --bg-color: #3B4455;\n",
              "      --fill-color: #D2E3FC;\n",
              "      --hover-bg-color: #434B5C;\n",
              "      --hover-fill-color: #FFFFFF;\n",
              "      --disabled-bg-color: #3B4455;\n",
              "      --disabled-fill-color: #666;\n",
              "  }\n",
              "\n",
              "  .colab-df-quickchart {\n",
              "    background-color: var(--bg-color);\n",
              "    border: none;\n",
              "    border-radius: 50%;\n",
              "    cursor: pointer;\n",
              "    display: none;\n",
              "    fill: var(--fill-color);\n",
              "    height: 32px;\n",
              "    padding: 0;\n",
              "    width: 32px;\n",
              "  }\n",
              "\n",
              "  .colab-df-quickchart:hover {\n",
              "    background-color: var(--hover-bg-color);\n",
              "    box-shadow: 0 1px 2px rgba(60, 64, 67, 0.3), 0 1px 3px 1px rgba(60, 64, 67, 0.15);\n",
              "    fill: var(--button-hover-fill-color);\n",
              "  }\n",
              "\n",
              "  .colab-df-quickchart-complete:disabled,\n",
              "  .colab-df-quickchart-complete:disabled:hover {\n",
              "    background-color: var(--disabled-bg-color);\n",
              "    fill: var(--disabled-fill-color);\n",
              "    box-shadow: none;\n",
              "  }\n",
              "\n",
              "  .colab-df-spinner {\n",
              "    border: 2px solid var(--fill-color);\n",
              "    border-color: transparent;\n",
              "    border-bottom-color: var(--fill-color);\n",
              "    animation:\n",
              "      spin 1s steps(1) infinite;\n",
              "  }\n",
              "\n",
              "  @keyframes spin {\n",
              "    0% {\n",
              "      border-color: transparent;\n",
              "      border-bottom-color: var(--fill-color);\n",
              "      border-left-color: var(--fill-color);\n",
              "    }\n",
              "    20% {\n",
              "      border-color: transparent;\n",
              "      border-left-color: var(--fill-color);\n",
              "      border-top-color: var(--fill-color);\n",
              "    }\n",
              "    30% {\n",
              "      border-color: transparent;\n",
              "      border-left-color: var(--fill-color);\n",
              "      border-top-color: var(--fill-color);\n",
              "      border-right-color: var(--fill-color);\n",
              "    }\n",
              "    40% {\n",
              "      border-color: transparent;\n",
              "      border-right-color: var(--fill-color);\n",
              "      border-top-color: var(--fill-color);\n",
              "    }\n",
              "    60% {\n",
              "      border-color: transparent;\n",
              "      border-right-color: var(--fill-color);\n",
              "    }\n",
              "    80% {\n",
              "      border-color: transparent;\n",
              "      border-right-color: var(--fill-color);\n",
              "      border-bottom-color: var(--fill-color);\n",
              "    }\n",
              "    90% {\n",
              "      border-color: transparent;\n",
              "      border-bottom-color: var(--fill-color);\n",
              "    }\n",
              "  }\n",
              "</style>\n",
              "\n",
              "      <script>\n",
              "        async function quickchart(key) {\n",
              "          const quickchartButtonEl =\n",
              "            document.querySelector('#' + key + ' button');\n",
              "          quickchartButtonEl.disabled = true;  // To prevent multiple clicks.\n",
              "          quickchartButtonEl.classList.add('colab-df-spinner');\n",
              "          try {\n",
              "            const charts = await google.colab.kernel.invokeFunction(\n",
              "                'suggestCharts', [key], {});\n",
              "          } catch (error) {\n",
              "            console.error('Error during call to suggestCharts:', error);\n",
              "          }\n",
              "          quickchartButtonEl.classList.remove('colab-df-spinner');\n",
              "          quickchartButtonEl.classList.add('colab-df-quickchart-complete');\n",
              "        }\n",
              "        (() => {\n",
              "          let quickchartButtonEl =\n",
              "            document.querySelector('#df-5aa1fac0-2f23-42ca-a9a0-cb0cdc3861d9 button');\n",
              "          quickchartButtonEl.style.display =\n",
              "            google.colab.kernel.accessAllowed ? 'block' : 'none';\n",
              "        })();\n",
              "      </script>\n",
              "    </div>\n",
              "\n",
              "  <div id=\"id_9db7def3-be60-427e-b980-2f6a7cce9f42\">\n",
              "    <style>\n",
              "      .colab-df-generate {\n",
              "        background-color: #E8F0FE;\n",
              "        border: none;\n",
              "        border-radius: 50%;\n",
              "        cursor: pointer;\n",
              "        display: none;\n",
              "        fill: #1967D2;\n",
              "        height: 32px;\n",
              "        padding: 0 0 0 0;\n",
              "        width: 32px;\n",
              "      }\n",
              "\n",
              "      .colab-df-generate:hover {\n",
              "        background-color: #E2EBFA;\n",
              "        box-shadow: 0px 1px 2px rgba(60, 64, 67, 0.3), 0px 1px 3px 1px rgba(60, 64, 67, 0.15);\n",
              "        fill: #174EA6;\n",
              "      }\n",
              "\n",
              "      [theme=dark] .colab-df-generate {\n",
              "        background-color: #3B4455;\n",
              "        fill: #D2E3FC;\n",
              "      }\n",
              "\n",
              "      [theme=dark] .colab-df-generate:hover {\n",
              "        background-color: #434B5C;\n",
              "        box-shadow: 0px 1px 3px 1px rgba(0, 0, 0, 0.15);\n",
              "        filter: drop-shadow(0px 1px 2px rgba(0, 0, 0, 0.3));\n",
              "        fill: #FFFFFF;\n",
              "      }\n",
              "    </style>\n",
              "    <button class=\"colab-df-generate\" onclick=\"generateWithVariable('df')\"\n",
              "            title=\"Generate code using this dataframe.\"\n",
              "            style=\"display:none;\">\n",
              "\n",
              "  <svg xmlns=\"http://www.w3.org/2000/svg\" height=\"24px\"viewBox=\"0 0 24 24\"\n",
              "       width=\"24px\">\n",
              "    <path d=\"M7,19H8.4L18.45,9,17,7.55,7,17.6ZM5,21V16.75L18.45,3.32a2,2,0,0,1,2.83,0l1.4,1.43a1.91,1.91,0,0,1,.58,1.4,1.91,1.91,0,0,1-.58,1.4L9.25,21ZM18.45,9,17,7.55Zm-12,3A5.31,5.31,0,0,0,4.9,8.1,5.31,5.31,0,0,0,1,6.5,5.31,5.31,0,0,0,4.9,4.9,5.31,5.31,0,0,0,6.5,1,5.31,5.31,0,0,0,8.1,4.9,5.31,5.31,0,0,0,12,6.5,5.46,5.46,0,0,0,6.5,12Z\"/>\n",
              "  </svg>\n",
              "    </button>\n",
              "    <script>\n",
              "      (() => {\n",
              "      const buttonEl =\n",
              "        document.querySelector('#id_9db7def3-be60-427e-b980-2f6a7cce9f42 button.colab-df-generate');\n",
              "      buttonEl.style.display =\n",
              "        google.colab.kernel.accessAllowed ? 'block' : 'none';\n",
              "\n",
              "      buttonEl.onclick = () => {\n",
              "        google.colab.notebook.generateWithVariable('df');\n",
              "      }\n",
              "      })();\n",
              "    </script>\n",
              "  </div>\n",
              "\n",
              "    </div>\n",
              "  </div>\n"
            ],
            "application/vnd.google.colaboratory.intrinsic+json": {
              "type": "dataframe",
              "variable_name": "df"
            }
          },
          "metadata": {},
          "execution_count": 119
        }
      ]
    },
    {
      "cell_type": "code",
      "source": [
        "# to drop a column in df and removing rows which has values as nan.  axis = 1 means columns and 0 means drop rows\n",
        "\n",
        "#df.drop(labels = \"salary_hour_avg\", axis = 1, inplace = True)"
      ],
      "metadata": {
        "id": "cQ_4kOBtU3j3"
      },
      "execution_count": null,
      "outputs": []
    },
    {
      "cell_type": "code",
      "source": [
        "df.info()"
      ],
      "metadata": {
        "colab": {
          "base_uri": "https://localhost:8080/"
        },
        "id": "JJ9l8xPDWCBJ",
        "outputId": "011edbb7-3fa0-43d1-ba39-61615021042d"
      },
      "execution_count": null,
      "outputs": [
        {
          "output_type": "stream",
          "name": "stdout",
          "text": [
            "<class 'pandas.core.frame.DataFrame'>\n",
            "Index: 785741 entries, 108804 to 90102\n",
            "Data columns (total 18 columns):\n",
            " #   Column                 Non-Null Count   Dtype         \n",
            "---  ------                 --------------   -----         \n",
            " 0   job_title_short        785741 non-null  object        \n",
            " 1   job_title              785740 non-null  object        \n",
            " 2   job_location           784696 non-null  object        \n",
            " 3   job_via                785733 non-null  object        \n",
            " 4   job_schedule_type      773074 non-null  object        \n",
            " 5   job_work_from_home     785741 non-null  bool          \n",
            " 6   search_location        785741 non-null  object        \n",
            " 7   job_posted_date        785741 non-null  datetime64[ns]\n",
            " 8   job_no_degree_mention  785741 non-null  bool          \n",
            " 9   job_health_insurance   785741 non-null  bool          \n",
            " 10  job_country            785692 non-null  object        \n",
            " 11  salary_rate            33067 non-null   object        \n",
            " 12  salary_year_avg        22003 non-null   float64       \n",
            " 13  salary_hour_avg        10662 non-null   float64       \n",
            " 14  company_name           785723 non-null  object        \n",
            " 15  job_skills             668704 non-null  object        \n",
            " 16  job_type_skills        668704 non-null  object        \n",
            " 17  job_posted_month       785741 non-null  int32         \n",
            "dtypes: bool(3), datetime64[ns](1), float64(2), int32(1), object(11)\n",
            "memory usage: 95.2+ MB\n"
          ]
        }
      ]
    },
    {
      "cell_type": "code",
      "source": [
        "# remove nan values\n",
        "\n",
        "#df.dropna(subset = [\"salary_year_avg\"], inplace = True)\n"
      ],
      "metadata": {
        "id": "DKRNmUiRWDFI"
      },
      "execution_count": null,
      "outputs": []
    },
    {
      "cell_type": "code",
      "source": [
        "df.info()"
      ],
      "metadata": {
        "colab": {
          "base_uri": "https://localhost:8080/"
        },
        "id": "joLpFkf9WyKx",
        "outputId": "88de29e2-e5d9-46ef-b00a-72b502f5acad"
      },
      "execution_count": null,
      "outputs": [
        {
          "output_type": "stream",
          "name": "stdout",
          "text": [
            "<class 'pandas.core.frame.DataFrame'>\n",
            "Index: 785741 entries, 108804 to 90102\n",
            "Data columns (total 18 columns):\n",
            " #   Column                 Non-Null Count   Dtype         \n",
            "---  ------                 --------------   -----         \n",
            " 0   job_title_short        785741 non-null  object        \n",
            " 1   job_title              785740 non-null  object        \n",
            " 2   job_location           784696 non-null  object        \n",
            " 3   job_via                785733 non-null  object        \n",
            " 4   job_schedule_type      773074 non-null  object        \n",
            " 5   job_work_from_home     785741 non-null  bool          \n",
            " 6   search_location        785741 non-null  object        \n",
            " 7   job_posted_date        785741 non-null  datetime64[ns]\n",
            " 8   job_no_degree_mention  785741 non-null  bool          \n",
            " 9   job_health_insurance   785741 non-null  bool          \n",
            " 10  job_country            785692 non-null  object        \n",
            " 11  salary_rate            33067 non-null   object        \n",
            " 12  salary_year_avg        22003 non-null   float64       \n",
            " 13  salary_hour_avg        10662 non-null   float64       \n",
            " 14  company_name           785723 non-null  object        \n",
            " 15  job_skills             668704 non-null  object        \n",
            " 16  job_type_skills        668704 non-null  object        \n",
            " 17  job_posted_month       785741 non-null  int32         \n",
            "dtypes: bool(3), datetime64[ns](1), float64(2), int32(1), object(11)\n",
            "memory usage: 95.2+ MB\n"
          ]
        }
      ]
    },
    {
      "cell_type": "code",
      "source": [
        "# analzing with Pandas\n",
        "# aggregating the data and grouping the data\n",
        "df.describe()"
      ],
      "metadata": {
        "colab": {
          "base_uri": "https://localhost:8080/",
          "height": 300
        },
        "id": "2uhlVay7W14a",
        "outputId": "41530a24-976f-4baa-e354-86763ee89317"
      },
      "execution_count": null,
      "outputs": [
        {
          "output_type": "execute_result",
          "data": {
            "text/plain": [
              "                     job_posted_date  salary_year_avg  salary_hour_avg  \\\n",
              "count                         785741     22003.000000     10662.000000   \n",
              "mean   2023-06-25 16:02:11.860247552    123286.274072        47.016598   \n",
              "min              2023-01-01 00:00:04     15000.000000         8.000000   \n",
              "25%              2023-03-20 10:05:48     90000.000000        27.500000   \n",
              "50%              2023-06-29 06:11:38    115000.000000        45.980000   \n",
              "75%              2023-09-27 01:01:16    150000.000000        61.159996   \n",
              "max              2023-12-31 23:59:58    960000.000000       391.000000   \n",
              "std                              NaN     48312.449482        21.890738   \n",
              "\n",
              "       job_posted_month  \n",
              "count     785741.000000  \n",
              "mean           6.305538  \n",
              "min            1.000000  \n",
              "25%            3.000000  \n",
              "50%            6.000000  \n",
              "75%            9.000000  \n",
              "max           12.000000  \n",
              "std            3.525408  "
            ],
            "text/html": [
              "\n",
              "  <div id=\"df-a2342c2e-bb50-497a-bf22-943ac1700eae\" class=\"colab-df-container\">\n",
              "    <div>\n",
              "<style scoped>\n",
              "    .dataframe tbody tr th:only-of-type {\n",
              "        vertical-align: middle;\n",
              "    }\n",
              "\n",
              "    .dataframe tbody tr th {\n",
              "        vertical-align: top;\n",
              "    }\n",
              "\n",
              "    .dataframe thead th {\n",
              "        text-align: right;\n",
              "    }\n",
              "</style>\n",
              "<table border=\"1\" class=\"dataframe\">\n",
              "  <thead>\n",
              "    <tr style=\"text-align: right;\">\n",
              "      <th></th>\n",
              "      <th>job_posted_date</th>\n",
              "      <th>salary_year_avg</th>\n",
              "      <th>salary_hour_avg</th>\n",
              "      <th>job_posted_month</th>\n",
              "    </tr>\n",
              "  </thead>\n",
              "  <tbody>\n",
              "    <tr>\n",
              "      <th>count</th>\n",
              "      <td>785741</td>\n",
              "      <td>22003.000000</td>\n",
              "      <td>10662.000000</td>\n",
              "      <td>785741.000000</td>\n",
              "    </tr>\n",
              "    <tr>\n",
              "      <th>mean</th>\n",
              "      <td>2023-06-25 16:02:11.860247552</td>\n",
              "      <td>123286.274072</td>\n",
              "      <td>47.016598</td>\n",
              "      <td>6.305538</td>\n",
              "    </tr>\n",
              "    <tr>\n",
              "      <th>min</th>\n",
              "      <td>2023-01-01 00:00:04</td>\n",
              "      <td>15000.000000</td>\n",
              "      <td>8.000000</td>\n",
              "      <td>1.000000</td>\n",
              "    </tr>\n",
              "    <tr>\n",
              "      <th>25%</th>\n",
              "      <td>2023-03-20 10:05:48</td>\n",
              "      <td>90000.000000</td>\n",
              "      <td>27.500000</td>\n",
              "      <td>3.000000</td>\n",
              "    </tr>\n",
              "    <tr>\n",
              "      <th>50%</th>\n",
              "      <td>2023-06-29 06:11:38</td>\n",
              "      <td>115000.000000</td>\n",
              "      <td>45.980000</td>\n",
              "      <td>6.000000</td>\n",
              "    </tr>\n",
              "    <tr>\n",
              "      <th>75%</th>\n",
              "      <td>2023-09-27 01:01:16</td>\n",
              "      <td>150000.000000</td>\n",
              "      <td>61.159996</td>\n",
              "      <td>9.000000</td>\n",
              "    </tr>\n",
              "    <tr>\n",
              "      <th>max</th>\n",
              "      <td>2023-12-31 23:59:58</td>\n",
              "      <td>960000.000000</td>\n",
              "      <td>391.000000</td>\n",
              "      <td>12.000000</td>\n",
              "    </tr>\n",
              "    <tr>\n",
              "      <th>std</th>\n",
              "      <td>NaN</td>\n",
              "      <td>48312.449482</td>\n",
              "      <td>21.890738</td>\n",
              "      <td>3.525408</td>\n",
              "    </tr>\n",
              "  </tbody>\n",
              "</table>\n",
              "</div>\n",
              "    <div class=\"colab-df-buttons\">\n",
              "\n",
              "  <div class=\"colab-df-container\">\n",
              "    <button class=\"colab-df-convert\" onclick=\"convertToInteractive('df-a2342c2e-bb50-497a-bf22-943ac1700eae')\"\n",
              "            title=\"Convert this dataframe to an interactive table.\"\n",
              "            style=\"display:none;\">\n",
              "\n",
              "  <svg xmlns=\"http://www.w3.org/2000/svg\" height=\"24px\" viewBox=\"0 -960 960 960\">\n",
              "    <path d=\"M120-120v-720h720v720H120Zm60-500h600v-160H180v160Zm220 220h160v-160H400v160Zm0 220h160v-160H400v160ZM180-400h160v-160H180v160Zm440 0h160v-160H620v160ZM180-180h160v-160H180v160Zm440 0h160v-160H620v160Z\"/>\n",
              "  </svg>\n",
              "    </button>\n",
              "\n",
              "  <style>\n",
              "    .colab-df-container {\n",
              "      display:flex;\n",
              "      gap: 12px;\n",
              "    }\n",
              "\n",
              "    .colab-df-convert {\n",
              "      background-color: #E8F0FE;\n",
              "      border: none;\n",
              "      border-radius: 50%;\n",
              "      cursor: pointer;\n",
              "      display: none;\n",
              "      fill: #1967D2;\n",
              "      height: 32px;\n",
              "      padding: 0 0 0 0;\n",
              "      width: 32px;\n",
              "    }\n",
              "\n",
              "    .colab-df-convert:hover {\n",
              "      background-color: #E2EBFA;\n",
              "      box-shadow: 0px 1px 2px rgba(60, 64, 67, 0.3), 0px 1px 3px 1px rgba(60, 64, 67, 0.15);\n",
              "      fill: #174EA6;\n",
              "    }\n",
              "\n",
              "    .colab-df-buttons div {\n",
              "      margin-bottom: 4px;\n",
              "    }\n",
              "\n",
              "    [theme=dark] .colab-df-convert {\n",
              "      background-color: #3B4455;\n",
              "      fill: #D2E3FC;\n",
              "    }\n",
              "\n",
              "    [theme=dark] .colab-df-convert:hover {\n",
              "      background-color: #434B5C;\n",
              "      box-shadow: 0px 1px 3px 1px rgba(0, 0, 0, 0.15);\n",
              "      filter: drop-shadow(0px 1px 2px rgba(0, 0, 0, 0.3));\n",
              "      fill: #FFFFFF;\n",
              "    }\n",
              "  </style>\n",
              "\n",
              "    <script>\n",
              "      const buttonEl =\n",
              "        document.querySelector('#df-a2342c2e-bb50-497a-bf22-943ac1700eae button.colab-df-convert');\n",
              "      buttonEl.style.display =\n",
              "        google.colab.kernel.accessAllowed ? 'block' : 'none';\n",
              "\n",
              "      async function convertToInteractive(key) {\n",
              "        const element = document.querySelector('#df-a2342c2e-bb50-497a-bf22-943ac1700eae');\n",
              "        const dataTable =\n",
              "          await google.colab.kernel.invokeFunction('convertToInteractive',\n",
              "                                                    [key], {});\n",
              "        if (!dataTable) return;\n",
              "\n",
              "        const docLinkHtml = 'Like what you see? Visit the ' +\n",
              "          '<a target=\"_blank\" href=https://colab.research.google.com/notebooks/data_table.ipynb>data table notebook</a>'\n",
              "          + ' to learn more about interactive tables.';\n",
              "        element.innerHTML = '';\n",
              "        dataTable['output_type'] = 'display_data';\n",
              "        await google.colab.output.renderOutput(dataTable, element);\n",
              "        const docLink = document.createElement('div');\n",
              "        docLink.innerHTML = docLinkHtml;\n",
              "        element.appendChild(docLink);\n",
              "      }\n",
              "    </script>\n",
              "  </div>\n",
              "\n",
              "\n",
              "    <div id=\"df-f3728031-b07d-47e7-989f-539e5b3b0af8\">\n",
              "      <button class=\"colab-df-quickchart\" onclick=\"quickchart('df-f3728031-b07d-47e7-989f-539e5b3b0af8')\"\n",
              "                title=\"Suggest charts\"\n",
              "                style=\"display:none;\">\n",
              "\n",
              "<svg xmlns=\"http://www.w3.org/2000/svg\" height=\"24px\"viewBox=\"0 0 24 24\"\n",
              "     width=\"24px\">\n",
              "    <g>\n",
              "        <path d=\"M19 3H5c-1.1 0-2 .9-2 2v14c0 1.1.9 2 2 2h14c1.1 0 2-.9 2-2V5c0-1.1-.9-2-2-2zM9 17H7v-7h2v7zm4 0h-2V7h2v10zm4 0h-2v-4h2v4z\"/>\n",
              "    </g>\n",
              "</svg>\n",
              "      </button>\n",
              "\n",
              "<style>\n",
              "  .colab-df-quickchart {\n",
              "      --bg-color: #E8F0FE;\n",
              "      --fill-color: #1967D2;\n",
              "      --hover-bg-color: #E2EBFA;\n",
              "      --hover-fill-color: #174EA6;\n",
              "      --disabled-fill-color: #AAA;\n",
              "      --disabled-bg-color: #DDD;\n",
              "  }\n",
              "\n",
              "  [theme=dark] .colab-df-quickchart {\n",
              "      --bg-color: #3B4455;\n",
              "      --fill-color: #D2E3FC;\n",
              "      --hover-bg-color: #434B5C;\n",
              "      --hover-fill-color: #FFFFFF;\n",
              "      --disabled-bg-color: #3B4455;\n",
              "      --disabled-fill-color: #666;\n",
              "  }\n",
              "\n",
              "  .colab-df-quickchart {\n",
              "    background-color: var(--bg-color);\n",
              "    border: none;\n",
              "    border-radius: 50%;\n",
              "    cursor: pointer;\n",
              "    display: none;\n",
              "    fill: var(--fill-color);\n",
              "    height: 32px;\n",
              "    padding: 0;\n",
              "    width: 32px;\n",
              "  }\n",
              "\n",
              "  .colab-df-quickchart:hover {\n",
              "    background-color: var(--hover-bg-color);\n",
              "    box-shadow: 0 1px 2px rgba(60, 64, 67, 0.3), 0 1px 3px 1px rgba(60, 64, 67, 0.15);\n",
              "    fill: var(--button-hover-fill-color);\n",
              "  }\n",
              "\n",
              "  .colab-df-quickchart-complete:disabled,\n",
              "  .colab-df-quickchart-complete:disabled:hover {\n",
              "    background-color: var(--disabled-bg-color);\n",
              "    fill: var(--disabled-fill-color);\n",
              "    box-shadow: none;\n",
              "  }\n",
              "\n",
              "  .colab-df-spinner {\n",
              "    border: 2px solid var(--fill-color);\n",
              "    border-color: transparent;\n",
              "    border-bottom-color: var(--fill-color);\n",
              "    animation:\n",
              "      spin 1s steps(1) infinite;\n",
              "  }\n",
              "\n",
              "  @keyframes spin {\n",
              "    0% {\n",
              "      border-color: transparent;\n",
              "      border-bottom-color: var(--fill-color);\n",
              "      border-left-color: var(--fill-color);\n",
              "    }\n",
              "    20% {\n",
              "      border-color: transparent;\n",
              "      border-left-color: var(--fill-color);\n",
              "      border-top-color: var(--fill-color);\n",
              "    }\n",
              "    30% {\n",
              "      border-color: transparent;\n",
              "      border-left-color: var(--fill-color);\n",
              "      border-top-color: var(--fill-color);\n",
              "      border-right-color: var(--fill-color);\n",
              "    }\n",
              "    40% {\n",
              "      border-color: transparent;\n",
              "      border-right-color: var(--fill-color);\n",
              "      border-top-color: var(--fill-color);\n",
              "    }\n",
              "    60% {\n",
              "      border-color: transparent;\n",
              "      border-right-color: var(--fill-color);\n",
              "    }\n",
              "    80% {\n",
              "      border-color: transparent;\n",
              "      border-right-color: var(--fill-color);\n",
              "      border-bottom-color: var(--fill-color);\n",
              "    }\n",
              "    90% {\n",
              "      border-color: transparent;\n",
              "      border-bottom-color: var(--fill-color);\n",
              "    }\n",
              "  }\n",
              "</style>\n",
              "\n",
              "      <script>\n",
              "        async function quickchart(key) {\n",
              "          const quickchartButtonEl =\n",
              "            document.querySelector('#' + key + ' button');\n",
              "          quickchartButtonEl.disabled = true;  // To prevent multiple clicks.\n",
              "          quickchartButtonEl.classList.add('colab-df-spinner');\n",
              "          try {\n",
              "            const charts = await google.colab.kernel.invokeFunction(\n",
              "                'suggestCharts', [key], {});\n",
              "          } catch (error) {\n",
              "            console.error('Error during call to suggestCharts:', error);\n",
              "          }\n",
              "          quickchartButtonEl.classList.remove('colab-df-spinner');\n",
              "          quickchartButtonEl.classList.add('colab-df-quickchart-complete');\n",
              "        }\n",
              "        (() => {\n",
              "          let quickchartButtonEl =\n",
              "            document.querySelector('#df-f3728031-b07d-47e7-989f-539e5b3b0af8 button');\n",
              "          quickchartButtonEl.style.display =\n",
              "            google.colab.kernel.accessAllowed ? 'block' : 'none';\n",
              "        })();\n",
              "      </script>\n",
              "    </div>\n",
              "\n",
              "    </div>\n",
              "  </div>\n"
            ],
            "application/vnd.google.colaboratory.intrinsic+json": {
              "type": "dataframe",
              "summary": "{\n  \"name\": \"df\",\n  \"rows\": 8,\n  \"fields\": [\n    {\n      \"column\": \"job_posted_date\",\n      \"properties\": {\n        \"dtype\": \"date\",\n        \"min\": \"1970-01-01 00:00:00.000785741\",\n        \"max\": \"2023-12-31 23:59:58\",\n        \"num_unique_values\": 7,\n        \"samples\": [\n          \"785741\",\n          \"2023-06-25 16:02:11.860247552\",\n          \"2023-09-27 01:01:16\"\n        ],\n        \"semantic_type\": \"\",\n        \"description\": \"\"\n      }\n    },\n    {\n      \"column\": \"salary_year_avg\",\n      \"properties\": {\n        \"dtype\": \"number\",\n        \"std\": 314755.56358557666,\n        \"min\": 15000.0,\n        \"max\": 960000.0,\n        \"num_unique_values\": 8,\n        \"samples\": [\n          123286.27407182401,\n          150000.0,\n          22003.0\n        ],\n        \"semantic_type\": \"\",\n        \"description\": \"\"\n      }\n    },\n    {\n      \"column\": \"salary_hour_avg\",\n      \"properties\": {\n        \"dtype\": \"number\",\n        \"std\": 3741.2609867335127,\n        \"min\": 8.0,\n        \"max\": 10662.0,\n        \"num_unique_values\": 8,\n        \"samples\": [\n          47.01659821515861,\n          61.15999603271485,\n          10662.0\n        ],\n        \"semantic_type\": \"\",\n        \"description\": \"\"\n      }\n    },\n    {\n      \"column\": \"job_posted_month\",\n      \"properties\": {\n        \"dtype\": \"number\",\n        \"std\": 277799.332425781,\n        \"min\": 1.0,\n        \"max\": 785741.0,\n        \"num_unique_values\": 8,\n        \"samples\": [\n          6.305538338969202,\n          9.0,\n          785741.0\n        ],\n        \"semantic_type\": \"\",\n        \"description\": \"\"\n      }\n    }\n  ]\n}"
            }
          },
          "metadata": {},
          "execution_count": 124
        }
      ]
    },
    {
      "cell_type": "code",
      "source": [
        "df[\"salary_year_avg\"].median()"
      ],
      "metadata": {
        "colab": {
          "base_uri": "https://localhost:8080/"
        },
        "id": "PVyTsetpsZVY",
        "outputId": "dd3aa1a7-e8c1-4253-fa8a-40c7ccd36c24"
      },
      "execution_count": null,
      "outputs": [
        {
          "output_type": "execute_result",
          "data": {
            "text/plain": [
              "115000.0"
            ]
          },
          "metadata": {},
          "execution_count": 125
        }
      ]
    },
    {
      "cell_type": "code",
      "source": [
        "df[\"salary_year_avg\"].min()"
      ],
      "metadata": {
        "colab": {
          "base_uri": "https://localhost:8080/"
        },
        "id": "-vH35LHfsv0_",
        "outputId": "a5d9c39b-0878-48fd-a192-ea13e12e6c9e"
      },
      "execution_count": null,
      "outputs": [
        {
          "output_type": "execute_result",
          "data": {
            "text/plain": [
              "15000.0"
            ]
          },
          "metadata": {},
          "execution_count": 126
        }
      ]
    },
    {
      "cell_type": "code",
      "source": [
        "min_salary = df[\"salary_year_avg\"].idxmin()  # give you the location of row for min, max, or any\n"
      ],
      "metadata": {
        "id": "UkKKkkhQtDWC"
      },
      "execution_count": null,
      "outputs": []
    },
    {
      "cell_type": "code",
      "source": [
        "df.iloc[min_salary] # this will pull that min row out for me"
      ],
      "metadata": {
        "colab": {
          "base_uri": "https://localhost:8080/",
          "height": 649
        },
        "id": "Q0a5hImZtHSw",
        "outputId": "ea95304c-793b-49cf-9b57-83917a79a020"
      },
      "execution_count": null,
      "outputs": [
        {
          "output_type": "execute_result",
          "data": {
            "text/plain": [
              "job_title_short                                              Data Engineer\n",
              "job_title                                                    Data Engineer\n",
              "job_location                                              Barcelona, Spain\n",
              "job_via                                                          via BeBee\n",
              "job_schedule_type                                                Full-time\n",
              "job_work_from_home                                                   False\n",
              "search_location                                                      Spain\n",
              "job_posted_date                                        2023-11-01 08:27:37\n",
              "job_no_degree_mention                                                False\n",
              "job_health_insurance                                                 False\n",
              "job_country                                                          Spain\n",
              "salary_rate                                                            NaN\n",
              "salary_year_avg                                                        NaN\n",
              "salary_hour_avg                                                        NaN\n",
              "company_name                                                       Growara\n",
              "job_skills                                   ['python', 'pandas', 'numpy']\n",
              "job_type_skills          {'libraries': ['pandas', 'numpy'], 'programmin...\n",
              "job_posted_month                                                        11\n",
              "Name: 133763, dtype: object"
            ],
            "text/html": [
              "<div>\n",
              "<style scoped>\n",
              "    .dataframe tbody tr th:only-of-type {\n",
              "        vertical-align: middle;\n",
              "    }\n",
              "\n",
              "    .dataframe tbody tr th {\n",
              "        vertical-align: top;\n",
              "    }\n",
              "\n",
              "    .dataframe thead th {\n",
              "        text-align: right;\n",
              "    }\n",
              "</style>\n",
              "<table border=\"1\" class=\"dataframe\">\n",
              "  <thead>\n",
              "    <tr style=\"text-align: right;\">\n",
              "      <th></th>\n",
              "      <th>133763</th>\n",
              "    </tr>\n",
              "  </thead>\n",
              "  <tbody>\n",
              "    <tr>\n",
              "      <th>job_title_short</th>\n",
              "      <td>Data Engineer</td>\n",
              "    </tr>\n",
              "    <tr>\n",
              "      <th>job_title</th>\n",
              "      <td>Data Engineer</td>\n",
              "    </tr>\n",
              "    <tr>\n",
              "      <th>job_location</th>\n",
              "      <td>Barcelona, Spain</td>\n",
              "    </tr>\n",
              "    <tr>\n",
              "      <th>job_via</th>\n",
              "      <td>via BeBee</td>\n",
              "    </tr>\n",
              "    <tr>\n",
              "      <th>job_schedule_type</th>\n",
              "      <td>Full-time</td>\n",
              "    </tr>\n",
              "    <tr>\n",
              "      <th>job_work_from_home</th>\n",
              "      <td>False</td>\n",
              "    </tr>\n",
              "    <tr>\n",
              "      <th>search_location</th>\n",
              "      <td>Spain</td>\n",
              "    </tr>\n",
              "    <tr>\n",
              "      <th>job_posted_date</th>\n",
              "      <td>2023-11-01 08:27:37</td>\n",
              "    </tr>\n",
              "    <tr>\n",
              "      <th>job_no_degree_mention</th>\n",
              "      <td>False</td>\n",
              "    </tr>\n",
              "    <tr>\n",
              "      <th>job_health_insurance</th>\n",
              "      <td>False</td>\n",
              "    </tr>\n",
              "    <tr>\n",
              "      <th>job_country</th>\n",
              "      <td>Spain</td>\n",
              "    </tr>\n",
              "    <tr>\n",
              "      <th>salary_rate</th>\n",
              "      <td>NaN</td>\n",
              "    </tr>\n",
              "    <tr>\n",
              "      <th>salary_year_avg</th>\n",
              "      <td>NaN</td>\n",
              "    </tr>\n",
              "    <tr>\n",
              "      <th>salary_hour_avg</th>\n",
              "      <td>NaN</td>\n",
              "    </tr>\n",
              "    <tr>\n",
              "      <th>company_name</th>\n",
              "      <td>Growara</td>\n",
              "    </tr>\n",
              "    <tr>\n",
              "      <th>job_skills</th>\n",
              "      <td>['python', 'pandas', 'numpy']</td>\n",
              "    </tr>\n",
              "    <tr>\n",
              "      <th>job_type_skills</th>\n",
              "      <td>{'libraries': ['pandas', 'numpy'], 'programmin...</td>\n",
              "    </tr>\n",
              "    <tr>\n",
              "      <th>job_posted_month</th>\n",
              "      <td>11</td>\n",
              "    </tr>\n",
              "  </tbody>\n",
              "</table>\n",
              "</div><br><label><b>dtype:</b> object</label>"
            ]
          },
          "metadata": {},
          "execution_count": 128
        }
      ]
    },
    {
      "cell_type": "code",
      "source": [
        "df[\"job_title_short\"].unique()"
      ],
      "metadata": {
        "colab": {
          "base_uri": "https://localhost:8080/"
        },
        "id": "3ioMGSVdtk8D",
        "outputId": "a1d3fb4d-6bb2-443e-d587-8cc401afc53f"
      },
      "execution_count": null,
      "outputs": [
        {
          "output_type": "execute_result",
          "data": {
            "text/plain": [
              "array(['Data Analyst', 'Senior Data Analyst', 'Data Engineer',\n",
              "       'Business Analyst', 'Senior Data Engineer', 'Data Scientist',\n",
              "       'Senior Data Scientist', 'Machine Learning Engineer',\n",
              "       'Software Engineer', 'Cloud Engineer'], dtype=object)"
            ]
          },
          "metadata": {},
          "execution_count": 129
        }
      ]
    },
    {
      "cell_type": "code",
      "source": [
        "df[\"job_title_short\"].value_counts()"
      ],
      "metadata": {
        "colab": {
          "base_uri": "https://localhost:8080/",
          "height": 429
        },
        "id": "EjPf3A_xvUQy",
        "outputId": "e32becbf-3f57-4e08-e1b9-2b7e6242489e"
      },
      "execution_count": null,
      "outputs": [
        {
          "output_type": "execute_result",
          "data": {
            "text/plain": [
              "job_title_short\n",
              "Data Analyst                 196075\n",
              "Data Engineer                186241\n",
              "Data Scientist               172286\n",
              "Business Analyst              49063\n",
              "Software Engineer             44929\n",
              "Senior Data Engineer          44563\n",
              "Senior Data Scientist         36957\n",
              "Senior Data Analyst           29216\n",
              "Machine Learning Engineer     14080\n",
              "Cloud Engineer                12331\n",
              "Name: count, dtype: int64"
            ],
            "text/html": [
              "<div>\n",
              "<style scoped>\n",
              "    .dataframe tbody tr th:only-of-type {\n",
              "        vertical-align: middle;\n",
              "    }\n",
              "\n",
              "    .dataframe tbody tr th {\n",
              "        vertical-align: top;\n",
              "    }\n",
              "\n",
              "    .dataframe thead th {\n",
              "        text-align: right;\n",
              "    }\n",
              "</style>\n",
              "<table border=\"1\" class=\"dataframe\">\n",
              "  <thead>\n",
              "    <tr style=\"text-align: right;\">\n",
              "      <th></th>\n",
              "      <th>count</th>\n",
              "    </tr>\n",
              "    <tr>\n",
              "      <th>job_title_short</th>\n",
              "      <th></th>\n",
              "    </tr>\n",
              "  </thead>\n",
              "  <tbody>\n",
              "    <tr>\n",
              "      <th>Data Analyst</th>\n",
              "      <td>196075</td>\n",
              "    </tr>\n",
              "    <tr>\n",
              "      <th>Data Engineer</th>\n",
              "      <td>186241</td>\n",
              "    </tr>\n",
              "    <tr>\n",
              "      <th>Data Scientist</th>\n",
              "      <td>172286</td>\n",
              "    </tr>\n",
              "    <tr>\n",
              "      <th>Business Analyst</th>\n",
              "      <td>49063</td>\n",
              "    </tr>\n",
              "    <tr>\n",
              "      <th>Software Engineer</th>\n",
              "      <td>44929</td>\n",
              "    </tr>\n",
              "    <tr>\n",
              "      <th>Senior Data Engineer</th>\n",
              "      <td>44563</td>\n",
              "    </tr>\n",
              "    <tr>\n",
              "      <th>Senior Data Scientist</th>\n",
              "      <td>36957</td>\n",
              "    </tr>\n",
              "    <tr>\n",
              "      <th>Senior Data Analyst</th>\n",
              "      <td>29216</td>\n",
              "    </tr>\n",
              "    <tr>\n",
              "      <th>Machine Learning Engineer</th>\n",
              "      <td>14080</td>\n",
              "    </tr>\n",
              "    <tr>\n",
              "      <th>Cloud Engineer</th>\n",
              "      <td>12331</td>\n",
              "    </tr>\n",
              "  </tbody>\n",
              "</table>\n",
              "</div><br><label><b>dtype:</b> int64</label>"
            ]
          },
          "metadata": {},
          "execution_count": 130
        }
      ]
    },
    {
      "cell_type": "code",
      "source": [
        "# to min salaries of all the job_title_short\n",
        "df.groupby(\"job_title_short\")[[\"salary_year_avg\",\"salary_hour_avg\"]].agg([\"min\",\"max\"])\n"
      ],
      "metadata": {
        "colab": {
          "base_uri": "https://localhost:8080/",
          "height": 426
        },
        "id": "195lg1fYrwBl",
        "outputId": "fdaeb0c1-1570-4581-def4-e96c3d03ea84"
      },
      "execution_count": null,
      "outputs": [
        {
          "output_type": "execute_result",
          "data": {
            "text/plain": [
              "                          salary_year_avg           salary_hour_avg       \n",
              "                                      min       max             min    max\n",
              "job_title_short                                                           \n",
              "Business Analyst                  16500.0  387460.0          10.835  132.5\n",
              "Cloud Engineer                    42000.0  280000.0          18.500   91.0\n",
              "Data Analyst                      25000.0  650000.0           8.000  391.0\n",
              "Data Engineer                     15000.0  525000.0           8.000  184.5\n",
              "Data Scientist                    27000.0  960000.0           8.000  237.5\n",
              "Machine Learning Engineer         30000.0  325000.0          10.000   87.5\n",
              "Senior Data Analyst               30000.0  425000.0          13.000  130.0\n",
              "Senior Data Engineer              35000.0  425000.0          12.500  170.0\n",
              "Senior Data Scientist             45000.0  890000.0          17.500  150.0\n",
              "Software Engineer                 28000.0  375000.0          11.000  102.5"
            ],
            "text/html": [
              "\n",
              "  <div id=\"df-4007cfb5-973c-44dd-bfbe-e24ae8b7447e\" class=\"colab-df-container\">\n",
              "    <div>\n",
              "<style scoped>\n",
              "    .dataframe tbody tr th:only-of-type {\n",
              "        vertical-align: middle;\n",
              "    }\n",
              "\n",
              "    .dataframe tbody tr th {\n",
              "        vertical-align: top;\n",
              "    }\n",
              "\n",
              "    .dataframe thead tr th {\n",
              "        text-align: left;\n",
              "    }\n",
              "\n",
              "    .dataframe thead tr:last-of-type th {\n",
              "        text-align: right;\n",
              "    }\n",
              "</style>\n",
              "<table border=\"1\" class=\"dataframe\">\n",
              "  <thead>\n",
              "    <tr>\n",
              "      <th></th>\n",
              "      <th colspan=\"2\" halign=\"left\">salary_year_avg</th>\n",
              "      <th colspan=\"2\" halign=\"left\">salary_hour_avg</th>\n",
              "    </tr>\n",
              "    <tr>\n",
              "      <th></th>\n",
              "      <th>min</th>\n",
              "      <th>max</th>\n",
              "      <th>min</th>\n",
              "      <th>max</th>\n",
              "    </tr>\n",
              "    <tr>\n",
              "      <th>job_title_short</th>\n",
              "      <th></th>\n",
              "      <th></th>\n",
              "      <th></th>\n",
              "      <th></th>\n",
              "    </tr>\n",
              "  </thead>\n",
              "  <tbody>\n",
              "    <tr>\n",
              "      <th>Business Analyst</th>\n",
              "      <td>16500.0</td>\n",
              "      <td>387460.0</td>\n",
              "      <td>10.835</td>\n",
              "      <td>132.5</td>\n",
              "    </tr>\n",
              "    <tr>\n",
              "      <th>Cloud Engineer</th>\n",
              "      <td>42000.0</td>\n",
              "      <td>280000.0</td>\n",
              "      <td>18.500</td>\n",
              "      <td>91.0</td>\n",
              "    </tr>\n",
              "    <tr>\n",
              "      <th>Data Analyst</th>\n",
              "      <td>25000.0</td>\n",
              "      <td>650000.0</td>\n",
              "      <td>8.000</td>\n",
              "      <td>391.0</td>\n",
              "    </tr>\n",
              "    <tr>\n",
              "      <th>Data Engineer</th>\n",
              "      <td>15000.0</td>\n",
              "      <td>525000.0</td>\n",
              "      <td>8.000</td>\n",
              "      <td>184.5</td>\n",
              "    </tr>\n",
              "    <tr>\n",
              "      <th>Data Scientist</th>\n",
              "      <td>27000.0</td>\n",
              "      <td>960000.0</td>\n",
              "      <td>8.000</td>\n",
              "      <td>237.5</td>\n",
              "    </tr>\n",
              "    <tr>\n",
              "      <th>Machine Learning Engineer</th>\n",
              "      <td>30000.0</td>\n",
              "      <td>325000.0</td>\n",
              "      <td>10.000</td>\n",
              "      <td>87.5</td>\n",
              "    </tr>\n",
              "    <tr>\n",
              "      <th>Senior Data Analyst</th>\n",
              "      <td>30000.0</td>\n",
              "      <td>425000.0</td>\n",
              "      <td>13.000</td>\n",
              "      <td>130.0</td>\n",
              "    </tr>\n",
              "    <tr>\n",
              "      <th>Senior Data Engineer</th>\n",
              "      <td>35000.0</td>\n",
              "      <td>425000.0</td>\n",
              "      <td>12.500</td>\n",
              "      <td>170.0</td>\n",
              "    </tr>\n",
              "    <tr>\n",
              "      <th>Senior Data Scientist</th>\n",
              "      <td>45000.0</td>\n",
              "      <td>890000.0</td>\n",
              "      <td>17.500</td>\n",
              "      <td>150.0</td>\n",
              "    </tr>\n",
              "    <tr>\n",
              "      <th>Software Engineer</th>\n",
              "      <td>28000.0</td>\n",
              "      <td>375000.0</td>\n",
              "      <td>11.000</td>\n",
              "      <td>102.5</td>\n",
              "    </tr>\n",
              "  </tbody>\n",
              "</table>\n",
              "</div>\n",
              "    <div class=\"colab-df-buttons\">\n",
              "\n",
              "  <div class=\"colab-df-container\">\n",
              "    <button class=\"colab-df-convert\" onclick=\"convertToInteractive('df-4007cfb5-973c-44dd-bfbe-e24ae8b7447e')\"\n",
              "            title=\"Convert this dataframe to an interactive table.\"\n",
              "            style=\"display:none;\">\n",
              "\n",
              "  <svg xmlns=\"http://www.w3.org/2000/svg\" height=\"24px\" viewBox=\"0 -960 960 960\">\n",
              "    <path d=\"M120-120v-720h720v720H120Zm60-500h600v-160H180v160Zm220 220h160v-160H400v160Zm0 220h160v-160H400v160ZM180-400h160v-160H180v160Zm440 0h160v-160H620v160ZM180-180h160v-160H180v160Zm440 0h160v-160H620v160Z\"/>\n",
              "  </svg>\n",
              "    </button>\n",
              "\n",
              "  <style>\n",
              "    .colab-df-container {\n",
              "      display:flex;\n",
              "      gap: 12px;\n",
              "    }\n",
              "\n",
              "    .colab-df-convert {\n",
              "      background-color: #E8F0FE;\n",
              "      border: none;\n",
              "      border-radius: 50%;\n",
              "      cursor: pointer;\n",
              "      display: none;\n",
              "      fill: #1967D2;\n",
              "      height: 32px;\n",
              "      padding: 0 0 0 0;\n",
              "      width: 32px;\n",
              "    }\n",
              "\n",
              "    .colab-df-convert:hover {\n",
              "      background-color: #E2EBFA;\n",
              "      box-shadow: 0px 1px 2px rgba(60, 64, 67, 0.3), 0px 1px 3px 1px rgba(60, 64, 67, 0.15);\n",
              "      fill: #174EA6;\n",
              "    }\n",
              "\n",
              "    .colab-df-buttons div {\n",
              "      margin-bottom: 4px;\n",
              "    }\n",
              "\n",
              "    [theme=dark] .colab-df-convert {\n",
              "      background-color: #3B4455;\n",
              "      fill: #D2E3FC;\n",
              "    }\n",
              "\n",
              "    [theme=dark] .colab-df-convert:hover {\n",
              "      background-color: #434B5C;\n",
              "      box-shadow: 0px 1px 3px 1px rgba(0, 0, 0, 0.15);\n",
              "      filter: drop-shadow(0px 1px 2px rgba(0, 0, 0, 0.3));\n",
              "      fill: #FFFFFF;\n",
              "    }\n",
              "  </style>\n",
              "\n",
              "    <script>\n",
              "      const buttonEl =\n",
              "        document.querySelector('#df-4007cfb5-973c-44dd-bfbe-e24ae8b7447e button.colab-df-convert');\n",
              "      buttonEl.style.display =\n",
              "        google.colab.kernel.accessAllowed ? 'block' : 'none';\n",
              "\n",
              "      async function convertToInteractive(key) {\n",
              "        const element = document.querySelector('#df-4007cfb5-973c-44dd-bfbe-e24ae8b7447e');\n",
              "        const dataTable =\n",
              "          await google.colab.kernel.invokeFunction('convertToInteractive',\n",
              "                                                    [key], {});\n",
              "        if (!dataTable) return;\n",
              "\n",
              "        const docLinkHtml = 'Like what you see? Visit the ' +\n",
              "          '<a target=\"_blank\" href=https://colab.research.google.com/notebooks/data_table.ipynb>data table notebook</a>'\n",
              "          + ' to learn more about interactive tables.';\n",
              "        element.innerHTML = '';\n",
              "        dataTable['output_type'] = 'display_data';\n",
              "        await google.colab.output.renderOutput(dataTable, element);\n",
              "        const docLink = document.createElement('div');\n",
              "        docLink.innerHTML = docLinkHtml;\n",
              "        element.appendChild(docLink);\n",
              "      }\n",
              "    </script>\n",
              "  </div>\n",
              "\n",
              "\n",
              "    <div id=\"df-33998181-b823-4fcf-babd-511c88e3f7e6\">\n",
              "      <button class=\"colab-df-quickchart\" onclick=\"quickchart('df-33998181-b823-4fcf-babd-511c88e3f7e6')\"\n",
              "                title=\"Suggest charts\"\n",
              "                style=\"display:none;\">\n",
              "\n",
              "<svg xmlns=\"http://www.w3.org/2000/svg\" height=\"24px\"viewBox=\"0 0 24 24\"\n",
              "     width=\"24px\">\n",
              "    <g>\n",
              "        <path d=\"M19 3H5c-1.1 0-2 .9-2 2v14c0 1.1.9 2 2 2h14c1.1 0 2-.9 2-2V5c0-1.1-.9-2-2-2zM9 17H7v-7h2v7zm4 0h-2V7h2v10zm4 0h-2v-4h2v4z\"/>\n",
              "    </g>\n",
              "</svg>\n",
              "      </button>\n",
              "\n",
              "<style>\n",
              "  .colab-df-quickchart {\n",
              "      --bg-color: #E8F0FE;\n",
              "      --fill-color: #1967D2;\n",
              "      --hover-bg-color: #E2EBFA;\n",
              "      --hover-fill-color: #174EA6;\n",
              "      --disabled-fill-color: #AAA;\n",
              "      --disabled-bg-color: #DDD;\n",
              "  }\n",
              "\n",
              "  [theme=dark] .colab-df-quickchart {\n",
              "      --bg-color: #3B4455;\n",
              "      --fill-color: #D2E3FC;\n",
              "      --hover-bg-color: #434B5C;\n",
              "      --hover-fill-color: #FFFFFF;\n",
              "      --disabled-bg-color: #3B4455;\n",
              "      --disabled-fill-color: #666;\n",
              "  }\n",
              "\n",
              "  .colab-df-quickchart {\n",
              "    background-color: var(--bg-color);\n",
              "    border: none;\n",
              "    border-radius: 50%;\n",
              "    cursor: pointer;\n",
              "    display: none;\n",
              "    fill: var(--fill-color);\n",
              "    height: 32px;\n",
              "    padding: 0;\n",
              "    width: 32px;\n",
              "  }\n",
              "\n",
              "  .colab-df-quickchart:hover {\n",
              "    background-color: var(--hover-bg-color);\n",
              "    box-shadow: 0 1px 2px rgba(60, 64, 67, 0.3), 0 1px 3px 1px rgba(60, 64, 67, 0.15);\n",
              "    fill: var(--button-hover-fill-color);\n",
              "  }\n",
              "\n",
              "  .colab-df-quickchart-complete:disabled,\n",
              "  .colab-df-quickchart-complete:disabled:hover {\n",
              "    background-color: var(--disabled-bg-color);\n",
              "    fill: var(--disabled-fill-color);\n",
              "    box-shadow: none;\n",
              "  }\n",
              "\n",
              "  .colab-df-spinner {\n",
              "    border: 2px solid var(--fill-color);\n",
              "    border-color: transparent;\n",
              "    border-bottom-color: var(--fill-color);\n",
              "    animation:\n",
              "      spin 1s steps(1) infinite;\n",
              "  }\n",
              "\n",
              "  @keyframes spin {\n",
              "    0% {\n",
              "      border-color: transparent;\n",
              "      border-bottom-color: var(--fill-color);\n",
              "      border-left-color: var(--fill-color);\n",
              "    }\n",
              "    20% {\n",
              "      border-color: transparent;\n",
              "      border-left-color: var(--fill-color);\n",
              "      border-top-color: var(--fill-color);\n",
              "    }\n",
              "    30% {\n",
              "      border-color: transparent;\n",
              "      border-left-color: var(--fill-color);\n",
              "      border-top-color: var(--fill-color);\n",
              "      border-right-color: var(--fill-color);\n",
              "    }\n",
              "    40% {\n",
              "      border-color: transparent;\n",
              "      border-right-color: var(--fill-color);\n",
              "      border-top-color: var(--fill-color);\n",
              "    }\n",
              "    60% {\n",
              "      border-color: transparent;\n",
              "      border-right-color: var(--fill-color);\n",
              "    }\n",
              "    80% {\n",
              "      border-color: transparent;\n",
              "      border-right-color: var(--fill-color);\n",
              "      border-bottom-color: var(--fill-color);\n",
              "    }\n",
              "    90% {\n",
              "      border-color: transparent;\n",
              "      border-bottom-color: var(--fill-color);\n",
              "    }\n",
              "  }\n",
              "</style>\n",
              "\n",
              "      <script>\n",
              "        async function quickchart(key) {\n",
              "          const quickchartButtonEl =\n",
              "            document.querySelector('#' + key + ' button');\n",
              "          quickchartButtonEl.disabled = true;  // To prevent multiple clicks.\n",
              "          quickchartButtonEl.classList.add('colab-df-spinner');\n",
              "          try {\n",
              "            const charts = await google.colab.kernel.invokeFunction(\n",
              "                'suggestCharts', [key], {});\n",
              "          } catch (error) {\n",
              "            console.error('Error during call to suggestCharts:', error);\n",
              "          }\n",
              "          quickchartButtonEl.classList.remove('colab-df-spinner');\n",
              "          quickchartButtonEl.classList.add('colab-df-quickchart-complete');\n",
              "        }\n",
              "        (() => {\n",
              "          let quickchartButtonEl =\n",
              "            document.querySelector('#df-33998181-b823-4fcf-babd-511c88e3f7e6 button');\n",
              "          quickchartButtonEl.style.display =\n",
              "            google.colab.kernel.accessAllowed ? 'block' : 'none';\n",
              "        })();\n",
              "      </script>\n",
              "    </div>\n",
              "\n",
              "    </div>\n",
              "  </div>\n"
            ],
            "application/vnd.google.colaboratory.intrinsic+json": {
              "type": "dataframe",
              "summary": "{\n  \"name\": \"df\",\n  \"rows\": 10,\n  \"fields\": [\n    {\n      \"column\": [\n        \"job_title_short\",\n        \"\"\n      ],\n      \"properties\": {\n        \"dtype\": \"string\",\n        \"num_unique_values\": 10,\n        \"samples\": [\n          \"Senior Data Scientist\",\n          \"Cloud Engineer\",\n          \"Machine Learning Engineer\"\n        ],\n        \"semantic_type\": \"\",\n        \"description\": \"\"\n      }\n    },\n    {\n      \"column\": [\n        \"salary_year_avg\",\n        \"min\"\n      ],\n      \"properties\": {\n        \"dtype\": \"number\",\n        \"std\": 9632.26637689986,\n        \"min\": 15000.0,\n        \"max\": 45000.0,\n        \"num_unique_values\": 9,\n        \"samples\": [\n          45000.0,\n          42000.0,\n          30000.0\n        ],\n        \"semantic_type\": \"\",\n        \"description\": \"\"\n      }\n    },\n    {\n      \"column\": [\n        \"salary_year_avg\",\n        \"max\"\n      ],\n      \"properties\": {\n        \"dtype\": \"number\",\n        \"std\": 235587.10737219895,\n        \"min\": 280000.0,\n        \"max\": 960000.0,\n        \"num_unique_values\": 9,\n        \"samples\": [\n          890000.0,\n          280000.0,\n          325000.0\n        ],\n        \"semantic_type\": \"\",\n        \"description\": \"\"\n      }\n    },\n    {\n      \"column\": [\n        \"salary_hour_avg\",\n        \"min\"\n      ],\n      \"properties\": {\n        \"dtype\": \"number\",\n        \"std\": 3.7623426867290175,\n        \"min\": 8.0,\n        \"max\": 18.5,\n        \"num_unique_values\": 8,\n        \"samples\": [\n          18.5,\n          12.5,\n          10.835000038146973\n        ],\n        \"semantic_type\": \"\",\n        \"description\": \"\"\n      }\n    },\n    {\n      \"column\": [\n        \"salary_hour_avg\",\n        \"max\"\n      ],\n      \"properties\": {\n        \"dtype\": \"number\",\n        \"std\": 91.02015954965387,\n        \"min\": 87.5,\n        \"max\": 391.0,\n        \"num_unique_values\": 10,\n        \"samples\": [\n          150.0,\n          91.0,\n          87.5\n        ],\n        \"semantic_type\": \"\",\n        \"description\": \"\"\n      }\n    }\n  ]\n}"
            }
          },
          "metadata": {},
          "execution_count": 131
        }
      ]
    },
    {
      "cell_type": "code",
      "source": [
        "# Pandas Exercise :\n",
        "\n",
        "df[\"job_country\"].value_counts().head(10)"
      ],
      "metadata": {
        "colab": {
          "base_uri": "https://localhost:8080/",
          "height": 429
        },
        "id": "gUhlwmfatCBn",
        "outputId": "1fff9d19-92d2-4033-a866-3c36113328f9"
      },
      "execution_count": null,
      "outputs": [
        {
          "output_type": "execute_result",
          "data": {
            "text/plain": [
              "job_country\n",
              "United States     206292\n",
              "India              51088\n",
              "United Kingdom     40375\n",
              "France             39922\n",
              "Germany            27694\n",
              "Spain              25100\n",
              "Singapore          23696\n",
              "Sudan              21781\n",
              "Netherlands        20631\n",
              "Italy              17013\n",
              "Name: count, dtype: int64"
            ],
            "text/html": [
              "<div>\n",
              "<style scoped>\n",
              "    .dataframe tbody tr th:only-of-type {\n",
              "        vertical-align: middle;\n",
              "    }\n",
              "\n",
              "    .dataframe tbody tr th {\n",
              "        vertical-align: top;\n",
              "    }\n",
              "\n",
              "    .dataframe thead th {\n",
              "        text-align: right;\n",
              "    }\n",
              "</style>\n",
              "<table border=\"1\" class=\"dataframe\">\n",
              "  <thead>\n",
              "    <tr style=\"text-align: right;\">\n",
              "      <th></th>\n",
              "      <th>count</th>\n",
              "    </tr>\n",
              "    <tr>\n",
              "      <th>job_country</th>\n",
              "      <th></th>\n",
              "    </tr>\n",
              "  </thead>\n",
              "  <tbody>\n",
              "    <tr>\n",
              "      <th>United States</th>\n",
              "      <td>206292</td>\n",
              "    </tr>\n",
              "    <tr>\n",
              "      <th>India</th>\n",
              "      <td>51088</td>\n",
              "    </tr>\n",
              "    <tr>\n",
              "      <th>United Kingdom</th>\n",
              "      <td>40375</td>\n",
              "    </tr>\n",
              "    <tr>\n",
              "      <th>France</th>\n",
              "      <td>39922</td>\n",
              "    </tr>\n",
              "    <tr>\n",
              "      <th>Germany</th>\n",
              "      <td>27694</td>\n",
              "    </tr>\n",
              "    <tr>\n",
              "      <th>Spain</th>\n",
              "      <td>25100</td>\n",
              "    </tr>\n",
              "    <tr>\n",
              "      <th>Singapore</th>\n",
              "      <td>23696</td>\n",
              "    </tr>\n",
              "    <tr>\n",
              "      <th>Sudan</th>\n",
              "      <td>21781</td>\n",
              "    </tr>\n",
              "    <tr>\n",
              "      <th>Netherlands</th>\n",
              "      <td>20631</td>\n",
              "    </tr>\n",
              "    <tr>\n",
              "      <th>Italy</th>\n",
              "      <td>17013</td>\n",
              "    </tr>\n",
              "  </tbody>\n",
              "</table>\n",
              "</div><br><label><b>dtype:</b> int64</label>"
            ]
          },
          "metadata": {},
          "execution_count": 132
        }
      ]
    },
    {
      "cell_type": "code",
      "source": [
        "# to check if its present or not\n",
        "\n",
        "df[\"job_country\"].isin([\"Brazil\"])"
      ],
      "metadata": {
        "colab": {
          "base_uri": "https://localhost:8080/",
          "height": 458
        },
        "id": "BzywY_CjvsEk",
        "outputId": "1de57500-8e36-4d32-db38-7091c359086c"
      },
      "execution_count": null,
      "outputs": [
        {
          "output_type": "execute_result",
          "data": {
            "text/plain": [
              "108804    False\n",
              "96906     False\n",
              "98438     False\n",
              "110290    False\n",
              "72158     False\n",
              "          ...  \n",
              "362129    False\n",
              "351830    False\n",
              "327439    False\n",
              "112373    False\n",
              "90102     False\n",
              "Name: job_country, Length: 785741, dtype: bool"
            ],
            "text/html": [
              "<div>\n",
              "<style scoped>\n",
              "    .dataframe tbody tr th:only-of-type {\n",
              "        vertical-align: middle;\n",
              "    }\n",
              "\n",
              "    .dataframe tbody tr th {\n",
              "        vertical-align: top;\n",
              "    }\n",
              "\n",
              "    .dataframe thead th {\n",
              "        text-align: right;\n",
              "    }\n",
              "</style>\n",
              "<table border=\"1\" class=\"dataframe\">\n",
              "  <thead>\n",
              "    <tr style=\"text-align: right;\">\n",
              "      <th></th>\n",
              "      <th>job_country</th>\n",
              "    </tr>\n",
              "  </thead>\n",
              "  <tbody>\n",
              "    <tr>\n",
              "      <th>108804</th>\n",
              "      <td>False</td>\n",
              "    </tr>\n",
              "    <tr>\n",
              "      <th>96906</th>\n",
              "      <td>False</td>\n",
              "    </tr>\n",
              "    <tr>\n",
              "      <th>98438</th>\n",
              "      <td>False</td>\n",
              "    </tr>\n",
              "    <tr>\n",
              "      <th>110290</th>\n",
              "      <td>False</td>\n",
              "    </tr>\n",
              "    <tr>\n",
              "      <th>72158</th>\n",
              "      <td>False</td>\n",
              "    </tr>\n",
              "    <tr>\n",
              "      <th>...</th>\n",
              "      <td>...</td>\n",
              "    </tr>\n",
              "    <tr>\n",
              "      <th>362129</th>\n",
              "      <td>False</td>\n",
              "    </tr>\n",
              "    <tr>\n",
              "      <th>351830</th>\n",
              "      <td>False</td>\n",
              "    </tr>\n",
              "    <tr>\n",
              "      <th>327439</th>\n",
              "      <td>False</td>\n",
              "    </tr>\n",
              "    <tr>\n",
              "      <th>112373</th>\n",
              "      <td>False</td>\n",
              "    </tr>\n",
              "    <tr>\n",
              "      <th>90102</th>\n",
              "      <td>False</td>\n",
              "    </tr>\n",
              "  </tbody>\n",
              "</table>\n",
              "<p>785741 rows × 1 columns</p>\n",
              "</div><br><label><b>dtype:</b> bool</label>"
            ]
          },
          "metadata": {},
          "execution_count": 133
        }
      ]
    },
    {
      "cell_type": "code",
      "source": [
        "us_jobs = df[df[\"job_country\"] == \"United States\"]"
      ],
      "metadata": {
        "id": "KxPmRaGlv80P"
      },
      "execution_count": null,
      "outputs": []
    },
    {
      "cell_type": "code",
      "source": [
        "us_jobs"
      ],
      "metadata": {
        "colab": {
          "base_uri": "https://localhost:8080/",
          "height": 964
        },
        "id": "L2huKejowSy-",
        "outputId": "ddf91d45-aefa-41f3-92d3-c1e980847dbb"
      },
      "execution_count": null,
      "outputs": [
        {
          "output_type": "execute_result",
          "data": {
            "text/plain": [
              "                  job_title_short  \\\n",
              "108804               Data Analyst   \n",
              "96906                Data Analyst   \n",
              "98438                Data Analyst   \n",
              "110290               Data Analyst   \n",
              "72158         Senior Data Analyst   \n",
              "...                           ...   \n",
              "345518              Data Engineer   \n",
              "355927              Data Engineer   \n",
              "359638       Senior Data Engineer   \n",
              "112373        Senior Data Analyst   \n",
              "90102   Machine Learning Engineer   \n",
              "\n",
              "                                                job_title  \\\n",
              "108804                                       Data Analyst   \n",
              "96906                                        Data Analyst   \n",
              "98438                                        Data Analyst   \n",
              "110290                                       Data Analyst   \n",
              "72158           Senior Data Analyst / Platform Experience   \n",
              "...                                                   ...   \n",
              "345518     Internship, Energy Data Engineer (Spring 2024)   \n",
              "355927                                   Data engineering   \n",
              "359638                               Senior data engineer   \n",
              "112373  Marketing Data & Analytics Product Owner - Sen...   \n",
              "90102                                Intelligence analyst   \n",
              "\n",
              "                  job_location                      job_via job_schedule_type  \\\n",
              "108804            New York, NY            via CareerBuilder         Full-time   \n",
              "96906           Bloomfield, CT            via CareerBuilder         Full-time   \n",
              "98438           Washington, DC            via CareerBuilder         Full-time   \n",
              "110290             Fairfax, VA            via CareerBuilder         Full-time   \n",
              "72158            Worcester, MA                 via LinkedIn         Full-time   \n",
              "...                        ...                          ...               ...   \n",
              "345518             Fremont, CA          via ClimateTechList        Internship   \n",
              "355927            Richmond, VA               via Talent.com         Full-time   \n",
              "359638              Dallas, TX               via Talent.com         Full-time   \n",
              "112373  Boston, MA  (+1 other)  via Boston Consulting Group         Full-time   \n",
              "90102               Boston, MA               via Talent.com         Full-time   \n",
              "\n",
              "        job_work_from_home          search_location     job_posted_date  \\\n",
              "108804               False  New York, United States 2023-01-01 00:00:04   \n",
              "96906                False  New York, United States 2023-01-01 00:00:07   \n",
              "98438                False  New York, United States 2023-01-01 00:00:22   \n",
              "110290               False  New York, United States 2023-01-01 00:00:24   \n",
              "72158                False  New York, United States 2023-01-01 00:00:27   \n",
              "...                    ...                      ...                 ...   \n",
              "345518               False                  Georgia 2023-12-31 23:32:21   \n",
              "355927               False                  Georgia 2023-12-31 23:32:24   \n",
              "359638               False                  Georgia 2023-12-31 23:32:26   \n",
              "112373               False  New York, United States 2023-12-31 23:59:58   \n",
              "90102                False  New York, United States 2023-12-31 23:59:58   \n",
              "\n",
              "        job_no_degree_mention  job_health_insurance    job_country  \\\n",
              "108804                  False                 False  United States   \n",
              "96906                    True                 False  United States   \n",
              "98438                   False                  True  United States   \n",
              "110290                  False                 False  United States   \n",
              "72158                   False                  True  United States   \n",
              "...                       ...                   ...            ...   \n",
              "345518                  False                 False  United States   \n",
              "355927                  False                 False  United States   \n",
              "359638                   True                 False  United States   \n",
              "112373                  False                 False  United States   \n",
              "90102                    True                 False  United States   \n",
              "\n",
              "       salary_rate  salary_year_avg  salary_hour_avg             company_name  \\\n",
              "108804         NaN              NaN              NaN     Metasys Technologies   \n",
              "96906          NaN              NaN              NaN             Diverse Lynx   \n",
              "98438          NaN              NaN              NaN               Guidehouse   \n",
              "110290         NaN              NaN              NaN                  Protask   \n",
              "72158          NaN              NaN              NaN   Atria Wealth Solutions   \n",
              "...            ...              ...              ...                      ...   \n",
              "345518         NaN              NaN              NaN                    Tesla   \n",
              "355927         NaN              NaN              NaN              LTIMindtree   \n",
              "359638         NaN              NaN              NaN               NIKE, Inc.   \n",
              "112373         NaN              NaN              NaN  Boston Consulting Group   \n",
              "90102          NaN              NaN              NaN         VirtualVocations   \n",
              "\n",
              "                                               job_skills  \\\n",
              "108804  ['sql', 'snowflake', 'visio', 'jira', 'conflue...   \n",
              "96906                               ['sql', 'sas', 'sas']   \n",
              "98438   ['sql', 'python', 'r', 'azure', 'snowflake', '...   \n",
              "110290                                    ['sql', 'jira']   \n",
              "72158                        ['sql', 'atlassian', 'jira']   \n",
              "...                                                   ...   \n",
              "345518                                         ['spring']   \n",
              "355927                               ['sql', 'snowflake']   \n",
              "359638                                                NaN   \n",
              "112373  ['sql', 'python', 'r', 'gdpr', 'tableau', 'pow...   \n",
              "90102                                                 NaN   \n",
              "\n",
              "                                          job_type_skills  job_posted_month  \n",
              "108804  {'analyst_tools': ['visio'], 'async': ['jira',...                 1  \n",
              "96906   {'analyst_tools': ['sas'], 'programming': ['sq...                 1  \n",
              "98438   {'analyst_tools': ['tableau', 'excel'], 'cloud...                 1  \n",
              "110290        {'async': ['jira'], 'programming': ['sql']}                 1  \n",
              "72158   {'async': ['jira'], 'other': ['atlassian'], 'p...                 1  \n",
              "...                                                   ...               ...  \n",
              "345518                          {'libraries': ['spring']}                12  \n",
              "355927   {'cloud': ['snowflake'], 'programming': ['sql']}                12  \n",
              "359638                                                NaN                12  \n",
              "112373  {'analyst_tools': ['tableau', 'power bi'], 'li...                12  \n",
              "90102                                                 NaN                12  \n",
              "\n",
              "[206292 rows x 18 columns]"
            ],
            "text/html": [
              "\n",
              "  <div id=\"df-910bf370-faa1-4981-98ae-e4ed354355f2\" class=\"colab-df-container\">\n",
              "    <div>\n",
              "<style scoped>\n",
              "    .dataframe tbody tr th:only-of-type {\n",
              "        vertical-align: middle;\n",
              "    }\n",
              "\n",
              "    .dataframe tbody tr th {\n",
              "        vertical-align: top;\n",
              "    }\n",
              "\n",
              "    .dataframe thead th {\n",
              "        text-align: right;\n",
              "    }\n",
              "</style>\n",
              "<table border=\"1\" class=\"dataframe\">\n",
              "  <thead>\n",
              "    <tr style=\"text-align: right;\">\n",
              "      <th></th>\n",
              "      <th>job_title_short</th>\n",
              "      <th>job_title</th>\n",
              "      <th>job_location</th>\n",
              "      <th>job_via</th>\n",
              "      <th>job_schedule_type</th>\n",
              "      <th>job_work_from_home</th>\n",
              "      <th>search_location</th>\n",
              "      <th>job_posted_date</th>\n",
              "      <th>job_no_degree_mention</th>\n",
              "      <th>job_health_insurance</th>\n",
              "      <th>job_country</th>\n",
              "      <th>salary_rate</th>\n",
              "      <th>salary_year_avg</th>\n",
              "      <th>salary_hour_avg</th>\n",
              "      <th>company_name</th>\n",
              "      <th>job_skills</th>\n",
              "      <th>job_type_skills</th>\n",
              "      <th>job_posted_month</th>\n",
              "    </tr>\n",
              "  </thead>\n",
              "  <tbody>\n",
              "    <tr>\n",
              "      <th>108804</th>\n",
              "      <td>Data Analyst</td>\n",
              "      <td>Data Analyst</td>\n",
              "      <td>New York, NY</td>\n",
              "      <td>via CareerBuilder</td>\n",
              "      <td>Full-time</td>\n",
              "      <td>False</td>\n",
              "      <td>New York, United States</td>\n",
              "      <td>2023-01-01 00:00:04</td>\n",
              "      <td>False</td>\n",
              "      <td>False</td>\n",
              "      <td>United States</td>\n",
              "      <td>NaN</td>\n",
              "      <td>NaN</td>\n",
              "      <td>NaN</td>\n",
              "      <td>Metasys Technologies</td>\n",
              "      <td>['sql', 'snowflake', 'visio', 'jira', 'conflue...</td>\n",
              "      <td>{'analyst_tools': ['visio'], 'async': ['jira',...</td>\n",
              "      <td>1</td>\n",
              "    </tr>\n",
              "    <tr>\n",
              "      <th>96906</th>\n",
              "      <td>Data Analyst</td>\n",
              "      <td>Data Analyst</td>\n",
              "      <td>Bloomfield, CT</td>\n",
              "      <td>via CareerBuilder</td>\n",
              "      <td>Full-time</td>\n",
              "      <td>False</td>\n",
              "      <td>New York, United States</td>\n",
              "      <td>2023-01-01 00:00:07</td>\n",
              "      <td>True</td>\n",
              "      <td>False</td>\n",
              "      <td>United States</td>\n",
              "      <td>NaN</td>\n",
              "      <td>NaN</td>\n",
              "      <td>NaN</td>\n",
              "      <td>Diverse Lynx</td>\n",
              "      <td>['sql', 'sas', 'sas']</td>\n",
              "      <td>{'analyst_tools': ['sas'], 'programming': ['sq...</td>\n",
              "      <td>1</td>\n",
              "    </tr>\n",
              "    <tr>\n",
              "      <th>98438</th>\n",
              "      <td>Data Analyst</td>\n",
              "      <td>Data Analyst</td>\n",
              "      <td>Washington, DC</td>\n",
              "      <td>via CareerBuilder</td>\n",
              "      <td>Full-time</td>\n",
              "      <td>False</td>\n",
              "      <td>New York, United States</td>\n",
              "      <td>2023-01-01 00:00:22</td>\n",
              "      <td>False</td>\n",
              "      <td>True</td>\n",
              "      <td>United States</td>\n",
              "      <td>NaN</td>\n",
              "      <td>NaN</td>\n",
              "      <td>NaN</td>\n",
              "      <td>Guidehouse</td>\n",
              "      <td>['sql', 'python', 'r', 'azure', 'snowflake', '...</td>\n",
              "      <td>{'analyst_tools': ['tableau', 'excel'], 'cloud...</td>\n",
              "      <td>1</td>\n",
              "    </tr>\n",
              "    <tr>\n",
              "      <th>110290</th>\n",
              "      <td>Data Analyst</td>\n",
              "      <td>Data Analyst</td>\n",
              "      <td>Fairfax, VA</td>\n",
              "      <td>via CareerBuilder</td>\n",
              "      <td>Full-time</td>\n",
              "      <td>False</td>\n",
              "      <td>New York, United States</td>\n",
              "      <td>2023-01-01 00:00:24</td>\n",
              "      <td>False</td>\n",
              "      <td>False</td>\n",
              "      <td>United States</td>\n",
              "      <td>NaN</td>\n",
              "      <td>NaN</td>\n",
              "      <td>NaN</td>\n",
              "      <td>Protask</td>\n",
              "      <td>['sql', 'jira']</td>\n",
              "      <td>{'async': ['jira'], 'programming': ['sql']}</td>\n",
              "      <td>1</td>\n",
              "    </tr>\n",
              "    <tr>\n",
              "      <th>72158</th>\n",
              "      <td>Senior Data Analyst</td>\n",
              "      <td>Senior Data Analyst / Platform Experience</td>\n",
              "      <td>Worcester, MA</td>\n",
              "      <td>via LinkedIn</td>\n",
              "      <td>Full-time</td>\n",
              "      <td>False</td>\n",
              "      <td>New York, United States</td>\n",
              "      <td>2023-01-01 00:00:27</td>\n",
              "      <td>False</td>\n",
              "      <td>True</td>\n",
              "      <td>United States</td>\n",
              "      <td>NaN</td>\n",
              "      <td>NaN</td>\n",
              "      <td>NaN</td>\n",
              "      <td>Atria Wealth Solutions</td>\n",
              "      <td>['sql', 'atlassian', 'jira']</td>\n",
              "      <td>{'async': ['jira'], 'other': ['atlassian'], 'p...</td>\n",
              "      <td>1</td>\n",
              "    </tr>\n",
              "    <tr>\n",
              "      <th>...</th>\n",
              "      <td>...</td>\n",
              "      <td>...</td>\n",
              "      <td>...</td>\n",
              "      <td>...</td>\n",
              "      <td>...</td>\n",
              "      <td>...</td>\n",
              "      <td>...</td>\n",
              "      <td>...</td>\n",
              "      <td>...</td>\n",
              "      <td>...</td>\n",
              "      <td>...</td>\n",
              "      <td>...</td>\n",
              "      <td>...</td>\n",
              "      <td>...</td>\n",
              "      <td>...</td>\n",
              "      <td>...</td>\n",
              "      <td>...</td>\n",
              "      <td>...</td>\n",
              "    </tr>\n",
              "    <tr>\n",
              "      <th>345518</th>\n",
              "      <td>Data Engineer</td>\n",
              "      <td>Internship, Energy Data Engineer (Spring 2024)</td>\n",
              "      <td>Fremont, CA</td>\n",
              "      <td>via ClimateTechList</td>\n",
              "      <td>Internship</td>\n",
              "      <td>False</td>\n",
              "      <td>Georgia</td>\n",
              "      <td>2023-12-31 23:32:21</td>\n",
              "      <td>False</td>\n",
              "      <td>False</td>\n",
              "      <td>United States</td>\n",
              "      <td>NaN</td>\n",
              "      <td>NaN</td>\n",
              "      <td>NaN</td>\n",
              "      <td>Tesla</td>\n",
              "      <td>['spring']</td>\n",
              "      <td>{'libraries': ['spring']}</td>\n",
              "      <td>12</td>\n",
              "    </tr>\n",
              "    <tr>\n",
              "      <th>355927</th>\n",
              "      <td>Data Engineer</td>\n",
              "      <td>Data engineering</td>\n",
              "      <td>Richmond, VA</td>\n",
              "      <td>via Talent.com</td>\n",
              "      <td>Full-time</td>\n",
              "      <td>False</td>\n",
              "      <td>Georgia</td>\n",
              "      <td>2023-12-31 23:32:24</td>\n",
              "      <td>False</td>\n",
              "      <td>False</td>\n",
              "      <td>United States</td>\n",
              "      <td>NaN</td>\n",
              "      <td>NaN</td>\n",
              "      <td>NaN</td>\n",
              "      <td>LTIMindtree</td>\n",
              "      <td>['sql', 'snowflake']</td>\n",
              "      <td>{'cloud': ['snowflake'], 'programming': ['sql']}</td>\n",
              "      <td>12</td>\n",
              "    </tr>\n",
              "    <tr>\n",
              "      <th>359638</th>\n",
              "      <td>Senior Data Engineer</td>\n",
              "      <td>Senior data engineer</td>\n",
              "      <td>Dallas, TX</td>\n",
              "      <td>via Talent.com</td>\n",
              "      <td>Full-time</td>\n",
              "      <td>False</td>\n",
              "      <td>Georgia</td>\n",
              "      <td>2023-12-31 23:32:26</td>\n",
              "      <td>True</td>\n",
              "      <td>False</td>\n",
              "      <td>United States</td>\n",
              "      <td>NaN</td>\n",
              "      <td>NaN</td>\n",
              "      <td>NaN</td>\n",
              "      <td>NIKE, Inc.</td>\n",
              "      <td>NaN</td>\n",
              "      <td>NaN</td>\n",
              "      <td>12</td>\n",
              "    </tr>\n",
              "    <tr>\n",
              "      <th>112373</th>\n",
              "      <td>Senior Data Analyst</td>\n",
              "      <td>Marketing Data &amp; Analytics Product Owner - Sen...</td>\n",
              "      <td>Boston, MA  (+1 other)</td>\n",
              "      <td>via Boston Consulting Group</td>\n",
              "      <td>Full-time</td>\n",
              "      <td>False</td>\n",
              "      <td>New York, United States</td>\n",
              "      <td>2023-12-31 23:59:58</td>\n",
              "      <td>False</td>\n",
              "      <td>False</td>\n",
              "      <td>United States</td>\n",
              "      <td>NaN</td>\n",
              "      <td>NaN</td>\n",
              "      <td>NaN</td>\n",
              "      <td>Boston Consulting Group</td>\n",
              "      <td>['sql', 'python', 'r', 'gdpr', 'tableau', 'pow...</td>\n",
              "      <td>{'analyst_tools': ['tableau', 'power bi'], 'li...</td>\n",
              "      <td>12</td>\n",
              "    </tr>\n",
              "    <tr>\n",
              "      <th>90102</th>\n",
              "      <td>Machine Learning Engineer</td>\n",
              "      <td>Intelligence analyst</td>\n",
              "      <td>Boston, MA</td>\n",
              "      <td>via Talent.com</td>\n",
              "      <td>Full-time</td>\n",
              "      <td>False</td>\n",
              "      <td>New York, United States</td>\n",
              "      <td>2023-12-31 23:59:58</td>\n",
              "      <td>True</td>\n",
              "      <td>False</td>\n",
              "      <td>United States</td>\n",
              "      <td>NaN</td>\n",
              "      <td>NaN</td>\n",
              "      <td>NaN</td>\n",
              "      <td>VirtualVocations</td>\n",
              "      <td>NaN</td>\n",
              "      <td>NaN</td>\n",
              "      <td>12</td>\n",
              "    </tr>\n",
              "  </tbody>\n",
              "</table>\n",
              "<p>206292 rows × 18 columns</p>\n",
              "</div>\n",
              "    <div class=\"colab-df-buttons\">\n",
              "\n",
              "  <div class=\"colab-df-container\">\n",
              "    <button class=\"colab-df-convert\" onclick=\"convertToInteractive('df-910bf370-faa1-4981-98ae-e4ed354355f2')\"\n",
              "            title=\"Convert this dataframe to an interactive table.\"\n",
              "            style=\"display:none;\">\n",
              "\n",
              "  <svg xmlns=\"http://www.w3.org/2000/svg\" height=\"24px\" viewBox=\"0 -960 960 960\">\n",
              "    <path d=\"M120-120v-720h720v720H120Zm60-500h600v-160H180v160Zm220 220h160v-160H400v160Zm0 220h160v-160H400v160ZM180-400h160v-160H180v160Zm440 0h160v-160H620v160ZM180-180h160v-160H180v160Zm440 0h160v-160H620v160Z\"/>\n",
              "  </svg>\n",
              "    </button>\n",
              "\n",
              "  <style>\n",
              "    .colab-df-container {\n",
              "      display:flex;\n",
              "      gap: 12px;\n",
              "    }\n",
              "\n",
              "    .colab-df-convert {\n",
              "      background-color: #E8F0FE;\n",
              "      border: none;\n",
              "      border-radius: 50%;\n",
              "      cursor: pointer;\n",
              "      display: none;\n",
              "      fill: #1967D2;\n",
              "      height: 32px;\n",
              "      padding: 0 0 0 0;\n",
              "      width: 32px;\n",
              "    }\n",
              "\n",
              "    .colab-df-convert:hover {\n",
              "      background-color: #E2EBFA;\n",
              "      box-shadow: 0px 1px 2px rgba(60, 64, 67, 0.3), 0px 1px 3px 1px rgba(60, 64, 67, 0.15);\n",
              "      fill: #174EA6;\n",
              "    }\n",
              "\n",
              "    .colab-df-buttons div {\n",
              "      margin-bottom: 4px;\n",
              "    }\n",
              "\n",
              "    [theme=dark] .colab-df-convert {\n",
              "      background-color: #3B4455;\n",
              "      fill: #D2E3FC;\n",
              "    }\n",
              "\n",
              "    [theme=dark] .colab-df-convert:hover {\n",
              "      background-color: #434B5C;\n",
              "      box-shadow: 0px 1px 3px 1px rgba(0, 0, 0, 0.15);\n",
              "      filter: drop-shadow(0px 1px 2px rgba(0, 0, 0, 0.3));\n",
              "      fill: #FFFFFF;\n",
              "    }\n",
              "  </style>\n",
              "\n",
              "    <script>\n",
              "      const buttonEl =\n",
              "        document.querySelector('#df-910bf370-faa1-4981-98ae-e4ed354355f2 button.colab-df-convert');\n",
              "      buttonEl.style.display =\n",
              "        google.colab.kernel.accessAllowed ? 'block' : 'none';\n",
              "\n",
              "      async function convertToInteractive(key) {\n",
              "        const element = document.querySelector('#df-910bf370-faa1-4981-98ae-e4ed354355f2');\n",
              "        const dataTable =\n",
              "          await google.colab.kernel.invokeFunction('convertToInteractive',\n",
              "                                                    [key], {});\n",
              "        if (!dataTable) return;\n",
              "\n",
              "        const docLinkHtml = 'Like what you see? Visit the ' +\n",
              "          '<a target=\"_blank\" href=https://colab.research.google.com/notebooks/data_table.ipynb>data table notebook</a>'\n",
              "          + ' to learn more about interactive tables.';\n",
              "        element.innerHTML = '';\n",
              "        dataTable['output_type'] = 'display_data';\n",
              "        await google.colab.output.renderOutput(dataTable, element);\n",
              "        const docLink = document.createElement('div');\n",
              "        docLink.innerHTML = docLinkHtml;\n",
              "        element.appendChild(docLink);\n",
              "      }\n",
              "    </script>\n",
              "  </div>\n",
              "\n",
              "\n",
              "    <div id=\"df-6f353344-084a-420f-bbdb-c7526a8e3f6a\">\n",
              "      <button class=\"colab-df-quickchart\" onclick=\"quickchart('df-6f353344-084a-420f-bbdb-c7526a8e3f6a')\"\n",
              "                title=\"Suggest charts\"\n",
              "                style=\"display:none;\">\n",
              "\n",
              "<svg xmlns=\"http://www.w3.org/2000/svg\" height=\"24px\"viewBox=\"0 0 24 24\"\n",
              "     width=\"24px\">\n",
              "    <g>\n",
              "        <path d=\"M19 3H5c-1.1 0-2 .9-2 2v14c0 1.1.9 2 2 2h14c1.1 0 2-.9 2-2V5c0-1.1-.9-2-2-2zM9 17H7v-7h2v7zm4 0h-2V7h2v10zm4 0h-2v-4h2v4z\"/>\n",
              "    </g>\n",
              "</svg>\n",
              "      </button>\n",
              "\n",
              "<style>\n",
              "  .colab-df-quickchart {\n",
              "      --bg-color: #E8F0FE;\n",
              "      --fill-color: #1967D2;\n",
              "      --hover-bg-color: #E2EBFA;\n",
              "      --hover-fill-color: #174EA6;\n",
              "      --disabled-fill-color: #AAA;\n",
              "      --disabled-bg-color: #DDD;\n",
              "  }\n",
              "\n",
              "  [theme=dark] .colab-df-quickchart {\n",
              "      --bg-color: #3B4455;\n",
              "      --fill-color: #D2E3FC;\n",
              "      --hover-bg-color: #434B5C;\n",
              "      --hover-fill-color: #FFFFFF;\n",
              "      --disabled-bg-color: #3B4455;\n",
              "      --disabled-fill-color: #666;\n",
              "  }\n",
              "\n",
              "  .colab-df-quickchart {\n",
              "    background-color: var(--bg-color);\n",
              "    border: none;\n",
              "    border-radius: 50%;\n",
              "    cursor: pointer;\n",
              "    display: none;\n",
              "    fill: var(--fill-color);\n",
              "    height: 32px;\n",
              "    padding: 0;\n",
              "    width: 32px;\n",
              "  }\n",
              "\n",
              "  .colab-df-quickchart:hover {\n",
              "    background-color: var(--hover-bg-color);\n",
              "    box-shadow: 0 1px 2px rgba(60, 64, 67, 0.3), 0 1px 3px 1px rgba(60, 64, 67, 0.15);\n",
              "    fill: var(--button-hover-fill-color);\n",
              "  }\n",
              "\n",
              "  .colab-df-quickchart-complete:disabled,\n",
              "  .colab-df-quickchart-complete:disabled:hover {\n",
              "    background-color: var(--disabled-bg-color);\n",
              "    fill: var(--disabled-fill-color);\n",
              "    box-shadow: none;\n",
              "  }\n",
              "\n",
              "  .colab-df-spinner {\n",
              "    border: 2px solid var(--fill-color);\n",
              "    border-color: transparent;\n",
              "    border-bottom-color: var(--fill-color);\n",
              "    animation:\n",
              "      spin 1s steps(1) infinite;\n",
              "  }\n",
              "\n",
              "  @keyframes spin {\n",
              "    0% {\n",
              "      border-color: transparent;\n",
              "      border-bottom-color: var(--fill-color);\n",
              "      border-left-color: var(--fill-color);\n",
              "    }\n",
              "    20% {\n",
              "      border-color: transparent;\n",
              "      border-left-color: var(--fill-color);\n",
              "      border-top-color: var(--fill-color);\n",
              "    }\n",
              "    30% {\n",
              "      border-color: transparent;\n",
              "      border-left-color: var(--fill-color);\n",
              "      border-top-color: var(--fill-color);\n",
              "      border-right-color: var(--fill-color);\n",
              "    }\n",
              "    40% {\n",
              "      border-color: transparent;\n",
              "      border-right-color: var(--fill-color);\n",
              "      border-top-color: var(--fill-color);\n",
              "    }\n",
              "    60% {\n",
              "      border-color: transparent;\n",
              "      border-right-color: var(--fill-color);\n",
              "    }\n",
              "    80% {\n",
              "      border-color: transparent;\n",
              "      border-right-color: var(--fill-color);\n",
              "      border-bottom-color: var(--fill-color);\n",
              "    }\n",
              "    90% {\n",
              "      border-color: transparent;\n",
              "      border-bottom-color: var(--fill-color);\n",
              "    }\n",
              "  }\n",
              "</style>\n",
              "\n",
              "      <script>\n",
              "        async function quickchart(key) {\n",
              "          const quickchartButtonEl =\n",
              "            document.querySelector('#' + key + ' button');\n",
              "          quickchartButtonEl.disabled = true;  // To prevent multiple clicks.\n",
              "          quickchartButtonEl.classList.add('colab-df-spinner');\n",
              "          try {\n",
              "            const charts = await google.colab.kernel.invokeFunction(\n",
              "                'suggestCharts', [key], {});\n",
              "          } catch (error) {\n",
              "            console.error('Error during call to suggestCharts:', error);\n",
              "          }\n",
              "          quickchartButtonEl.classList.remove('colab-df-spinner');\n",
              "          quickchartButtonEl.classList.add('colab-df-quickchart-complete');\n",
              "        }\n",
              "        (() => {\n",
              "          let quickchartButtonEl =\n",
              "            document.querySelector('#df-6f353344-084a-420f-bbdb-c7526a8e3f6a button');\n",
              "          quickchartButtonEl.style.display =\n",
              "            google.colab.kernel.accessAllowed ? 'block' : 'none';\n",
              "        })();\n",
              "      </script>\n",
              "    </div>\n",
              "\n",
              "  <div id=\"id_add7f5a9-3b0f-4d83-8f17-1f7b73a779e5\">\n",
              "    <style>\n",
              "      .colab-df-generate {\n",
              "        background-color: #E8F0FE;\n",
              "        border: none;\n",
              "        border-radius: 50%;\n",
              "        cursor: pointer;\n",
              "        display: none;\n",
              "        fill: #1967D2;\n",
              "        height: 32px;\n",
              "        padding: 0 0 0 0;\n",
              "        width: 32px;\n",
              "      }\n",
              "\n",
              "      .colab-df-generate:hover {\n",
              "        background-color: #E2EBFA;\n",
              "        box-shadow: 0px 1px 2px rgba(60, 64, 67, 0.3), 0px 1px 3px 1px rgba(60, 64, 67, 0.15);\n",
              "        fill: #174EA6;\n",
              "      }\n",
              "\n",
              "      [theme=dark] .colab-df-generate {\n",
              "        background-color: #3B4455;\n",
              "        fill: #D2E3FC;\n",
              "      }\n",
              "\n",
              "      [theme=dark] .colab-df-generate:hover {\n",
              "        background-color: #434B5C;\n",
              "        box-shadow: 0px 1px 3px 1px rgba(0, 0, 0, 0.15);\n",
              "        filter: drop-shadow(0px 1px 2px rgba(0, 0, 0, 0.3));\n",
              "        fill: #FFFFFF;\n",
              "      }\n",
              "    </style>\n",
              "    <button class=\"colab-df-generate\" onclick=\"generateWithVariable('us_jobs')\"\n",
              "            title=\"Generate code using this dataframe.\"\n",
              "            style=\"display:none;\">\n",
              "\n",
              "  <svg xmlns=\"http://www.w3.org/2000/svg\" height=\"24px\"viewBox=\"0 0 24 24\"\n",
              "       width=\"24px\">\n",
              "    <path d=\"M7,19H8.4L18.45,9,17,7.55,7,17.6ZM5,21V16.75L18.45,3.32a2,2,0,0,1,2.83,0l1.4,1.43a1.91,1.91,0,0,1,.58,1.4,1.91,1.91,0,0,1-.58,1.4L9.25,21ZM18.45,9,17,7.55Zm-12,3A5.31,5.31,0,0,0,4.9,8.1,5.31,5.31,0,0,0,1,6.5,5.31,5.31,0,0,0,4.9,4.9,5.31,5.31,0,0,0,6.5,1,5.31,5.31,0,0,0,8.1,4.9,5.31,5.31,0,0,0,12,6.5,5.46,5.46,0,0,0,6.5,12Z\"/>\n",
              "  </svg>\n",
              "    </button>\n",
              "    <script>\n",
              "      (() => {\n",
              "      const buttonEl =\n",
              "        document.querySelector('#id_add7f5a9-3b0f-4d83-8f17-1f7b73a779e5 button.colab-df-generate');\n",
              "      buttonEl.style.display =\n",
              "        google.colab.kernel.accessAllowed ? 'block' : 'none';\n",
              "\n",
              "      buttonEl.onclick = () => {\n",
              "        google.colab.notebook.generateWithVariable('us_jobs');\n",
              "      }\n",
              "      })();\n",
              "    </script>\n",
              "  </div>\n",
              "\n",
              "    </div>\n",
              "  </div>\n"
            ],
            "application/vnd.google.colaboratory.intrinsic+json": {
              "type": "dataframe",
              "variable_name": "us_jobs"
            }
          },
          "metadata": {},
          "execution_count": 135
        }
      ]
    },
    {
      "cell_type": "code",
      "source": [
        "us_jobs = us_jobs[us_jobs[\"salary_year_avg\"].notna()]"
      ],
      "metadata": {
        "id": "su5SrBtIwYSC"
      },
      "execution_count": null,
      "outputs": []
    },
    {
      "cell_type": "code",
      "source": [
        "us_jobs"
      ],
      "metadata": {
        "colab": {
          "base_uri": "https://localhost:8080/",
          "height": 999
        },
        "id": "_JMjsaY4xwtc",
        "outputId": "e0dc9f40-2487-4e84-f89e-f9051897aad4"
      },
      "execution_count": null,
      "outputs": [
        {
          "output_type": "execute_result",
          "data": {
            "text/plain": [
              "              job_title_short  \\\n",
              "108883         Data Scientist   \n",
              "365786       Business Analyst   \n",
              "366073           Data Analyst   \n",
              "108099         Data Scientist   \n",
              "78139           Data Engineer   \n",
              "...                       ...   \n",
              "679         Software Engineer   \n",
              "3448     Senior Data Engineer   \n",
              "186163  Senior Data Scientist   \n",
              "421728           Data Analyst   \n",
              "313161         Data Scientist   \n",
              "\n",
              "                                                job_title      job_location  \\\n",
              "108883                                     Data Scientist     Calabasas, CA   \n",
              "365786                     Hospitality Operations Analyst          Anywhere   \n",
              "366073                        Data Analytics Professional       Atlanta, GA   \n",
              "108099                       Lead Data Scientist (Hybrid)    Burnsville, MN   \n",
              "78139                   Data Engineer - Revenue Platforms        Boston, NY   \n",
              "...                                                   ...               ...   \n",
              "679       Tech Lead Software Engineer, TikTok Data Access      San Jose, CA   \n",
              "3448         Senior Python Developer for Data Engineering      New York, NY   \n",
              "186163  Tech Lead / Sr Data Scientist, Product Analyti...   Los Angeles, CA   \n",
              "421728                          Data Analyst - Operations   Los Angeles, CA   \n",
              "313161       Data Scientist - Security Clearance Required  Newport News, VA   \n",
              "\n",
              "                                   job_via job_schedule_type  \\\n",
              "108883                     via Recruit.net         Full-time   \n",
              "365786  via Goodwin Recruiting | Job Board         Full-time   \n",
              "366073                   via CareerBuilder         Full-time   \n",
              "108099                     via Recruit.net         Full-time   \n",
              "78139                      via Recruit.net         Full-time   \n",
              "...                                    ...               ...   \n",
              "679                           via LinkedIn         Full-time   \n",
              "3448                          via LinkedIn         Full-time   \n",
              "186163                        via LinkedIn         Full-time   \n",
              "421728                          via Indeed         Full-time   \n",
              "313161                     via IT JobServe         Full-time   \n",
              "\n",
              "        job_work_from_home            search_location     job_posted_date  \\\n",
              "108883               False  California, United States 2023-01-01 00:02:56   \n",
              "365786                True                    Georgia 2023-01-01 00:17:55   \n",
              "366073               False                    Georgia 2023-01-01 00:17:58   \n",
              "108099               False    Illinois, United States 2023-01-01 00:21:09   \n",
              "78139                False     Florida, United States 2023-01-01 00:27:40   \n",
              "...                    ...                        ...                 ...   \n",
              "679                  False    Illinois, United States 2023-12-31 13:03:14   \n",
              "3448                 False                    Georgia 2023-12-31 13:32:38   \n",
              "186163               False  California, United States 2023-12-31 15:00:46   \n",
              "421728               False  California, United States 2023-12-31 16:00:07   \n",
              "313161               False                    Georgia 2023-12-31 17:31:57   \n",
              "\n",
              "        job_no_degree_mention  job_health_insurance    job_country  \\\n",
              "108883                  False                  True  United States   \n",
              "365786                  False                  True  United States   \n",
              "366073                  False                 False  United States   \n",
              "108099                  False                 False  United States   \n",
              "78139                   False                  True  United States   \n",
              "...                       ...                   ...            ...   \n",
              "679                     False                  True  United States   \n",
              "3448                     True                 False  United States   \n",
              "186163                  False                  True  United States   \n",
              "421728                  False                  True  United States   \n",
              "313161                  False                 False  United States   \n",
              "\n",
              "       salary_rate  salary_year_avg  salary_hour_avg           company_name  \\\n",
              "108883        year         110000.0              NaN              PlanetArt   \n",
              "365786        year          90000.0              NaN     Goodwin Recruiting   \n",
              "366073        year          55000.0              NaN       Cogent Infotech.   \n",
              "108099        year         120531.0              NaN           Apple Valley   \n",
              "78139         year         300000.0              NaN                Datadog   \n",
              "...            ...              ...              ...                    ...   \n",
              "679           year         317000.0              NaN                 TikTok   \n",
              "3448          year         140000.0              NaN                 Luxoft   \n",
              "186163        year         271526.5              NaN                 TikTok   \n",
              "421728        year          72750.0              NaN  Wilshire Law Firm Plc   \n",
              "313161        year         114062.5              NaN                 Leidos   \n",
              "\n",
              "                                               job_skills  \\\n",
              "108883              ['python', 'sql', 'tableau', 'excel']   \n",
              "365786          ['sql', 'excel', 'powerpoint', 'outlook']   \n",
              "366073  ['sql', 'python', 'numpy', 'pandas', 'seaborn'...   \n",
              "108099            ['java', 'sql', 'sql server', 'spring']   \n",
              "78139                        ['scala', 'python', 'spark']   \n",
              "...                                                   ...   \n",
              "679     ['java', 'go', 'c++', 'python', 'mongodb', 'mo...   \n",
              "3448                                    ['python', 'sql']   \n",
              "186163                  ['sql', 'python', 'r', 'express']   \n",
              "421728                       ['sql', 'power bi', 'unity']   \n",
              "313161          ['python', 'r', 'sql', 'pandas', 'numpy']   \n",
              "\n",
              "                                          job_type_skills  job_posted_month  \n",
              "108883  {'analyst_tools': ['tableau', 'excel'], 'progr...                 1  \n",
              "365786  {'analyst_tools': ['excel', 'powerpoint', 'out...                 1  \n",
              "366073  {'analyst_tools': ['excel', 'alteryx', 'tablea...                 1  \n",
              "108099  {'databases': ['sql server'], 'libraries': ['s...                 1  \n",
              "78139   {'libraries': ['spark'], 'programming': ['scal...                 1  \n",
              "...                                                   ...               ...  \n",
              "679     {'databases': ['mongodb', 'mysql', 'redis'], '...                12  \n",
              "3448                   {'programming': ['python', 'sql']}                12  \n",
              "186163  {'programming': ['sql', 'python', 'r'], 'webfr...                12  \n",
              "421728  {'analyst_tools': ['power bi'], 'other': ['uni...                12  \n",
              "313161  {'libraries': ['pandas', 'numpy'], 'programmin...                12  \n",
              "\n",
              "[15766 rows x 18 columns]"
            ],
            "text/html": [
              "\n",
              "  <div id=\"df-5e4d3f36-dd28-443b-8269-87a7eabe3046\" class=\"colab-df-container\">\n",
              "    <div>\n",
              "<style scoped>\n",
              "    .dataframe tbody tr th:only-of-type {\n",
              "        vertical-align: middle;\n",
              "    }\n",
              "\n",
              "    .dataframe tbody tr th {\n",
              "        vertical-align: top;\n",
              "    }\n",
              "\n",
              "    .dataframe thead th {\n",
              "        text-align: right;\n",
              "    }\n",
              "</style>\n",
              "<table border=\"1\" class=\"dataframe\">\n",
              "  <thead>\n",
              "    <tr style=\"text-align: right;\">\n",
              "      <th></th>\n",
              "      <th>job_title_short</th>\n",
              "      <th>job_title</th>\n",
              "      <th>job_location</th>\n",
              "      <th>job_via</th>\n",
              "      <th>job_schedule_type</th>\n",
              "      <th>job_work_from_home</th>\n",
              "      <th>search_location</th>\n",
              "      <th>job_posted_date</th>\n",
              "      <th>job_no_degree_mention</th>\n",
              "      <th>job_health_insurance</th>\n",
              "      <th>job_country</th>\n",
              "      <th>salary_rate</th>\n",
              "      <th>salary_year_avg</th>\n",
              "      <th>salary_hour_avg</th>\n",
              "      <th>company_name</th>\n",
              "      <th>job_skills</th>\n",
              "      <th>job_type_skills</th>\n",
              "      <th>job_posted_month</th>\n",
              "    </tr>\n",
              "  </thead>\n",
              "  <tbody>\n",
              "    <tr>\n",
              "      <th>108883</th>\n",
              "      <td>Data Scientist</td>\n",
              "      <td>Data Scientist</td>\n",
              "      <td>Calabasas, CA</td>\n",
              "      <td>via Recruit.net</td>\n",
              "      <td>Full-time</td>\n",
              "      <td>False</td>\n",
              "      <td>California, United States</td>\n",
              "      <td>2023-01-01 00:02:56</td>\n",
              "      <td>False</td>\n",
              "      <td>True</td>\n",
              "      <td>United States</td>\n",
              "      <td>year</td>\n",
              "      <td>110000.0</td>\n",
              "      <td>NaN</td>\n",
              "      <td>PlanetArt</td>\n",
              "      <td>['python', 'sql', 'tableau', 'excel']</td>\n",
              "      <td>{'analyst_tools': ['tableau', 'excel'], 'progr...</td>\n",
              "      <td>1</td>\n",
              "    </tr>\n",
              "    <tr>\n",
              "      <th>365786</th>\n",
              "      <td>Business Analyst</td>\n",
              "      <td>Hospitality Operations Analyst</td>\n",
              "      <td>Anywhere</td>\n",
              "      <td>via Goodwin Recruiting | Job Board</td>\n",
              "      <td>Full-time</td>\n",
              "      <td>True</td>\n",
              "      <td>Georgia</td>\n",
              "      <td>2023-01-01 00:17:55</td>\n",
              "      <td>False</td>\n",
              "      <td>True</td>\n",
              "      <td>United States</td>\n",
              "      <td>year</td>\n",
              "      <td>90000.0</td>\n",
              "      <td>NaN</td>\n",
              "      <td>Goodwin Recruiting</td>\n",
              "      <td>['sql', 'excel', 'powerpoint', 'outlook']</td>\n",
              "      <td>{'analyst_tools': ['excel', 'powerpoint', 'out...</td>\n",
              "      <td>1</td>\n",
              "    </tr>\n",
              "    <tr>\n",
              "      <th>366073</th>\n",
              "      <td>Data Analyst</td>\n",
              "      <td>Data Analytics Professional</td>\n",
              "      <td>Atlanta, GA</td>\n",
              "      <td>via CareerBuilder</td>\n",
              "      <td>Full-time</td>\n",
              "      <td>False</td>\n",
              "      <td>Georgia</td>\n",
              "      <td>2023-01-01 00:17:58</td>\n",
              "      <td>False</td>\n",
              "      <td>False</td>\n",
              "      <td>United States</td>\n",
              "      <td>year</td>\n",
              "      <td>55000.0</td>\n",
              "      <td>NaN</td>\n",
              "      <td>Cogent Infotech.</td>\n",
              "      <td>['sql', 'python', 'numpy', 'pandas', 'seaborn'...</td>\n",
              "      <td>{'analyst_tools': ['excel', 'alteryx', 'tablea...</td>\n",
              "      <td>1</td>\n",
              "    </tr>\n",
              "    <tr>\n",
              "      <th>108099</th>\n",
              "      <td>Data Scientist</td>\n",
              "      <td>Lead Data Scientist (Hybrid)</td>\n",
              "      <td>Burnsville, MN</td>\n",
              "      <td>via Recruit.net</td>\n",
              "      <td>Full-time</td>\n",
              "      <td>False</td>\n",
              "      <td>Illinois, United States</td>\n",
              "      <td>2023-01-01 00:21:09</td>\n",
              "      <td>False</td>\n",
              "      <td>False</td>\n",
              "      <td>United States</td>\n",
              "      <td>year</td>\n",
              "      <td>120531.0</td>\n",
              "      <td>NaN</td>\n",
              "      <td>Apple Valley</td>\n",
              "      <td>['java', 'sql', 'sql server', 'spring']</td>\n",
              "      <td>{'databases': ['sql server'], 'libraries': ['s...</td>\n",
              "      <td>1</td>\n",
              "    </tr>\n",
              "    <tr>\n",
              "      <th>78139</th>\n",
              "      <td>Data Engineer</td>\n",
              "      <td>Data Engineer - Revenue Platforms</td>\n",
              "      <td>Boston, NY</td>\n",
              "      <td>via Recruit.net</td>\n",
              "      <td>Full-time</td>\n",
              "      <td>False</td>\n",
              "      <td>Florida, United States</td>\n",
              "      <td>2023-01-01 00:27:40</td>\n",
              "      <td>False</td>\n",
              "      <td>True</td>\n",
              "      <td>United States</td>\n",
              "      <td>year</td>\n",
              "      <td>300000.0</td>\n",
              "      <td>NaN</td>\n",
              "      <td>Datadog</td>\n",
              "      <td>['scala', 'python', 'spark']</td>\n",
              "      <td>{'libraries': ['spark'], 'programming': ['scal...</td>\n",
              "      <td>1</td>\n",
              "    </tr>\n",
              "    <tr>\n",
              "      <th>...</th>\n",
              "      <td>...</td>\n",
              "      <td>...</td>\n",
              "      <td>...</td>\n",
              "      <td>...</td>\n",
              "      <td>...</td>\n",
              "      <td>...</td>\n",
              "      <td>...</td>\n",
              "      <td>...</td>\n",
              "      <td>...</td>\n",
              "      <td>...</td>\n",
              "      <td>...</td>\n",
              "      <td>...</td>\n",
              "      <td>...</td>\n",
              "      <td>...</td>\n",
              "      <td>...</td>\n",
              "      <td>...</td>\n",
              "      <td>...</td>\n",
              "      <td>...</td>\n",
              "    </tr>\n",
              "    <tr>\n",
              "      <th>679</th>\n",
              "      <td>Software Engineer</td>\n",
              "      <td>Tech Lead Software Engineer, TikTok Data Access</td>\n",
              "      <td>San Jose, CA</td>\n",
              "      <td>via LinkedIn</td>\n",
              "      <td>Full-time</td>\n",
              "      <td>False</td>\n",
              "      <td>Illinois, United States</td>\n",
              "      <td>2023-12-31 13:03:14</td>\n",
              "      <td>False</td>\n",
              "      <td>True</td>\n",
              "      <td>United States</td>\n",
              "      <td>year</td>\n",
              "      <td>317000.0</td>\n",
              "      <td>NaN</td>\n",
              "      <td>TikTok</td>\n",
              "      <td>['java', 'go', 'c++', 'python', 'mongodb', 'mo...</td>\n",
              "      <td>{'databases': ['mongodb', 'mysql', 'redis'], '...</td>\n",
              "      <td>12</td>\n",
              "    </tr>\n",
              "    <tr>\n",
              "      <th>3448</th>\n",
              "      <td>Senior Data Engineer</td>\n",
              "      <td>Senior Python Developer for Data Engineering</td>\n",
              "      <td>New York, NY</td>\n",
              "      <td>via LinkedIn</td>\n",
              "      <td>Full-time</td>\n",
              "      <td>False</td>\n",
              "      <td>Georgia</td>\n",
              "      <td>2023-12-31 13:32:38</td>\n",
              "      <td>True</td>\n",
              "      <td>False</td>\n",
              "      <td>United States</td>\n",
              "      <td>year</td>\n",
              "      <td>140000.0</td>\n",
              "      <td>NaN</td>\n",
              "      <td>Luxoft</td>\n",
              "      <td>['python', 'sql']</td>\n",
              "      <td>{'programming': ['python', 'sql']}</td>\n",
              "      <td>12</td>\n",
              "    </tr>\n",
              "    <tr>\n",
              "      <th>186163</th>\n",
              "      <td>Senior Data Scientist</td>\n",
              "      <td>Tech Lead / Sr Data Scientist, Product Analyti...</td>\n",
              "      <td>Los Angeles, CA</td>\n",
              "      <td>via LinkedIn</td>\n",
              "      <td>Full-time</td>\n",
              "      <td>False</td>\n",
              "      <td>California, United States</td>\n",
              "      <td>2023-12-31 15:00:46</td>\n",
              "      <td>False</td>\n",
              "      <td>True</td>\n",
              "      <td>United States</td>\n",
              "      <td>year</td>\n",
              "      <td>271526.5</td>\n",
              "      <td>NaN</td>\n",
              "      <td>TikTok</td>\n",
              "      <td>['sql', 'python', 'r', 'express']</td>\n",
              "      <td>{'programming': ['sql', 'python', 'r'], 'webfr...</td>\n",
              "      <td>12</td>\n",
              "    </tr>\n",
              "    <tr>\n",
              "      <th>421728</th>\n",
              "      <td>Data Analyst</td>\n",
              "      <td>Data Analyst - Operations</td>\n",
              "      <td>Los Angeles, CA</td>\n",
              "      <td>via Indeed</td>\n",
              "      <td>Full-time</td>\n",
              "      <td>False</td>\n",
              "      <td>California, United States</td>\n",
              "      <td>2023-12-31 16:00:07</td>\n",
              "      <td>False</td>\n",
              "      <td>True</td>\n",
              "      <td>United States</td>\n",
              "      <td>year</td>\n",
              "      <td>72750.0</td>\n",
              "      <td>NaN</td>\n",
              "      <td>Wilshire Law Firm Plc</td>\n",
              "      <td>['sql', 'power bi', 'unity']</td>\n",
              "      <td>{'analyst_tools': ['power bi'], 'other': ['uni...</td>\n",
              "      <td>12</td>\n",
              "    </tr>\n",
              "    <tr>\n",
              "      <th>313161</th>\n",
              "      <td>Data Scientist</td>\n",
              "      <td>Data Scientist - Security Clearance Required</td>\n",
              "      <td>Newport News, VA</td>\n",
              "      <td>via IT JobServe</td>\n",
              "      <td>Full-time</td>\n",
              "      <td>False</td>\n",
              "      <td>Georgia</td>\n",
              "      <td>2023-12-31 17:31:57</td>\n",
              "      <td>False</td>\n",
              "      <td>False</td>\n",
              "      <td>United States</td>\n",
              "      <td>year</td>\n",
              "      <td>114062.5</td>\n",
              "      <td>NaN</td>\n",
              "      <td>Leidos</td>\n",
              "      <td>['python', 'r', 'sql', 'pandas', 'numpy']</td>\n",
              "      <td>{'libraries': ['pandas', 'numpy'], 'programmin...</td>\n",
              "      <td>12</td>\n",
              "    </tr>\n",
              "  </tbody>\n",
              "</table>\n",
              "<p>15766 rows × 18 columns</p>\n",
              "</div>\n",
              "    <div class=\"colab-df-buttons\">\n",
              "\n",
              "  <div class=\"colab-df-container\">\n",
              "    <button class=\"colab-df-convert\" onclick=\"convertToInteractive('df-5e4d3f36-dd28-443b-8269-87a7eabe3046')\"\n",
              "            title=\"Convert this dataframe to an interactive table.\"\n",
              "            style=\"display:none;\">\n",
              "\n",
              "  <svg xmlns=\"http://www.w3.org/2000/svg\" height=\"24px\" viewBox=\"0 -960 960 960\">\n",
              "    <path d=\"M120-120v-720h720v720H120Zm60-500h600v-160H180v160Zm220 220h160v-160H400v160Zm0 220h160v-160H400v160ZM180-400h160v-160H180v160Zm440 0h160v-160H620v160ZM180-180h160v-160H180v160Zm440 0h160v-160H620v160Z\"/>\n",
              "  </svg>\n",
              "    </button>\n",
              "\n",
              "  <style>\n",
              "    .colab-df-container {\n",
              "      display:flex;\n",
              "      gap: 12px;\n",
              "    }\n",
              "\n",
              "    .colab-df-convert {\n",
              "      background-color: #E8F0FE;\n",
              "      border: none;\n",
              "      border-radius: 50%;\n",
              "      cursor: pointer;\n",
              "      display: none;\n",
              "      fill: #1967D2;\n",
              "      height: 32px;\n",
              "      padding: 0 0 0 0;\n",
              "      width: 32px;\n",
              "    }\n",
              "\n",
              "    .colab-df-convert:hover {\n",
              "      background-color: #E2EBFA;\n",
              "      box-shadow: 0px 1px 2px rgba(60, 64, 67, 0.3), 0px 1px 3px 1px rgba(60, 64, 67, 0.15);\n",
              "      fill: #174EA6;\n",
              "    }\n",
              "\n",
              "    .colab-df-buttons div {\n",
              "      margin-bottom: 4px;\n",
              "    }\n",
              "\n",
              "    [theme=dark] .colab-df-convert {\n",
              "      background-color: #3B4455;\n",
              "      fill: #D2E3FC;\n",
              "    }\n",
              "\n",
              "    [theme=dark] .colab-df-convert:hover {\n",
              "      background-color: #434B5C;\n",
              "      box-shadow: 0px 1px 3px 1px rgba(0, 0, 0, 0.15);\n",
              "      filter: drop-shadow(0px 1px 2px rgba(0, 0, 0, 0.3));\n",
              "      fill: #FFFFFF;\n",
              "    }\n",
              "  </style>\n",
              "\n",
              "    <script>\n",
              "      const buttonEl =\n",
              "        document.querySelector('#df-5e4d3f36-dd28-443b-8269-87a7eabe3046 button.colab-df-convert');\n",
              "      buttonEl.style.display =\n",
              "        google.colab.kernel.accessAllowed ? 'block' : 'none';\n",
              "\n",
              "      async function convertToInteractive(key) {\n",
              "        const element = document.querySelector('#df-5e4d3f36-dd28-443b-8269-87a7eabe3046');\n",
              "        const dataTable =\n",
              "          await google.colab.kernel.invokeFunction('convertToInteractive',\n",
              "                                                    [key], {});\n",
              "        if (!dataTable) return;\n",
              "\n",
              "        const docLinkHtml = 'Like what you see? Visit the ' +\n",
              "          '<a target=\"_blank\" href=https://colab.research.google.com/notebooks/data_table.ipynb>data table notebook</a>'\n",
              "          + ' to learn more about interactive tables.';\n",
              "        element.innerHTML = '';\n",
              "        dataTable['output_type'] = 'display_data';\n",
              "        await google.colab.output.renderOutput(dataTable, element);\n",
              "        const docLink = document.createElement('div');\n",
              "        docLink.innerHTML = docLinkHtml;\n",
              "        element.appendChild(docLink);\n",
              "      }\n",
              "    </script>\n",
              "  </div>\n",
              "\n",
              "\n",
              "    <div id=\"df-3eb37f8e-96f5-4187-841e-44ecf805e0a6\">\n",
              "      <button class=\"colab-df-quickchart\" onclick=\"quickchart('df-3eb37f8e-96f5-4187-841e-44ecf805e0a6')\"\n",
              "                title=\"Suggest charts\"\n",
              "                style=\"display:none;\">\n",
              "\n",
              "<svg xmlns=\"http://www.w3.org/2000/svg\" height=\"24px\"viewBox=\"0 0 24 24\"\n",
              "     width=\"24px\">\n",
              "    <g>\n",
              "        <path d=\"M19 3H5c-1.1 0-2 .9-2 2v14c0 1.1.9 2 2 2h14c1.1 0 2-.9 2-2V5c0-1.1-.9-2-2-2zM9 17H7v-7h2v7zm4 0h-2V7h2v10zm4 0h-2v-4h2v4z\"/>\n",
              "    </g>\n",
              "</svg>\n",
              "      </button>\n",
              "\n",
              "<style>\n",
              "  .colab-df-quickchart {\n",
              "      --bg-color: #E8F0FE;\n",
              "      --fill-color: #1967D2;\n",
              "      --hover-bg-color: #E2EBFA;\n",
              "      --hover-fill-color: #174EA6;\n",
              "      --disabled-fill-color: #AAA;\n",
              "      --disabled-bg-color: #DDD;\n",
              "  }\n",
              "\n",
              "  [theme=dark] .colab-df-quickchart {\n",
              "      --bg-color: #3B4455;\n",
              "      --fill-color: #D2E3FC;\n",
              "      --hover-bg-color: #434B5C;\n",
              "      --hover-fill-color: #FFFFFF;\n",
              "      --disabled-bg-color: #3B4455;\n",
              "      --disabled-fill-color: #666;\n",
              "  }\n",
              "\n",
              "  .colab-df-quickchart {\n",
              "    background-color: var(--bg-color);\n",
              "    border: none;\n",
              "    border-radius: 50%;\n",
              "    cursor: pointer;\n",
              "    display: none;\n",
              "    fill: var(--fill-color);\n",
              "    height: 32px;\n",
              "    padding: 0;\n",
              "    width: 32px;\n",
              "  }\n",
              "\n",
              "  .colab-df-quickchart:hover {\n",
              "    background-color: var(--hover-bg-color);\n",
              "    box-shadow: 0 1px 2px rgba(60, 64, 67, 0.3), 0 1px 3px 1px rgba(60, 64, 67, 0.15);\n",
              "    fill: var(--button-hover-fill-color);\n",
              "  }\n",
              "\n",
              "  .colab-df-quickchart-complete:disabled,\n",
              "  .colab-df-quickchart-complete:disabled:hover {\n",
              "    background-color: var(--disabled-bg-color);\n",
              "    fill: var(--disabled-fill-color);\n",
              "    box-shadow: none;\n",
              "  }\n",
              "\n",
              "  .colab-df-spinner {\n",
              "    border: 2px solid var(--fill-color);\n",
              "    border-color: transparent;\n",
              "    border-bottom-color: var(--fill-color);\n",
              "    animation:\n",
              "      spin 1s steps(1) infinite;\n",
              "  }\n",
              "\n",
              "  @keyframes spin {\n",
              "    0% {\n",
              "      border-color: transparent;\n",
              "      border-bottom-color: var(--fill-color);\n",
              "      border-left-color: var(--fill-color);\n",
              "    }\n",
              "    20% {\n",
              "      border-color: transparent;\n",
              "      border-left-color: var(--fill-color);\n",
              "      border-top-color: var(--fill-color);\n",
              "    }\n",
              "    30% {\n",
              "      border-color: transparent;\n",
              "      border-left-color: var(--fill-color);\n",
              "      border-top-color: var(--fill-color);\n",
              "      border-right-color: var(--fill-color);\n",
              "    }\n",
              "    40% {\n",
              "      border-color: transparent;\n",
              "      border-right-color: var(--fill-color);\n",
              "      border-top-color: var(--fill-color);\n",
              "    }\n",
              "    60% {\n",
              "      border-color: transparent;\n",
              "      border-right-color: var(--fill-color);\n",
              "    }\n",
              "    80% {\n",
              "      border-color: transparent;\n",
              "      border-right-color: var(--fill-color);\n",
              "      border-bottom-color: var(--fill-color);\n",
              "    }\n",
              "    90% {\n",
              "      border-color: transparent;\n",
              "      border-bottom-color: var(--fill-color);\n",
              "    }\n",
              "  }\n",
              "</style>\n",
              "\n",
              "      <script>\n",
              "        async function quickchart(key) {\n",
              "          const quickchartButtonEl =\n",
              "            document.querySelector('#' + key + ' button');\n",
              "          quickchartButtonEl.disabled = true;  // To prevent multiple clicks.\n",
              "          quickchartButtonEl.classList.add('colab-df-spinner');\n",
              "          try {\n",
              "            const charts = await google.colab.kernel.invokeFunction(\n",
              "                'suggestCharts', [key], {});\n",
              "          } catch (error) {\n",
              "            console.error('Error during call to suggestCharts:', error);\n",
              "          }\n",
              "          quickchartButtonEl.classList.remove('colab-df-spinner');\n",
              "          quickchartButtonEl.classList.add('colab-df-quickchart-complete');\n",
              "        }\n",
              "        (() => {\n",
              "          let quickchartButtonEl =\n",
              "            document.querySelector('#df-3eb37f8e-96f5-4187-841e-44ecf805e0a6 button');\n",
              "          quickchartButtonEl.style.display =\n",
              "            google.colab.kernel.accessAllowed ? 'block' : 'none';\n",
              "        })();\n",
              "      </script>\n",
              "    </div>\n",
              "\n",
              "  <div id=\"id_4bd6822a-bf53-4600-9428-d4d08d911b43\">\n",
              "    <style>\n",
              "      .colab-df-generate {\n",
              "        background-color: #E8F0FE;\n",
              "        border: none;\n",
              "        border-radius: 50%;\n",
              "        cursor: pointer;\n",
              "        display: none;\n",
              "        fill: #1967D2;\n",
              "        height: 32px;\n",
              "        padding: 0 0 0 0;\n",
              "        width: 32px;\n",
              "      }\n",
              "\n",
              "      .colab-df-generate:hover {\n",
              "        background-color: #E2EBFA;\n",
              "        box-shadow: 0px 1px 2px rgba(60, 64, 67, 0.3), 0px 1px 3px 1px rgba(60, 64, 67, 0.15);\n",
              "        fill: #174EA6;\n",
              "      }\n",
              "\n",
              "      [theme=dark] .colab-df-generate {\n",
              "        background-color: #3B4455;\n",
              "        fill: #D2E3FC;\n",
              "      }\n",
              "\n",
              "      [theme=dark] .colab-df-generate:hover {\n",
              "        background-color: #434B5C;\n",
              "        box-shadow: 0px 1px 3px 1px rgba(0, 0, 0, 0.15);\n",
              "        filter: drop-shadow(0px 1px 2px rgba(0, 0, 0, 0.3));\n",
              "        fill: #FFFFFF;\n",
              "      }\n",
              "    </style>\n",
              "    <button class=\"colab-df-generate\" onclick=\"generateWithVariable('us_jobs')\"\n",
              "            title=\"Generate code using this dataframe.\"\n",
              "            style=\"display:none;\">\n",
              "\n",
              "  <svg xmlns=\"http://www.w3.org/2000/svg\" height=\"24px\"viewBox=\"0 0 24 24\"\n",
              "       width=\"24px\">\n",
              "    <path d=\"M7,19H8.4L18.45,9,17,7.55,7,17.6ZM5,21V16.75L18.45,3.32a2,2,0,0,1,2.83,0l1.4,1.43a1.91,1.91,0,0,1,.58,1.4,1.91,1.91,0,0,1-.58,1.4L9.25,21ZM18.45,9,17,7.55Zm-12,3A5.31,5.31,0,0,0,4.9,8.1,5.31,5.31,0,0,0,1,6.5,5.31,5.31,0,0,0,4.9,4.9,5.31,5.31,0,0,0,6.5,1,5.31,5.31,0,0,0,8.1,4.9,5.31,5.31,0,0,0,12,6.5,5.46,5.46,0,0,0,6.5,12Z\"/>\n",
              "  </svg>\n",
              "    </button>\n",
              "    <script>\n",
              "      (() => {\n",
              "      const buttonEl =\n",
              "        document.querySelector('#id_4bd6822a-bf53-4600-9428-d4d08d911b43 button.colab-df-generate');\n",
              "      buttonEl.style.display =\n",
              "        google.colab.kernel.accessAllowed ? 'block' : 'none';\n",
              "\n",
              "      buttonEl.onclick = () => {\n",
              "        google.colab.notebook.generateWithVariable('us_jobs');\n",
              "      }\n",
              "      })();\n",
              "    </script>\n",
              "  </div>\n",
              "\n",
              "    </div>\n",
              "  </div>\n"
            ],
            "application/vnd.google.colaboratory.intrinsic+json": {
              "type": "dataframe",
              "variable_name": "us_jobs",
              "summary": "{\n  \"name\": \"us_jobs\",\n  \"rows\": 15766,\n  \"fields\": [\n    {\n      \"column\": \"job_title_short\",\n      \"properties\": {\n        \"dtype\": \"category\",\n        \"num_unique_values\": 10,\n        \"samples\": [\n          \"Machine Learning Engineer\",\n          \"Business Analyst\",\n          \"Senior Data Analyst\"\n        ],\n        \"semantic_type\": \"\",\n        \"description\": \"\"\n      }\n    },\n    {\n      \"column\": \"job_title\",\n      \"properties\": {\n        \"dtype\": \"category\",\n        \"num_unique_values\": 7065,\n        \"samples\": [\n          \"Mid-Level Data Engineer\",\n          \"Data Analyst, M & E (Systems Analyst), Correctional Health Services\",\n          \"Data Scientist - Post Market Quality\"\n        ],\n        \"semantic_type\": \"\",\n        \"description\": \"\"\n      }\n    },\n    {\n      \"column\": \"job_location\",\n      \"properties\": {\n        \"dtype\": \"category\",\n        \"num_unique_values\": 1471,\n        \"samples\": [\n          \"Pittsburg, CA\",\n          \"Pella, IA\",\n          \"Garfield, NJ\"\n        ],\n        \"semantic_type\": \"\",\n        \"description\": \"\"\n      }\n    },\n    {\n      \"column\": \"job_via\",\n      \"properties\": {\n        \"dtype\": \"category\",\n        \"num_unique_values\": 285,\n        \"samples\": [\n          \"via ComputerWork\",\n          \"via Levels.fyi\",\n          \"via Ozzle\"\n        ],\n        \"semantic_type\": \"\",\n        \"description\": \"\"\n      }\n    },\n    {\n      \"column\": \"job_schedule_type\",\n      \"properties\": {\n        \"dtype\": \"category\",\n        \"num_unique_values\": 17,\n        \"samples\": [\n          \"Full-time\",\n          \"Contractor\",\n          \"Full-time and Part-time\"\n        ],\n        \"semantic_type\": \"\",\n        \"description\": \"\"\n      }\n    },\n    {\n      \"column\": \"job_work_from_home\",\n      \"properties\": {\n        \"dtype\": \"boolean\",\n        \"num_unique_values\": 2,\n        \"samples\": [\n          true,\n          false\n        ],\n        \"semantic_type\": \"\",\n        \"description\": \"\"\n      }\n    },\n    {\n      \"column\": \"search_location\",\n      \"properties\": {\n        \"dtype\": \"category\",\n        \"num_unique_values\": 6,\n        \"samples\": [\n          \"California, United States\",\n          \"Georgia\"\n        ],\n        \"semantic_type\": \"\",\n        \"description\": \"\"\n      }\n    },\n    {\n      \"column\": \"job_posted_date\",\n      \"properties\": {\n        \"dtype\": \"date\",\n        \"min\": \"2023-01-01 00:02:56\",\n        \"max\": \"2023-12-31 17:31:57\",\n        \"num_unique_values\": 15466,\n        \"samples\": [\n          \"2023-11-29 02:01:05\",\n          \"2023-03-07 07:03:43\"\n        ],\n        \"semantic_type\": \"\",\n        \"description\": \"\"\n      }\n    },\n    {\n      \"column\": \"job_no_degree_mention\",\n      \"properties\": {\n        \"dtype\": \"boolean\",\n        \"num_unique_values\": 2,\n        \"samples\": [\n          true,\n          false\n        ],\n        \"semantic_type\": \"\",\n        \"description\": \"\"\n      }\n    },\n    {\n      \"column\": \"job_health_insurance\",\n      \"properties\": {\n        \"dtype\": \"boolean\",\n        \"num_unique_values\": 2,\n        \"samples\": [\n          false,\n          true\n        ],\n        \"semantic_type\": \"\",\n        \"description\": \"\"\n      }\n    },\n    {\n      \"column\": \"job_country\",\n      \"properties\": {\n        \"dtype\": \"category\",\n        \"num_unique_values\": 1,\n        \"samples\": [\n          \"United States\"\n        ],\n        \"semantic_type\": \"\",\n        \"description\": \"\"\n      }\n    },\n    {\n      \"column\": \"salary_rate\",\n      \"properties\": {\n        \"dtype\": \"category\",\n        \"num_unique_values\": 1,\n        \"samples\": [\n          \"year\"\n        ],\n        \"semantic_type\": \"\",\n        \"description\": \"\"\n      }\n    },\n    {\n      \"column\": \"salary_year_avg\",\n      \"properties\": {\n        \"dtype\": \"number\",\n        \"std\": 48881.042901055385,\n        \"min\": 23496.0,\n        \"max\": 960000.0,\n        \"num_unique_values\": 2417,\n        \"samples\": [\n          98283.0\n        ],\n        \"semantic_type\": \"\",\n        \"description\": \"\"\n      }\n    },\n    {\n      \"column\": \"salary_hour_avg\",\n      \"properties\": {\n        \"dtype\": \"number\",\n        \"std\": null,\n        \"min\": null,\n        \"max\": null,\n        \"num_unique_values\": 0,\n        \"samples\": [],\n        \"semantic_type\": \"\",\n        \"description\": \"\"\n      }\n    },\n    {\n      \"column\": \"company_name\",\n      \"properties\": {\n        \"dtype\": \"category\",\n        \"num_unique_values\": 5760,\n        \"samples\": [],\n        \"semantic_type\": \"\",\n        \"description\": \"\"\n      }\n    },\n    {\n      \"column\": \"job_skills\",\n      \"properties\": {\n        \"dtype\": \"string\",\n        \"num_unique_values\": 8179,\n        \"samples\": [],\n        \"semantic_type\": \"\",\n        \"description\": \"\"\n      }\n    },\n    {\n      \"column\": \"job_type_skills\",\n      \"properties\": {\n        \"dtype\": \"string\",\n        \"num_unique_values\": 8179,\n        \"samples\": [],\n        \"semantic_type\": \"\",\n        \"description\": \"\"\n      }\n    },\n    {\n      \"column\": \"job_posted_month\",\n      \"properties\": {\n        \"dtype\": \"int32\",\n        \"num_unique_values\": 12,\n        \"samples\": [],\n        \"semantic_type\": \"\",\n        \"description\": \"\"\n      }\n    }\n  ]\n}"
            }
          },
          "metadata": {},
          "execution_count": 137
        }
      ]
    },
    {
      "cell_type": "code",
      "source": [
        "us_jobs.groupby(\"job_title_short\")[\"salary_year_avg\"].agg([\"min\",\"max\",\"median\"]).sort_values(by= \"median\", ascending = False)"
      ],
      "metadata": {
        "colab": {
          "base_uri": "https://localhost:8080/",
          "height": 394
        },
        "id": "xNUBCHErx0LU",
        "outputId": "45d1e241-7d0d-4bf9-efbb-4eb1754f5af5"
      },
      "execution_count": null,
      "outputs": [
        {
          "output_type": "execute_result",
          "data": {
            "text/plain": [
              "                               min       max    median\n",
              "job_title_short                                       \n",
              "Senior Data Scientist      55000.0  475000.0  155000.0\n",
              "Machine Learning Engineer  44408.5  315000.0  150000.0\n",
              "Senior Data Engineer       45000.0  375000.0  150000.0\n",
              "Data Scientist             30000.0  960000.0  130000.0\n",
              "Software Engineer          48982.0  375000.0  130000.0\n",
              "Data Engineer              23496.0  525000.0  125000.0\n",
              "Cloud Engineer             42000.0  221844.0  116100.0\n",
              "Senior Data Analyst        35360.0  425000.0  110000.0\n",
              "Business Analyst           35000.0  387460.0   90000.0\n",
              "Data Analyst               25000.0  375000.0   90000.0"
            ],
            "text/html": [
              "\n",
              "  <div id=\"df-81b717ca-15ed-47b5-abc0-9c3b6d1f67cb\" class=\"colab-df-container\">\n",
              "    <div>\n",
              "<style scoped>\n",
              "    .dataframe tbody tr th:only-of-type {\n",
              "        vertical-align: middle;\n",
              "    }\n",
              "\n",
              "    .dataframe tbody tr th {\n",
              "        vertical-align: top;\n",
              "    }\n",
              "\n",
              "    .dataframe thead th {\n",
              "        text-align: right;\n",
              "    }\n",
              "</style>\n",
              "<table border=\"1\" class=\"dataframe\">\n",
              "  <thead>\n",
              "    <tr style=\"text-align: right;\">\n",
              "      <th></th>\n",
              "      <th>min</th>\n",
              "      <th>max</th>\n",
              "      <th>median</th>\n",
              "    </tr>\n",
              "    <tr>\n",
              "      <th>job_title_short</th>\n",
              "      <th></th>\n",
              "      <th></th>\n",
              "      <th></th>\n",
              "    </tr>\n",
              "  </thead>\n",
              "  <tbody>\n",
              "    <tr>\n",
              "      <th>Senior Data Scientist</th>\n",
              "      <td>55000.0</td>\n",
              "      <td>475000.0</td>\n",
              "      <td>155000.0</td>\n",
              "    </tr>\n",
              "    <tr>\n",
              "      <th>Machine Learning Engineer</th>\n",
              "      <td>44408.5</td>\n",
              "      <td>315000.0</td>\n",
              "      <td>150000.0</td>\n",
              "    </tr>\n",
              "    <tr>\n",
              "      <th>Senior Data Engineer</th>\n",
              "      <td>45000.0</td>\n",
              "      <td>375000.0</td>\n",
              "      <td>150000.0</td>\n",
              "    </tr>\n",
              "    <tr>\n",
              "      <th>Data Scientist</th>\n",
              "      <td>30000.0</td>\n",
              "      <td>960000.0</td>\n",
              "      <td>130000.0</td>\n",
              "    </tr>\n",
              "    <tr>\n",
              "      <th>Software Engineer</th>\n",
              "      <td>48982.0</td>\n",
              "      <td>375000.0</td>\n",
              "      <td>130000.0</td>\n",
              "    </tr>\n",
              "    <tr>\n",
              "      <th>Data Engineer</th>\n",
              "      <td>23496.0</td>\n",
              "      <td>525000.0</td>\n",
              "      <td>125000.0</td>\n",
              "    </tr>\n",
              "    <tr>\n",
              "      <th>Cloud Engineer</th>\n",
              "      <td>42000.0</td>\n",
              "      <td>221844.0</td>\n",
              "      <td>116100.0</td>\n",
              "    </tr>\n",
              "    <tr>\n",
              "      <th>Senior Data Analyst</th>\n",
              "      <td>35360.0</td>\n",
              "      <td>425000.0</td>\n",
              "      <td>110000.0</td>\n",
              "    </tr>\n",
              "    <tr>\n",
              "      <th>Business Analyst</th>\n",
              "      <td>35000.0</td>\n",
              "      <td>387460.0</td>\n",
              "      <td>90000.0</td>\n",
              "    </tr>\n",
              "    <tr>\n",
              "      <th>Data Analyst</th>\n",
              "      <td>25000.0</td>\n",
              "      <td>375000.0</td>\n",
              "      <td>90000.0</td>\n",
              "    </tr>\n",
              "  </tbody>\n",
              "</table>\n",
              "</div>\n",
              "    <div class=\"colab-df-buttons\">\n",
              "\n",
              "  <div class=\"colab-df-container\">\n",
              "    <button class=\"colab-df-convert\" onclick=\"convertToInteractive('df-81b717ca-15ed-47b5-abc0-9c3b6d1f67cb')\"\n",
              "            title=\"Convert this dataframe to an interactive table.\"\n",
              "            style=\"display:none;\">\n",
              "\n",
              "  <svg xmlns=\"http://www.w3.org/2000/svg\" height=\"24px\" viewBox=\"0 -960 960 960\">\n",
              "    <path d=\"M120-120v-720h720v720H120Zm60-500h600v-160H180v160Zm220 220h160v-160H400v160Zm0 220h160v-160H400v160ZM180-400h160v-160H180v160Zm440 0h160v-160H620v160ZM180-180h160v-160H180v160Zm440 0h160v-160H620v160Z\"/>\n",
              "  </svg>\n",
              "    </button>\n",
              "\n",
              "  <style>\n",
              "    .colab-df-container {\n",
              "      display:flex;\n",
              "      gap: 12px;\n",
              "    }\n",
              "\n",
              "    .colab-df-convert {\n",
              "      background-color: #E8F0FE;\n",
              "      border: none;\n",
              "      border-radius: 50%;\n",
              "      cursor: pointer;\n",
              "      display: none;\n",
              "      fill: #1967D2;\n",
              "      height: 32px;\n",
              "      padding: 0 0 0 0;\n",
              "      width: 32px;\n",
              "    }\n",
              "\n",
              "    .colab-df-convert:hover {\n",
              "      background-color: #E2EBFA;\n",
              "      box-shadow: 0px 1px 2px rgba(60, 64, 67, 0.3), 0px 1px 3px 1px rgba(60, 64, 67, 0.15);\n",
              "      fill: #174EA6;\n",
              "    }\n",
              "\n",
              "    .colab-df-buttons div {\n",
              "      margin-bottom: 4px;\n",
              "    }\n",
              "\n",
              "    [theme=dark] .colab-df-convert {\n",
              "      background-color: #3B4455;\n",
              "      fill: #D2E3FC;\n",
              "    }\n",
              "\n",
              "    [theme=dark] .colab-df-convert:hover {\n",
              "      background-color: #434B5C;\n",
              "      box-shadow: 0px 1px 3px 1px rgba(0, 0, 0, 0.15);\n",
              "      filter: drop-shadow(0px 1px 2px rgba(0, 0, 0, 0.3));\n",
              "      fill: #FFFFFF;\n",
              "    }\n",
              "  </style>\n",
              "\n",
              "    <script>\n",
              "      const buttonEl =\n",
              "        document.querySelector('#df-81b717ca-15ed-47b5-abc0-9c3b6d1f67cb button.colab-df-convert');\n",
              "      buttonEl.style.display =\n",
              "        google.colab.kernel.accessAllowed ? 'block' : 'none';\n",
              "\n",
              "      async function convertToInteractive(key) {\n",
              "        const element = document.querySelector('#df-81b717ca-15ed-47b5-abc0-9c3b6d1f67cb');\n",
              "        const dataTable =\n",
              "          await google.colab.kernel.invokeFunction('convertToInteractive',\n",
              "                                                    [key], {});\n",
              "        if (!dataTable) return;\n",
              "\n",
              "        const docLinkHtml = 'Like what you see? Visit the ' +\n",
              "          '<a target=\"_blank\" href=https://colab.research.google.com/notebooks/data_table.ipynb>data table notebook</a>'\n",
              "          + ' to learn more about interactive tables.';\n",
              "        element.innerHTML = '';\n",
              "        dataTable['output_type'] = 'display_data';\n",
              "        await google.colab.output.renderOutput(dataTable, element);\n",
              "        const docLink = document.createElement('div');\n",
              "        docLink.innerHTML = docLinkHtml;\n",
              "        element.appendChild(docLink);\n",
              "      }\n",
              "    </script>\n",
              "  </div>\n",
              "\n",
              "\n",
              "    <div id=\"df-4fce23f8-6df7-4846-9548-ac53c8f082d8\">\n",
              "      <button class=\"colab-df-quickchart\" onclick=\"quickchart('df-4fce23f8-6df7-4846-9548-ac53c8f082d8')\"\n",
              "                title=\"Suggest charts\"\n",
              "                style=\"display:none;\">\n",
              "\n",
              "<svg xmlns=\"http://www.w3.org/2000/svg\" height=\"24px\"viewBox=\"0 0 24 24\"\n",
              "     width=\"24px\">\n",
              "    <g>\n",
              "        <path d=\"M19 3H5c-1.1 0-2 .9-2 2v14c0 1.1.9 2 2 2h14c1.1 0 2-.9 2-2V5c0-1.1-.9-2-2-2zM9 17H7v-7h2v7zm4 0h-2V7h2v10zm4 0h-2v-4h2v4z\"/>\n",
              "    </g>\n",
              "</svg>\n",
              "      </button>\n",
              "\n",
              "<style>\n",
              "  .colab-df-quickchart {\n",
              "      --bg-color: #E8F0FE;\n",
              "      --fill-color: #1967D2;\n",
              "      --hover-bg-color: #E2EBFA;\n",
              "      --hover-fill-color: #174EA6;\n",
              "      --disabled-fill-color: #AAA;\n",
              "      --disabled-bg-color: #DDD;\n",
              "  }\n",
              "\n",
              "  [theme=dark] .colab-df-quickchart {\n",
              "      --bg-color: #3B4455;\n",
              "      --fill-color: #D2E3FC;\n",
              "      --hover-bg-color: #434B5C;\n",
              "      --hover-fill-color: #FFFFFF;\n",
              "      --disabled-bg-color: #3B4455;\n",
              "      --disabled-fill-color: #666;\n",
              "  }\n",
              "\n",
              "  .colab-df-quickchart {\n",
              "    background-color: var(--bg-color);\n",
              "    border: none;\n",
              "    border-radius: 50%;\n",
              "    cursor: pointer;\n",
              "    display: none;\n",
              "    fill: var(--fill-color);\n",
              "    height: 32px;\n",
              "    padding: 0;\n",
              "    width: 32px;\n",
              "  }\n",
              "\n",
              "  .colab-df-quickchart:hover {\n",
              "    background-color: var(--hover-bg-color);\n",
              "    box-shadow: 0 1px 2px rgba(60, 64, 67, 0.3), 0 1px 3px 1px rgba(60, 64, 67, 0.15);\n",
              "    fill: var(--button-hover-fill-color);\n",
              "  }\n",
              "\n",
              "  .colab-df-quickchart-complete:disabled,\n",
              "  .colab-df-quickchart-complete:disabled:hover {\n",
              "    background-color: var(--disabled-bg-color);\n",
              "    fill: var(--disabled-fill-color);\n",
              "    box-shadow: none;\n",
              "  }\n",
              "\n",
              "  .colab-df-spinner {\n",
              "    border: 2px solid var(--fill-color);\n",
              "    border-color: transparent;\n",
              "    border-bottom-color: var(--fill-color);\n",
              "    animation:\n",
              "      spin 1s steps(1) infinite;\n",
              "  }\n",
              "\n",
              "  @keyframes spin {\n",
              "    0% {\n",
              "      border-color: transparent;\n",
              "      border-bottom-color: var(--fill-color);\n",
              "      border-left-color: var(--fill-color);\n",
              "    }\n",
              "    20% {\n",
              "      border-color: transparent;\n",
              "      border-left-color: var(--fill-color);\n",
              "      border-top-color: var(--fill-color);\n",
              "    }\n",
              "    30% {\n",
              "      border-color: transparent;\n",
              "      border-left-color: var(--fill-color);\n",
              "      border-top-color: var(--fill-color);\n",
              "      border-right-color: var(--fill-color);\n",
              "    }\n",
              "    40% {\n",
              "      border-color: transparent;\n",
              "      border-right-color: var(--fill-color);\n",
              "      border-top-color: var(--fill-color);\n",
              "    }\n",
              "    60% {\n",
              "      border-color: transparent;\n",
              "      border-right-color: var(--fill-color);\n",
              "    }\n",
              "    80% {\n",
              "      border-color: transparent;\n",
              "      border-right-color: var(--fill-color);\n",
              "      border-bottom-color: var(--fill-color);\n",
              "    }\n",
              "    90% {\n",
              "      border-color: transparent;\n",
              "      border-bottom-color: var(--fill-color);\n",
              "    }\n",
              "  }\n",
              "</style>\n",
              "\n",
              "      <script>\n",
              "        async function quickchart(key) {\n",
              "          const quickchartButtonEl =\n",
              "            document.querySelector('#' + key + ' button');\n",
              "          quickchartButtonEl.disabled = true;  // To prevent multiple clicks.\n",
              "          quickchartButtonEl.classList.add('colab-df-spinner');\n",
              "          try {\n",
              "            const charts = await google.colab.kernel.invokeFunction(\n",
              "                'suggestCharts', [key], {});\n",
              "          } catch (error) {\n",
              "            console.error('Error during call to suggestCharts:', error);\n",
              "          }\n",
              "          quickchartButtonEl.classList.remove('colab-df-spinner');\n",
              "          quickchartButtonEl.classList.add('colab-df-quickchart-complete');\n",
              "        }\n",
              "        (() => {\n",
              "          let quickchartButtonEl =\n",
              "            document.querySelector('#df-4fce23f8-6df7-4846-9548-ac53c8f082d8 button');\n",
              "          quickchartButtonEl.style.display =\n",
              "            google.colab.kernel.accessAllowed ? 'block' : 'none';\n",
              "        })();\n",
              "      </script>\n",
              "    </div>\n",
              "\n",
              "    </div>\n",
              "  </div>\n"
            ],
            "application/vnd.google.colaboratory.intrinsic+json": {
              "type": "dataframe",
              "summary": "{\n  \"name\": \"us_jobs\",\n  \"rows\": 10,\n  \"fields\": [\n    {\n      \"column\": \"job_title_short\",\n      \"properties\": {\n        \"dtype\": \"string\",\n        \"num_unique_values\": 10,\n        \"samples\": [\n          \"Business Analyst\",\n          \"Machine Learning Engineer\",\n          \"Data Engineer\"\n        ],\n        \"semantic_type\": \"\",\n        \"description\": \"\"\n      }\n    },\n    {\n      \"column\": \"min\",\n      \"properties\": {\n        \"dtype\": \"number\",\n        \"std\": 10398.747446073601,\n        \"min\": 23496.0,\n        \"max\": 55000.0,\n        \"num_unique_values\": 10,\n        \"samples\": [\n          35000.0,\n          44408.5,\n          23496.0\n        ],\n        \"semantic_type\": \"\",\n        \"description\": \"\"\n      }\n    },\n    {\n      \"column\": \"max\",\n      \"properties\": {\n        \"dtype\": \"number\",\n        \"std\": 199334.95414458102,\n        \"min\": 221844.0,\n        \"max\": 960000.0,\n        \"num_unique_values\": 8,\n        \"samples\": [\n          315000.0,\n          221844.0,\n          475000.0\n        ],\n        \"semantic_type\": \"\",\n        \"description\": \"\"\n      }\n    },\n    {\n      \"column\": \"median\",\n      \"properties\": {\n        \"dtype\": \"number\",\n        \"std\": 23458.447897884842,\n        \"min\": 90000.0,\n        \"max\": 155000.0,\n        \"num_unique_values\": 7,\n        \"samples\": [\n          155000.0,\n          150000.0,\n          110000.0\n        ],\n        \"semantic_type\": \"\",\n        \"description\": \"\"\n      }\n    }\n  ]\n}"
            }
          },
          "metadata": {},
          "execution_count": 138
        }
      ]
    },
    {
      "cell_type": "code",
      "source": [
        "# MATPLOTLIB -  visualize data\n",
        "# look at official cheatsheets\n",
        "\n",
        "import matplotlib.pyplot as plt\n",
        "\n"
      ],
      "metadata": {
        "id": "v7iT3EzAyVBj"
      },
      "execution_count": null,
      "outputs": []
    },
    {
      "cell_type": "code",
      "source": [
        "x = np.arange(0,5,0.1)\n",
        "y = np.sin(x)\n",
        "plt.plot(x,y)\n",
        "plt.show()"
      ],
      "metadata": {
        "colab": {
          "base_uri": "https://localhost:8080/",
          "height": 430
        },
        "id": "M8XGFWWbFnii",
        "outputId": "8cd18ac2-516d-403e-cf53-3a0ff7355fbd"
      },
      "execution_count": null,
      "outputs": [
        {
          "output_type": "display_data",
          "data": {
            "text/plain": [
              "<Figure size 640x480 with 1 Axes>"
            ],
            "image/png": "[encoded data removed]"
          },
          "metadata": {}
        }
      ]
    },
    {
      "cell_type": "code",
      "source": [
        "date_counts = df.job_posted_date.value_counts()\n",
        "\n",
        "date_counts = date_counts.sort_index()\n",
        "date_counts"
      ],
      "metadata": {
        "colab": {
          "base_uri": "https://localhost:8080/",
          "height": 490
        },
        "id": "Qd9JaCs1Gc_Y",
        "outputId": "205a5dce-f09f-4954-bae5-be4813a2ec65"
      },
      "execution_count": null,
      "outputs": [
        {
          "output_type": "execute_result",
          "data": {
            "text/plain": [
              "job_posted_date\n",
              "2023-01-01 00:00:04    1\n",
              "2023-01-01 00:00:07    1\n",
              "2023-01-01 00:00:22    1\n",
              "2023-01-01 00:00:24    1\n",
              "2023-01-01 00:00:27    1\n",
              "                      ..\n",
              "2023-12-31 23:40:18    2\n",
              "2023-12-31 23:40:22    2\n",
              "2023-12-31 23:40:31    2\n",
              "2023-12-31 23:40:32    1\n",
              "2023-12-31 23:59:58    2\n",
              "Name: count, Length: 607192, dtype: int64"
            ],
            "text/html": [
              "<div>\n",
              "<style scoped>\n",
              "    .dataframe tbody tr th:only-of-type {\n",
              "        vertical-align: middle;\n",
              "    }\n",
              "\n",
              "    .dataframe tbody tr th {\n",
              "        vertical-align: top;\n",
              "    }\n",
              "\n",
              "    .dataframe thead th {\n",
              "        text-align: right;\n",
              "    }\n",
              "</style>\n",
              "<table border=\"1\" class=\"dataframe\">\n",
              "  <thead>\n",
              "    <tr style=\"text-align: right;\">\n",
              "      <th></th>\n",
              "      <th>count</th>\n",
              "    </tr>\n",
              "    <tr>\n",
              "      <th>job_posted_date</th>\n",
              "      <th></th>\n",
              "    </tr>\n",
              "  </thead>\n",
              "  <tbody>\n",
              "    <tr>\n",
              "      <th>2023-01-01 00:00:04</th>\n",
              "      <td>1</td>\n",
              "    </tr>\n",
              "    <tr>\n",
              "      <th>2023-01-01 00:00:07</th>\n",
              "      <td>1</td>\n",
              "    </tr>\n",
              "    <tr>\n",
              "      <th>2023-01-01 00:00:22</th>\n",
              "      <td>1</td>\n",
              "    </tr>\n",
              "    <tr>\n",
              "      <th>2023-01-01 00:00:24</th>\n",
              "      <td>1</td>\n",
              "    </tr>\n",
              "    <tr>\n",
              "      <th>2023-01-01 00:00:27</th>\n",
              "      <td>1</td>\n",
              "    </tr>\n",
              "    <tr>\n",
              "      <th>...</th>\n",
              "      <td>...</td>\n",
              "    </tr>\n",
              "    <tr>\n",
              "      <th>2023-12-31 23:40:18</th>\n",
              "      <td>2</td>\n",
              "    </tr>\n",
              "    <tr>\n",
              "      <th>2023-12-31 23:40:22</th>\n",
              "      <td>2</td>\n",
              "    </tr>\n",
              "    <tr>\n",
              "      <th>2023-12-31 23:40:31</th>\n",
              "      <td>2</td>\n",
              "    </tr>\n",
              "    <tr>\n",
              "      <th>2023-12-31 23:40:32</th>\n",
              "      <td>1</td>\n",
              "    </tr>\n",
              "    <tr>\n",
              "      <th>2023-12-31 23:59:58</th>\n",
              "      <td>2</td>\n",
              "    </tr>\n",
              "  </tbody>\n",
              "</table>\n",
              "<p>607192 rows × 1 columns</p>\n",
              "</div><br><label><b>dtype:</b> int64</label>"
            ]
          },
          "metadata": {},
          "execution_count": 147
        }
      ]
    },
    {
      "cell_type": "code",
      "source": [
        "df[\"job_posted_month\"] = df[\"job_posted_date\"].dt.month\n"
      ],
      "metadata": {
        "id": "UAWXNIOaH53H"
      },
      "execution_count": null,
      "outputs": []
    },
    {
      "cell_type": "code",
      "source": [
        "monthly_counts = df.job_posted_month.value_counts()\n",
        "monthly_counts = monthly_counts.sort_index()\n",
        "monthly_counts"
      ],
      "metadata": {
        "colab": {
          "base_uri": "https://localhost:8080/",
          "height": 492
        },
        "id": "BgqNuUN1J96U",
        "outputId": "75b132fc-6074-425b-e191-b1c4e35deb87"
      },
      "execution_count": null,
      "outputs": [
        {
          "output_type": "execute_result",
          "data": {
            "text/plain": [
              "job_posted_month\n",
              "1     91822\n",
              "2     64578\n",
              "3     64084\n",
              "4     62919\n",
              "5     52104\n",
              "6     61572\n",
              "7     63777\n",
              "8     75162\n",
              "9     62359\n",
              "10    66611\n",
              "11    64450\n",
              "12    56303\n",
              "Name: count, dtype: int64"
            ],
            "text/html": [
              "<div>\n",
              "<style scoped>\n",
              "    .dataframe tbody tr th:only-of-type {\n",
              "        vertical-align: middle;\n",
              "    }\n",
              "\n",
              "    .dataframe tbody tr th {\n",
              "        vertical-align: top;\n",
              "    }\n",
              "\n",
              "    .dataframe thead th {\n",
              "        text-align: right;\n",
              "    }\n",
              "</style>\n",
              "<table border=\"1\" class=\"dataframe\">\n",
              "  <thead>\n",
              "    <tr style=\"text-align: right;\">\n",
              "      <th></th>\n",
              "      <th>count</th>\n",
              "    </tr>\n",
              "    <tr>\n",
              "      <th>job_posted_month</th>\n",
              "      <th></th>\n",
              "    </tr>\n",
              "  </thead>\n",
              "  <tbody>\n",
              "    <tr>\n",
              "      <th>1</th>\n",
              "      <td>91822</td>\n",
              "    </tr>\n",
              "    <tr>\n",
              "      <th>2</th>\n",
              "      <td>64578</td>\n",
              "    </tr>\n",
              "    <tr>\n",
              "      <th>3</th>\n",
              "      <td>64084</td>\n",
              "    </tr>\n",
              "    <tr>\n",
              "      <th>4</th>\n",
              "      <td>62919</td>\n",
              "    </tr>\n",
              "    <tr>\n",
              "      <th>5</th>\n",
              "      <td>52104</td>\n",
              "    </tr>\n",
              "    <tr>\n",
              "      <th>6</th>\n",
              "      <td>61572</td>\n",
              "    </tr>\n",
              "    <tr>\n",
              "      <th>7</th>\n",
              "      <td>63777</td>\n",
              "    </tr>\n",
              "    <tr>\n",
              "      <th>8</th>\n",
              "      <td>75162</td>\n",
              "    </tr>\n",
              "    <tr>\n",
              "      <th>9</th>\n",
              "      <td>62359</td>\n",
              "    </tr>\n",
              "    <tr>\n",
              "      <th>10</th>\n",
              "      <td>66611</td>\n",
              "    </tr>\n",
              "    <tr>\n",
              "      <th>11</th>\n",
              "      <td>64450</td>\n",
              "    </tr>\n",
              "    <tr>\n",
              "      <th>12</th>\n",
              "      <td>56303</td>\n",
              "    </tr>\n",
              "  </tbody>\n",
              "</table>\n",
              "</div><br><label><b>dtype:</b> int64</label>"
            ]
          },
          "metadata": {},
          "execution_count": 151
        }
      ]
    },
    {
      "cell_type": "code",
      "source": [
        "plt.plot(monthly_counts.index, monthly_counts)"
      ],
      "metadata": {
        "colab": {
          "base_uri": "https://localhost:8080/",
          "height": 448
        },
        "id": "zIVj8i-qKQuM",
        "outputId": "da0dc71d-2706-4576-99c6-87a79bfd1472"
      },
      "execution_count": null,
      "outputs": [
        {
          "output_type": "execute_result",
          "data": {
            "text/plain": [
              "[<matplotlib.lines.Line2D at 0x7afa7154b610>]"
            ]
          },
          "metadata": {},
          "execution_count": 153
        },
        {
          "output_type": "display_data",
          "data": {
            "text/plain": [
              "<Figure size 640x480 with 1 Axes>"
            ],
            "image/png": "[encoded data removed]"
          },
          "metadata": {}
        }
      ]
    },
    {
      "cell_type": "code",
      "source": [
        "# series - 1D array, indexed\n",
        "# BAR charts\n",
        "\n",
        "job_count = df.job_title_short.value_counts()"
      ],
      "metadata": {
        "id": "Eg0se5XqKle4"
      },
      "execution_count": null,
      "outputs": []
    },
    {
      "cell_type": "code",
      "source": [
        "job_count"
      ],
      "metadata": {
        "colab": {
          "base_uri": "https://localhost:8080/",
          "height": 429
        },
        "id": "tVbDAtmziE5i",
        "outputId": "40de0b10-d88a-4428-9646-ba76f375091b"
      },
      "execution_count": null,
      "outputs": [
        {
          "output_type": "execute_result",
          "data": {
            "text/plain": [
              "job_title_short\n",
              "Data Analyst                 196075\n",
              "Data Engineer                186241\n",
              "Data Scientist               172286\n",
              "Business Analyst              49063\n",
              "Software Engineer             44929\n",
              "Senior Data Engineer          44563\n",
              "Senior Data Scientist         36957\n",
              "Senior Data Analyst           29216\n",
              "Machine Learning Engineer     14080\n",
              "Cloud Engineer                12331\n",
              "Name: count, dtype: int64"
            ],
            "text/html": [
              "<div>\n",
              "<style scoped>\n",
              "    .dataframe tbody tr th:only-of-type {\n",
              "        vertical-align: middle;\n",
              "    }\n",
              "\n",
              "    .dataframe tbody tr th {\n",
              "        vertical-align: top;\n",
              "    }\n",
              "\n",
              "    .dataframe thead th {\n",
              "        text-align: right;\n",
              "    }\n",
              "</style>\n",
              "<table border=\"1\" class=\"dataframe\">\n",
              "  <thead>\n",
              "    <tr style=\"text-align: right;\">\n",
              "      <th></th>\n",
              "      <th>count</th>\n",
              "    </tr>\n",
              "    <tr>\n",
              "      <th>job_title_short</th>\n",
              "      <th></th>\n",
              "    </tr>\n",
              "  </thead>\n",
              "  <tbody>\n",
              "    <tr>\n",
              "      <th>Data Analyst</th>\n",
              "      <td>196075</td>\n",
              "    </tr>\n",
              "    <tr>\n",
              "      <th>Data Engineer</th>\n",
              "      <td>186241</td>\n",
              "    </tr>\n",
              "    <tr>\n",
              "      <th>Data Scientist</th>\n",
              "      <td>172286</td>\n",
              "    </tr>\n",
              "    <tr>\n",
              "      <th>Business Analyst</th>\n",
              "      <td>49063</td>\n",
              "    </tr>\n",
              "    <tr>\n",
              "      <th>Software Engineer</th>\n",
              "      <td>44929</td>\n",
              "    </tr>\n",
              "    <tr>\n",
              "      <th>Senior Data Engineer</th>\n",
              "      <td>44563</td>\n",
              "    </tr>\n",
              "    <tr>\n",
              "      <th>Senior Data Scientist</th>\n",
              "      <td>36957</td>\n",
              "    </tr>\n",
              "    <tr>\n",
              "      <th>Senior Data Analyst</th>\n",
              "      <td>29216</td>\n",
              "    </tr>\n",
              "    <tr>\n",
              "      <th>Machine Learning Engineer</th>\n",
              "      <td>14080</td>\n",
              "    </tr>\n",
              "    <tr>\n",
              "      <th>Cloud Engineer</th>\n",
              "      <td>12331</td>\n",
              "    </tr>\n",
              "  </tbody>\n",
              "</table>\n",
              "</div><br><label><b>dtype:</b> int64</label>"
            ]
          },
          "metadata": {},
          "execution_count": 157
        }
      ]
    },
    {
      "cell_type": "code",
      "source": [
        "job_count = job_count.sort_values(ascending = True)\n",
        "plt.barh(job_count.index, job_count)\n",
        "plt.show()"
      ],
      "metadata": {
        "colab": {
          "base_uri": "https://localhost:8080/",
          "height": 430
        },
        "id": "hjxql6aJiPDV",
        "outputId": "46849b4e-31d9-4e24-ff38-46651bac5d9f"
      },
      "execution_count": null,
      "outputs": [
        {
          "output_type": "display_data",
          "data": {
            "text/plain": [
              "<Figure size 640x480 with 1 Axes>"
            ],
            "image/png": "[encoded data removed]"
          },
          "metadata": {}
        }
      ]
    },
    {
      "cell_type": "code",
      "source": [
        "# labelling\n",
        "plt.bar(job_count.index,job_count)\n",
        "plt.title(\"Job Title Counts\")\n",
        "plt.xticks(rotation = 45, ha = \"right\")\n",
        "plt.xlabel(\"Job Title\")\n",
        "plt.ylabel(\"Count\")\n",
        "plt.show()"
      ],
      "metadata": {
        "colab": {
          "base_uri": "https://localhost:8080/",
          "height": 601
        },
        "id": "NckKlC16ieq2",
        "outputId": "143f87ef-5413-4a2a-c503-cd2f4182e1a3"
      },
      "execution_count": null,
      "outputs": [
        {
          "output_type": "display_data",
          "data": {
            "text/plain": [
              "<Figure size 640x480 with 1 Axes>"
            ],
            "image/png": "[encoded data removed]"
          },
          "metadata": {}
        }
      ]
    },
    {
      "cell_type": "code",
      "source": [
        "# plot with pandas\n",
        "job_count.plot(kind = \"bar\")\n"
      ],
      "metadata": {
        "id": "vucqNzgIkbia"
      },
      "execution_count": null,
      "outputs": []
    },
    {
      "cell_type": "code",
      "source": [
        "# labelling\n",
        "plt.bar(job_count.index,job_count)\n",
        "plt.title(\"Job Title Counts\")\n",
        "plt.xticks(rotation = 45, ha = \"right\")\n",
        "plt.xlabel(\"Job Title\")\n",
        "plt.ylabel(\"Count\")\n",
        "plt.show()"
      ],
      "metadata": {
        "colab": {
          "base_uri": "https://localhost:8080/",
          "height": 601
        },
        "outputId": "f219ddbd-d00b-4313-aca3-6870b240c7cc",
        "id": "igM3E19Sm4IB"
      },
      "execution_count": null,
      "outputs": [
        {
          "output_type": "display_data",
          "data": {
            "text/plain": [
              "<Figure size 640x480 with 1 Axes>"
            ],
            "image/png": "[encoded data removed]"
          },
          "metadata": {}
        }
      ]
    },
    {
      "cell_type": "code",
      "source": [
        "df[[\"job_posted_date\", \"salary_year_avg\"]].dropna(subset = [\"salary_year_avg\"])"
      ],
      "metadata": {
        "colab": {
          "base_uri": "https://localhost:8080/",
          "height": 424
        },
        "id": "54vPQKzum4Zs",
        "outputId": "2ba8b088-305b-468a-96cd-a9e947d45637"
      },
      "execution_count": null,
      "outputs": [
        {
          "output_type": "execute_result",
          "data": {
            "text/plain": [
              "        job_posted_date  salary_year_avg\n",
              "108883                1         110000.0\n",
              "334082                1          65000.0\n",
              "365786                1          90000.0\n",
              "366073                1          55000.0\n",
              "108099                1         120531.0\n",
              "...                 ...              ...\n",
              "186163               12         271526.5\n",
              "421728               12          72750.0\n",
              "313161               12         114062.5\n",
              "336301               12         162500.0\n",
              "327439               12         140000.0\n",
              "\n",
              "[22003 rows x 2 columns]"
            ],
            "text/html": [
              "\n",
              "  <div id=\"df-2c9daae9-c373-4736-b714-bd99145d20e1\" class=\"colab-df-container\">\n",
              "    <div>\n",
              "<style scoped>\n",
              "    .dataframe tbody tr th:only-of-type {\n",
              "        vertical-align: middle;\n",
              "    }\n",
              "\n",
              "    .dataframe tbody tr th {\n",
              "        vertical-align: top;\n",
              "    }\n",
              "\n",
              "    .dataframe thead th {\n",
              "        text-align: right;\n",
              "    }\n",
              "</style>\n",
              "<table border=\"1\" class=\"dataframe\">\n",
              "  <thead>\n",
              "    <tr style=\"text-align: right;\">\n",
              "      <th></th>\n",
              "      <th>job_posted_date</th>\n",
              "      <th>salary_year_avg</th>\n",
              "    </tr>\n",
              "  </thead>\n",
              "  <tbody>\n",
              "    <tr>\n",
              "      <th>108883</th>\n",
              "      <td>1</td>\n",
              "      <td>110000.0</td>\n",
              "    </tr>\n",
              "    <tr>\n",
              "      <th>334082</th>\n",
              "      <td>1</td>\n",
              "      <td>65000.0</td>\n",
              "    </tr>\n",
              "    <tr>\n",
              "      <th>365786</th>\n",
              "      <td>1</td>\n",
              "      <td>90000.0</td>\n",
              "    </tr>\n",
              "    <tr>\n",
              "      <th>366073</th>\n",
              "      <td>1</td>\n",
              "      <td>55000.0</td>\n",
              "    </tr>\n",
              "    <tr>\n",
              "      <th>108099</th>\n",
              "      <td>1</td>\n",
              "      <td>120531.0</td>\n",
              "    </tr>\n",
              "    <tr>\n",
              "      <th>...</th>\n",
              "      <td>...</td>\n",
              "      <td>...</td>\n",
              "    </tr>\n",
              "    <tr>\n",
              "      <th>186163</th>\n",
              "      <td>12</td>\n",
              "      <td>271526.5</td>\n",
              "    </tr>\n",
              "    <tr>\n",
              "      <th>421728</th>\n",
              "      <td>12</td>\n",
              "      <td>72750.0</td>\n",
              "    </tr>\n",
              "    <tr>\n",
              "      <th>313161</th>\n",
              "      <td>12</td>\n",
              "      <td>114062.5</td>\n",
              "    </tr>\n",
              "    <tr>\n",
              "      <th>336301</th>\n",
              "      <td>12</td>\n",
              "      <td>162500.0</td>\n",
              "    </tr>\n",
              "    <tr>\n",
              "      <th>327439</th>\n",
              "      <td>12</td>\n",
              "      <td>140000.0</td>\n",
              "    </tr>\n",
              "  </tbody>\n",
              "</table>\n",
              "<p>22003 rows × 2 columns</p>\n",
              "</div>\n",
              "    <div class=\"colab-df-buttons\">\n",
              "\n",
              "  <div class=\"colab-df-container\">\n",
              "    <button class=\"colab-df-convert\" onclick=\"convertToInteractive('df-2c9daae9-c373-4736-b714-bd99145d20e1')\"\n",
              "            title=\"Convert this dataframe to an interactive table.\"\n",
              "            style=\"display:none;\">\n",
              "\n",
              "  <svg xmlns=\"http://www.w3.org/2000/svg\" height=\"24px\" viewBox=\"0 -960 960 960\">\n",
              "    <path d=\"M120-120v-720h720v720H120Zm60-500h600v-160H180v160Zm220 220h160v-160H400v160Zm0 220h160v-160H400v160ZM180-400h160v-160H180v160Zm440 0h160v-160H620v160ZM180-180h160v-160H180v160Zm440 0h160v-160H620v160Z\"/>\n",
              "  </svg>\n",
              "    </button>\n",
              "\n",
              "  <style>\n",
              "    .colab-df-container {\n",
              "      display:flex;\n",
              "      gap: 12px;\n",
              "    }\n",
              "\n",
              "    .colab-df-convert {\n",
              "      background-color: #E8F0FE;\n",
              "      border: none;\n",
              "      border-radius: 50%;\n",
              "      cursor: pointer;\n",
              "      display: none;\n",
              "      fill: #1967D2;\n",
              "      height: 32px;\n",
              "      padding: 0 0 0 0;\n",
              "      width: 32px;\n",
              "    }\n",
              "\n",
              "    .colab-df-convert:hover {\n",
              "      background-color: #E2EBFA;\n",
              "      box-shadow: 0px 1px 2px rgba(60, 64, 67, 0.3), 0px 1px 3px 1px rgba(60, 64, 67, 0.15);\n",
              "      fill: #174EA6;\n",
              "    }\n",
              "\n",
              "    .colab-df-buttons div {\n",
              "      margin-bottom: 4px;\n",
              "    }\n",
              "\n",
              "    [theme=dark] .colab-df-convert {\n",
              "      background-color: #3B4455;\n",
              "      fill: #D2E3FC;\n",
              "    }\n",
              "\n",
              "    [theme=dark] .colab-df-convert:hover {\n",
              "      background-color: #434B5C;\n",
              "      box-shadow: 0px 1px 3px 1px rgba(0, 0, 0, 0.15);\n",
              "      filter: drop-shadow(0px 1px 2px rgba(0, 0, 0, 0.3));\n",
              "      fill: #FFFFFF;\n",
              "    }\n",
              "  </style>\n",
              "\n",
              "    <script>\n",
              "      const buttonEl =\n",
              "        document.querySelector('#df-2c9daae9-c373-4736-b714-bd99145d20e1 button.colab-df-convert');\n",
              "      buttonEl.style.display =\n",
              "        google.colab.kernel.accessAllowed ? 'block' : 'none';\n",
              "\n",
              "      async function convertToInteractive(key) {\n",
              "        const element = document.querySelector('#df-2c9daae9-c373-4736-b714-bd99145d20e1');\n",
              "        const dataTable =\n",
              "          await google.colab.kernel.invokeFunction('convertToInteractive',\n",
              "                                                    [key], {});\n",
              "        if (!dataTable) return;\n",
              "\n",
              "        const docLinkHtml = 'Like what you see? Visit the ' +\n",
              "          '<a target=\"_blank\" href=https://colab.research.google.com/notebooks/data_table.ipynb>data table notebook</a>'\n",
              "          + ' to learn more about interactive tables.';\n",
              "        element.innerHTML = '';\n",
              "        dataTable['output_type'] = 'display_data';\n",
              "        await google.colab.output.renderOutput(dataTable, element);\n",
              "        const docLink = document.createElement('div');\n",
              "        docLink.innerHTML = docLinkHtml;\n",
              "        element.appendChild(docLink);\n",
              "      }\n",
              "    </script>\n",
              "  </div>\n",
              "\n",
              "\n",
              "    <div id=\"df-b5cfdb23-68a6-4bb2-b416-7be7ca2a51c2\">\n",
              "      <button class=\"colab-df-quickchart\" onclick=\"quickchart('df-b5cfdb23-68a6-4bb2-b416-7be7ca2a51c2')\"\n",
              "                title=\"Suggest charts\"\n",
              "                style=\"display:none;\">\n",
              "\n",
              "<svg xmlns=\"http://www.w3.org/2000/svg\" height=\"24px\"viewBox=\"0 0 24 24\"\n",
              "     width=\"24px\">\n",
              "    <g>\n",
              "        <path d=\"M19 3H5c-1.1 0-2 .9-2 2v14c0 1.1.9 2 2 2h14c1.1 0 2-.9 2-2V5c0-1.1-.9-2-2-2zM9 17H7v-7h2v7zm4 0h-2V7h2v10zm4 0h-2v-4h2v4z\"/>\n",
              "    </g>\n",
              "</svg>\n",
              "      </button>\n",
              "\n",
              "<style>\n",
              "  .colab-df-quickchart {\n",
              "      --bg-color: #E8F0FE;\n",
              "      --fill-color: #1967D2;\n",
              "      --hover-bg-color: #E2EBFA;\n",
              "      --hover-fill-color: #174EA6;\n",
              "      --disabled-fill-color: #AAA;\n",
              "      --disabled-bg-color: #DDD;\n",
              "  }\n",
              "\n",
              "  [theme=dark] .colab-df-quickchart {\n",
              "      --bg-color: #3B4455;\n",
              "      --fill-color: #D2E3FC;\n",
              "      --hover-bg-color: #434B5C;\n",
              "      --hover-fill-color: #FFFFFF;\n",
              "      --disabled-bg-color: #3B4455;\n",
              "      --disabled-fill-color: #666;\n",
              "  }\n",
              "\n",
              "  .colab-df-quickchart {\n",
              "    background-color: var(--bg-color);\n",
              "    border: none;\n",
              "    border-radius: 50%;\n",
              "    cursor: pointer;\n",
              "    display: none;\n",
              "    fill: var(--fill-color);\n",
              "    height: 32px;\n",
              "    padding: 0;\n",
              "    width: 32px;\n",
              "  }\n",
              "\n",
              "  .colab-df-quickchart:hover {\n",
              "    background-color: var(--hover-bg-color);\n",
              "    box-shadow: 0 1px 2px rgba(60, 64, 67, 0.3), 0 1px 3px 1px rgba(60, 64, 67, 0.15);\n",
              "    fill: var(--button-hover-fill-color);\n",
              "  }\n",
              "\n",
              "  .colab-df-quickchart-complete:disabled,\n",
              "  .colab-df-quickchart-complete:disabled:hover {\n",
              "    background-color: var(--disabled-bg-color);\n",
              "    fill: var(--disabled-fill-color);\n",
              "    box-shadow: none;\n",
              "  }\n",
              "\n",
              "  .colab-df-spinner {\n",
              "    border: 2px solid var(--fill-color);\n",
              "    border-color: transparent;\n",
              "    border-bottom-color: var(--fill-color);\n",
              "    animation:\n",
              "      spin 1s steps(1) infinite;\n",
              "  }\n",
              "\n",
              "  @keyframes spin {\n",
              "    0% {\n",
              "      border-color: transparent;\n",
              "      border-bottom-color: var(--fill-color);\n",
              "      border-left-color: var(--fill-color);\n",
              "    }\n",
              "    20% {\n",
              "      border-color: transparent;\n",
              "      border-left-color: var(--fill-color);\n",
              "      border-top-color: var(--fill-color);\n",
              "    }\n",
              "    30% {\n",
              "      border-color: transparent;\n",
              "      border-left-color: var(--fill-color);\n",
              "      border-top-color: var(--fill-color);\n",
              "      border-right-color: var(--fill-color);\n",
              "    }\n",
              "    40% {\n",
              "      border-color: transparent;\n",
              "      border-right-color: var(--fill-color);\n",
              "      border-top-color: var(--fill-color);\n",
              "    }\n",
              "    60% {\n",
              "      border-color: transparent;\n",
              "      border-right-color: var(--fill-color);\n",
              "    }\n",
              "    80% {\n",
              "      border-color: transparent;\n",
              "      border-right-color: var(--fill-color);\n",
              "      border-bottom-color: var(--fill-color);\n",
              "    }\n",
              "    90% {\n",
              "      border-color: transparent;\n",
              "      border-bottom-color: var(--fill-color);\n",
              "    }\n",
              "  }\n",
              "</style>\n",
              "\n",
              "      <script>\n",
              "        async function quickchart(key) {\n",
              "          const quickchartButtonEl =\n",
              "            document.querySelector('#' + key + ' button');\n",
              "          quickchartButtonEl.disabled = true;  // To prevent multiple clicks.\n",
              "          quickchartButtonEl.classList.add('colab-df-spinner');\n",
              "          try {\n",
              "            const charts = await google.colab.kernel.invokeFunction(\n",
              "                'suggestCharts', [key], {});\n",
              "          } catch (error) {\n",
              "            console.error('Error during call to suggestCharts:', error);\n",
              "          }\n",
              "          quickchartButtonEl.classList.remove('colab-df-spinner');\n",
              "          quickchartButtonEl.classList.add('colab-df-quickchart-complete');\n",
              "        }\n",
              "        (() => {\n",
              "          let quickchartButtonEl =\n",
              "            document.querySelector('#df-b5cfdb23-68a6-4bb2-b416-7be7ca2a51c2 button');\n",
              "          quickchartButtonEl.style.display =\n",
              "            google.colab.kernel.accessAllowed ? 'block' : 'none';\n",
              "        })();\n",
              "      </script>\n",
              "    </div>\n",
              "\n",
              "    </div>\n",
              "  </div>\n"
            ],
            "application/vnd.google.colaboratory.intrinsic+json": {
              "type": "dataframe",
              "summary": "{\n  \"name\": \"df[[\\\"job_posted_date\\\", \\\"salary_year_avg\\\"]]\",\n  \"rows\": 22003,\n  \"fields\": [\n    {\n      \"column\": \"job_posted_date\",\n      \"properties\": {\n        \"dtype\": \"int32\",\n        \"num_unique_values\": 12,\n        \"samples\": [\n          11,\n          10,\n          1\n        ],\n        \"semantic_type\": \"\",\n        \"description\": \"\"\n      }\n    },\n    {\n      \"column\": \"salary_year_avg\",\n      \"properties\": {\n        \"dtype\": \"number\",\n        \"std\": 48312.44948172893,\n        \"min\": 15000.0,\n        \"max\": 960000.0,\n        \"num_unique_values\": 2702,\n        \"samples\": [\n          64890.0,\n          119562.5,\n          124050.0\n        ],\n        \"semantic_type\": \"\",\n        \"description\": \"\"\n      }\n    }\n  ]\n}"
            }
          },
          "metadata": {},
          "execution_count": 167
        }
      ]
    },
    {
      "cell_type": "code",
      "source": [
        "job_salary = df.groupby(\"job_title_short\")[\"salary_year_avg\"].median().sort_values()"
      ],
      "metadata": {
        "id": "TAgHx_ICpEkn"
      },
      "execution_count": null,
      "outputs": []
    },
    {
      "cell_type": "code",
      "source": [
        "job_salary.plot(kind = \"barh\")\n",
        "plt.xlabel(\"Salary (£)\")\n",
        "plt.ylabel(\"Job Title\")\n",
        "plt.title(\"Median Salary by Job Title\")\n",
        "plt.show()"
      ],
      "metadata": {
        "colab": {
          "base_uri": "https://localhost:8080/",
          "height": 472
        },
        "id": "0ceBk3KXpcYC",
        "outputId": "c66cd184-e1e2-4c5e-cd81-5d83eaa595e7"
      },
      "execution_count": null,
      "outputs": [
        {
          "output_type": "display_data",
          "data": {
            "text/plain": [
              "<Figure size 640x480 with 1 Axes>"
            ],
            "image/png": "[encoded data removed]"
          },
          "metadata": {}
        }
      ]
    },
    {
      "cell_type": "code",
      "source": [
        "# anaconda python\n"
      ],
      "metadata": {
        "id": "SckZA2GzsAMX"
      },
      "execution_count": null,
      "outputs": []
    }
  ]
}